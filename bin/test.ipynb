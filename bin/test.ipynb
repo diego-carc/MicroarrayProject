{
 "cells": [
  {
   "cell_type": "markdown",
   "metadata": {},
   "source": [
    "# GPL Tables content"
   ]
  },
  {
   "cell_type": "code",
   "execution_count": 1,
   "metadata": {},
   "outputs": [],
   "source": [
    "# Load libraries\n",
    "import pandas as pd\n",
    "import os\n",
    "import re"
   ]
  },
  {
   "cell_type": "code",
   "execution_count": 2,
   "metadata": {},
   "outputs": [],
   "source": [
    "# Read data from getGeoTest.tsv\n",
    "data = pd.read_csv(\"../data/GPL_Supp_analisys/getGeoTest.tsv\", sep='\\t', usecols=[\"GPL_supplementary_file\", \"GSM_geo_accession\", \"GPL_geo_accession\", \"GPL_manufacturer\",\"TaxId\"]).drop_duplicates()"
   ]
  },
  {
   "cell_type": "code",
   "execution_count": 3,
   "metadata": {},
   "outputs": [],
   "source": [
    "# Add GPL_Table Column\n",
    "gpls = [f.strip('.txt') for f in os.listdir(\"../../GPL_Tables/\")]\n",
    "data[\"GPL_Table\"] = data.GPL_geo_accession.apply(lambda f : os.path.join(\"../../GPL_Tables/\", f\"{f}.txt\") if f in gpls else \"None\") "
   ]
  },
  {
   "cell_type": "code",
   "execution_count": 4,
   "metadata": {},
   "outputs": [],
   "source": [
    "# Convert NaN to \"None\"\n",
    "data[\"GPL_supplementary_file\"] = data.GPL_supplementary_file.fillna(\"None\")"
   ]
  },
  {
   "cell_type": "code",
   "execution_count": 5,
   "metadata": {},
   "outputs": [],
   "source": [
    "# Add GPL supplementary type\n",
    "def gplType(row):\n",
    "    if row.GPL_supplementary_file == \"None\":\n",
    "        if row.GPL_Table == \"None\": return \"Neither\"\n",
    "        return \"OnlyTable\" \n",
    "    if re.search(r\".ndf|.cdf|.gal\", row.GPL_supplementary_file): \n",
    "        if row.GPL_Table == \"None\":\n",
    "            return \"OnlyGoodSupp\"\n",
    "        return \"GoodSuppAndTab\"\n",
    "    if row.GPL_Table == \"None\":\n",
    "        return \"OnlyBadSupp\"\n",
    "    return \"BadSuppAndTab\"\n",
    "\n",
    "data[\"GPL_type\"] = data.apply(gplType, axis=1)\n",
    "\n",
    "\n"
   ]
  },
  {
   "cell_type": "code",
   "execution_count": 6,
   "metadata": {},
   "outputs": [
    {
     "data": {
      "text/plain": [
       "GPL_type\n",
       "OnlyTable         4665\n",
       "GoodSuppAndTab    2015\n",
       "BadSuppAndTab      429\n",
       "OnlyBadSupp          3\n",
       "Name: count, dtype: int64"
      ]
     },
     "execution_count": 6,
     "metadata": {},
     "output_type": "execute_result"
    }
   ],
   "source": [
    "# GSM Distribution\n",
    "data.GPL_type.value_counts()"
   ]
  },
  {
   "cell_type": "code",
   "execution_count": 7,
   "metadata": {},
   "outputs": [
    {
     "data": {
      "text/plain": [
       "GPL_type\n",
       "OnlyTable         120\n",
       "GoodSuppAndTab     47\n",
       "BadSuppAndTab      21\n",
       "OnlyBadSupp         1\n",
       "Name: count, dtype: int64"
      ]
     },
     "execution_count": 7,
     "metadata": {},
     "output_type": "execute_result"
    }
   ],
   "source": [
    "# GPL distribtution\n",
    "data[[\"GPL_type\", \"GPL_geo_accession\"]].drop_duplicates().GPL_type.value_counts()"
   ]
  },
  {
   "cell_type": "code",
   "execution_count": 8,
   "metadata": {},
   "outputs": [],
   "source": [
    "# OnlyTable\n",
    "onlyTable = [t for t in data[data.GPL_type == \"OnlyTable\"].GPL_Table.unique()]\n"
   ]
  },
  {
   "cell_type": "code",
   "execution_count": 9,
   "metadata": {},
   "outputs": [],
   "source": [
    "# Find headers\n",
    "def findHeaders(file):\n",
    "\n",
    "    with open(file) as f:\n",
    "        for i,line in enumerate(f.readlines()):\n",
    "            if len(h := line.split('\\t')) >= 2: return {col.strip() for col in h}\n"
   ]
  },
  {
   "cell_type": "code",
   "execution_count": 10,
   "metadata": {},
   "outputs": [],
   "source": [
    "# Get headers\n",
    "gplHeaders = {re.search(r\"(GPL\\d+)\", file).group() :  findHeaders(file) for file in onlyTable}"
   ]
  },
  {
   "cell_type": "code",
   "execution_count": 11,
   "metadata": {},
   "outputs": [
    {
     "name": "stdout",
     "output_type": "stream",
     "text": [
      "GPL_table_header_len\n",
      "7     18\n",
      "6     15\n",
      "8     12\n",
      "9     11\n",
      "5     10\n",
      "13     8\n",
      "4      6\n",
      "16     6\n",
      "14     5\n",
      "10     5\n",
      "11     5\n",
      "3      4\n",
      "19     3\n",
      "17     3\n",
      "2      2\n",
      "15     2\n",
      "12     1\n",
      "33     1\n",
      "23     1\n",
      "18     1\n",
      "21     1\n",
      "Name: count, dtype: int64\n"
     ]
    },
    {
     "data": {
      "text/plain": [
       "<Axes: xlabel='GPL_table_header_len'>"
      ]
     },
     "execution_count": 11,
     "metadata": {},
     "output_type": "execute_result"
    },
    {
     "data": {
      "image/png": "[encoded data removed]",
      "text/plain": [
       "<Figure size 640x480 with 1 Axes>"
      ]
     },
     "metadata": {},
     "output_type": "display_data"
    }
   ],
   "source": [
    "# Column number distribution\n",
    "temp = pd.DataFrame.from_dict({\"GPL_geo_accession\": gplHeaders.keys(), \"GPL_table_header\":gplHeaders.values()})\n",
    "temp[\"GPL_table_header_len\"] = temp.GPL_table_header.apply(len)\n",
    "print(temp.GPL_table_header_len.value_counts())\n",
    "temp.GPL_table_header_len.value_counts().plot(kind=\"bar\")"
   ]
  },
  {
   "cell_type": "code",
   "execution_count": 12,
   "metadata": {},
   "outputs": [
    {
     "data": {
      "text/html": [
       "<div>\n",
       "<style scoped>\n",
       "    .dataframe tbody tr th:only-of-type {\n",
       "        vertical-align: middle;\n",
       "    }\n",
       "\n",
       "    .dataframe tbody tr th {\n",
       "        vertical-align: top;\n",
       "    }\n",
       "\n",
       "    .dataframe thead th {\n",
       "        text-align: right;\n",
       "    }\n",
       "</style>\n",
       "<table border=\"1\" class=\"dataframe\">\n",
       "  <thead>\n",
       "    <tr style=\"text-align: right;\">\n",
       "      <th></th>\n",
       "      <th>GPL_geo_accession</th>\n",
       "      <th>GPL_table_header</th>\n",
       "      <th>GPL_table_header_len</th>\n",
       "    </tr>\n",
       "  </thead>\n",
       "  <tbody>\n",
       "    <tr>\n",
       "      <th>2</th>\n",
       "      <td>GPL15025</td>\n",
       "      <td>{ORGANISM, GENE, ORF, SEQUENCE, GENOME_ACC, ID...</td>\n",
       "      <td>7</td>\n",
       "    </tr>\n",
       "    <tr>\n",
       "      <th>5</th>\n",
       "      <td>GPL10901</td>\n",
       "      <td>{SPOT_ID, Feature, ORF, SEQUENCE, ID, Probe Na...</td>\n",
       "      <td>7</td>\n",
       "    </tr>\n",
       "    <tr>\n",
       "      <th>15</th>\n",
       "      <td>GPL19905</td>\n",
       "      <td>{Discription, SPOT_ID, raw, column, ORF, Block...</td>\n",
       "      <td>7</td>\n",
       "    </tr>\n",
       "    <tr>\n",
       "      <th>16</th>\n",
       "      <td>GPL14656</td>\n",
       "      <td>{Spot_Id, DESCRIPTION, PRODUCT, ORF, SEQUENCE,...</td>\n",
       "      <td>7</td>\n",
       "    </tr>\n",
       "    <tr>\n",
       "      <th>27</th>\n",
       "      <td>GPL5482</td>\n",
       "      <td>{LOCUS_TAG, SPOT_ID, Gene_Desc, ORF, SEQUENCE,...</td>\n",
       "      <td>7</td>\n",
       "    </tr>\n",
       "    <tr>\n",
       "      <th>31</th>\n",
       "      <td>GPL10041</td>\n",
       "      <td>{synonym, probeset_id, description, ORF, pid, ...</td>\n",
       "      <td>7</td>\n",
       "    </tr>\n",
       "    <tr>\n",
       "      <th>34</th>\n",
       "      <td>GPL6540</td>\n",
       "      <td>{GENE_DESCR_MFR, SPOT_ID, GENE_NAME, POS_DESCR...</td>\n",
       "      <td>7</td>\n",
       "    </tr>\n",
       "    <tr>\n",
       "      <th>37</th>\n",
       "      <td>GPL25141</td>\n",
       "      <td>{SPOT_ID, ORDER, GeneName, SEQUENCE, ProbeName...</td>\n",
       "      <td>7</td>\n",
       "    </tr>\n",
       "    <tr>\n",
       "      <th>54</th>\n",
       "      <td>GPL8768</td>\n",
       "      <td>{Oligo_ID, SPOT_ID, Gene_Description, Gene_Sym...</td>\n",
       "      <td>7</td>\n",
       "    </tr>\n",
       "    <tr>\n",
       "      <th>67</th>\n",
       "      <td>GPL8646</td>\n",
       "      <td>{DESCRIPTION, SYMBOL, GENELOC, SEQUENCE, ID, O...</td>\n",
       "      <td>7</td>\n",
       "    </tr>\n",
       "    <tr>\n",
       "      <th>71</th>\n",
       "      <td>GPL11371</td>\n",
       "      <td>{scoID, TargetID, description, ORF, SEQUENCE, ...</td>\n",
       "      <td>7</td>\n",
       "    </tr>\n",
       "    <tr>\n",
       "      <th>76</th>\n",
       "      <td>GPL4001</td>\n",
       "      <td>{SPOT_ID, SP ID, Row, ORF, Block, ID, Column}</td>\n",
       "      <td>7</td>\n",
       "    </tr>\n",
       "    <tr>\n",
       "      <th>83</th>\n",
       "      <td>GPL5053</td>\n",
       "      <td>{SPOT_ID, SP ID, Row, ORF, Block, ID, Column}</td>\n",
       "      <td>7</td>\n",
       "    </tr>\n",
       "    <tr>\n",
       "      <th>86</th>\n",
       "      <td>GPL3881</td>\n",
       "      <td>{ID_ANNOTATED, SPOT_ID, AMPLICON LENGTH, GI, O...</td>\n",
       "      <td>7</td>\n",
       "    </tr>\n",
       "    <tr>\n",
       "      <th>92</th>\n",
       "      <td>GPL14578</td>\n",
       "      <td>{SPOT_ID, OldID, REF, ORF, SEQUENCE, Name, ID}</td>\n",
       "      <td>7</td>\n",
       "    </tr>\n",
       "    <tr>\n",
       "      <th>97</th>\n",
       "      <td>GPL8518</td>\n",
       "      <td>{Spot Column, Array Column, Spot Row, ORF, Nam...</td>\n",
       "      <td>7</td>\n",
       "    </tr>\n",
       "    <tr>\n",
       "      <th>104</th>\n",
       "      <td>GPL20761</td>\n",
       "      <td>{SPOT_ID, protein accn, SystematicName, ORF, S...</td>\n",
       "      <td>7</td>\n",
       "    </tr>\n",
       "    <tr>\n",
       "      <th>108</th>\n",
       "      <td>GPL29897</td>\n",
       "      <td>{Annotation, Start, Stop, ORF, Gene name, GENO...</td>\n",
       "      <td>7</td>\n",
       "    </tr>\n",
       "  </tbody>\n",
       "</table>\n",
       "</div>"
      ],
      "text/plain": [
       "    GPL_geo_accession                                   GPL_table_header  \\\n",
       "2            GPL15025  {ORGANISM, GENE, ORF, SEQUENCE, GENOME_ACC, ID...   \n",
       "5            GPL10901  {SPOT_ID, Feature, ORF, SEQUENCE, ID, Probe Na...   \n",
       "15           GPL19905  {Discription, SPOT_ID, raw, column, ORF, Block...   \n",
       "16           GPL14656  {Spot_Id, DESCRIPTION, PRODUCT, ORF, SEQUENCE,...   \n",
       "27            GPL5482  {LOCUS_TAG, SPOT_ID, Gene_Desc, ORF, SEQUENCE,...   \n",
       "31           GPL10041  {synonym, probeset_id, description, ORF, pid, ...   \n",
       "34            GPL6540  {GENE_DESCR_MFR, SPOT_ID, GENE_NAME, POS_DESCR...   \n",
       "37           GPL25141  {SPOT_ID, ORDER, GeneName, SEQUENCE, ProbeName...   \n",
       "54            GPL8768  {Oligo_ID, SPOT_ID, Gene_Description, Gene_Sym...   \n",
       "67            GPL8646  {DESCRIPTION, SYMBOL, GENELOC, SEQUENCE, ID, O...   \n",
       "71           GPL11371  {scoID, TargetID, description, ORF, SEQUENCE, ...   \n",
       "76            GPL4001      {SPOT_ID, SP ID, Row, ORF, Block, ID, Column}   \n",
       "83            GPL5053      {SPOT_ID, SP ID, Row, ORF, Block, ID, Column}   \n",
       "86            GPL3881  {ID_ANNOTATED, SPOT_ID, AMPLICON LENGTH, GI, O...   \n",
       "92           GPL14578     {SPOT_ID, OldID, REF, ORF, SEQUENCE, Name, ID}   \n",
       "97            GPL8518  {Spot Column, Array Column, Spot Row, ORF, Nam...   \n",
       "104          GPL20761  {SPOT_ID, protein accn, SystematicName, ORF, S...   \n",
       "108          GPL29897  {Annotation, Start, Stop, ORF, Gene name, GENO...   \n",
       "\n",
       "     GPL_table_header_len  \n",
       "2                       7  \n",
       "5                       7  \n",
       "15                      7  \n",
       "16                      7  \n",
       "27                      7  \n",
       "31                      7  \n",
       "34                      7  \n",
       "37                      7  \n",
       "54                      7  \n",
       "67                      7  \n",
       "71                      7  \n",
       "76                      7  \n",
       "83                      7  \n",
       "86                      7  \n",
       "92                      7  \n",
       "97                      7  \n",
       "104                     7  \n",
       "108                     7  "
      ]
     },
     "execution_count": 12,
     "metadata": {},
     "output_type": "execute_result"
    }
   ],
   "source": [
    "temp[temp.GPL_table_header_len == 7]"
   ]
  },
  {
   "cell_type": "code",
   "execution_count": 13,
   "metadata": {},
   "outputs": [],
   "source": [
    "# Get all column names\n",
    "allColNames = [col for header in temp.GPL_table_header for col in header]"
   ]
  },
  {
   "cell_type": "code",
   "execution_count": 14,
   "metadata": {},
   "outputs": [
    {
     "data": {
      "text/plain": [
       "<Axes: >"
      ]
     },
     "execution_count": 14,
     "metadata": {},
     "output_type": "execute_result"
    },
    {
     "data": {
      "image/png": "[encoded data removed]",
      "text/plain": [
       "<Figure size 640x480 with 1 Axes>"
      ]
     },
     "metadata": {},
     "output_type": "display_data"
    }
   ],
   "source": [
    "# Count column names appereances\n",
    "# Column name repetition distribution\n",
    "foo = pd.Series({col : allColNames.count(col) for col in set(allColNames)})\n",
    "foo.value_counts().plot(kind=\"bar\")"
   ]
  },
  {
   "cell_type": "code",
   "execution_count": 15,
   "metadata": {},
   "outputs": [
    {
     "data": {
      "text/plain": [
       "ID             120\n",
       "ORF            106\n",
       "SPOT_ID         81\n",
       "SEQUENCE        69\n",
       "Row             19\n",
       "Block           16\n",
       "Name            16\n",
       "Gene Symbol     14\n",
       "ProbeName       13\n",
       "DESCRIPTION     13\n",
       "dtype: int64"
      ]
     },
     "execution_count": 15,
     "metadata": {},
     "output_type": "execute_result"
    }
   ],
   "source": [
    "# Most Used Col names\n",
    "foo.sort_values(ascending=False).head(n=10)"
   ]
  },
  {
   "cell_type": "code",
   "execution_count": 16,
   "metadata": {},
   "outputs": [
    {
     "name": "stdout",
     "output_type": "stream",
     "text": [
      "GPL343\t{'GENE_SYMBOL', 'SPOT_ID', 'GB_ACC', 'SEQDERIVEDFROM', 'ID', 'SEQ_DEF'}\t6\n",
      "GPL22561\t{'SPOT_ID', 'Cglutamicum_Locus_Tag', 'Row', 'Cglutamicum_Gene_Annotation', 'SEQUENCE', 'Name', 'Block', 'ID', 'Column'}\t9\n",
      "GPL16048\t{'GENE_SYMBOL', 'DESCRIPTION', 'NAME', 'SPOT_ID', 'CHROMOSOMAL_LOCATION', 'GENE_NAME', 'COL', 'CONTROL_TYPE', 'GO_ID', 'SEQUENCE', 'ROW', 'ID', 'ACCESSION_STRING', 'LOCUSLINK_ID'}\t14\n",
      "GPL7535\t{'GENE_SYMBOL', 'pO157_ORF_Name', 'GENE_DESC', 'K12_ORF_name', 'SEQUENCE', 'O157H7_Sakai_ORF_name', 'ID', 'ORF_LIST', 'O157H7_EDL933_ORF_name'}\t9\n",
      "GPL18392\t{'NAME', 'SPOT_ID', 'CHROMOSOMAL_LOCATION', 'COL', 'CONTROL_TYPE', 'SEQUENCE', 'ROW', 'ID'}\t8\n",
      "GPL25141\t{'SPOT_ID', 'ORDER', 'GeneName', 'SEQUENCE', 'ProbeName', 'ID', 'ORF_LIST'}\t7\n",
      "GPL1343\t{'DESCRIPTION', 'CLONE_ID.1', 'SPOT_ID', 'MADB_WELL_ID', 'GENE', 'OLIGO_ID', 'SEQUENCE', 'CLONE_ID', 'ID'}\t9\n",
      "GPL10455\t{'MT gene', 'SPOT_ID', 'Rv gene', 'gene description', 'spot', 'ID', 'ORF_LIST', 'gene symbol'}\t8\n",
      "GPL18296\t{'SPOT_ID', 'ControlType', 'GeneName', 'Identifier', 'Row', 'RefNumber', 'Oligo.ID', 'SEQUENCE', 'Name', 'Block', 'ID', 'ORF_LIST', 'Column'}\t13\n",
      "GPL1339\t{'Representative Public ID', 'SPOT_ID', 'Sequence Type', 'Target Description', 'Gene Symbol', 'Annotation Date', 'Gene Ontology Molecular Function', 'Species Scientific Name', 'Chromosomal Location', 'UniGene ID', 'Entrez Gene', 'GeneChip Array', 'Annotation Description', 'Gene Ontology Biological Process', 'Gene Title', 'ID', 'PT_ACC', 'Transcript ID(Array Design)', 'Gene Ontology Cellular Component'}\t19\n",
      "GPL8646\t{'DESCRIPTION', 'SYMBOL', 'GENELOC', 'SEQUENCE', 'ID', 'ORF_LIST', 'PROBELOC'}\t7\n",
      "GPL536\t{'metarow', 'function', 'row', 'oligo', 'column', 'metacolumn', 'ID', 'CLONE_ID'}\t8\n",
      "GPL2712\t{'SPOT_ID', 'METAROW', 'COLUMN', 'TYPE', 'METACOLUMN', 'CONTROL', 'POLYMER', 'ROW', 'ID'}\t9\n",
      "GPL7137\t{'Staphylococcus aureus [MRSA252]', 'Staphylococcus aureus plasmid [pSAS]', 'Staphylococcus aureus [MSSA476]', 'Staphylococcus aureus plasmid [pCOL]', 'Staphylococcus aureus [Mu50]', 'Staphylococcus aureus plasmid [pN315]', 'Staphylococcus aureus [USA300]', 'Staphylococcus aureus [NCTC8325]', 'Staphylococcus aureus [MW2]', 'Staphylococcus aureus plasmid [pUSA01]', 'Staphylococcus aureus [N315]', 'Staphylococcus aureus plasmid [pUSA03]', 'ID', 'ORF_LIST', 'Staphylococcus aureus [COL]', 'Staphylococcus aureus plasmid [pUSA02]', 'Staphylococcus aureus plasmid [pMu50]'}\t17\n"
     ]
    }
   ],
   "source": [
    "# Headers with no ORF\n",
    "for i,r in temp[temp.GPL_table_header.apply(lambda cols: \"ORF\" not in cols)].iterrows():\n",
    "    print(f\"{r.GPL_geo_accession}\\t{r.GPL_table_header}\\t{len(r.GPL_table_header)}\")"
   ]
  },
  {
   "cell_type": "code",
   "execution_count": 17,
   "metadata": {},
   "outputs": [],
   "source": [
    "xd = data[data.GPL_geo_accession.isin(temp[temp.GPL_table_header.apply(lambda cols: \"ORF\" not in cols)].GPL_geo_accession)]"
   ]
  },
  {
   "cell_type": "code",
   "execution_count": 18,
   "metadata": {},
   "outputs": [
    {
     "data": {
      "text/html": [
       "<div>\n",
       "<style scoped>\n",
       "    .dataframe tbody tr th:only-of-type {\n",
       "        vertical-align: middle;\n",
       "    }\n",
       "\n",
       "    .dataframe tbody tr th {\n",
       "        vertical-align: top;\n",
       "    }\n",
       "\n",
       "    .dataframe thead th {\n",
       "        text-align: right;\n",
       "    }\n",
       "</style>\n",
       "<table border=\"1\" class=\"dataframe\">\n",
       "  <thead>\n",
       "    <tr style=\"text-align: right;\">\n",
       "      <th></th>\n",
       "      <th>TaxId</th>\n",
       "      <th>GPL_geo_accession</th>\n",
       "      <th>GPL_manufacturer</th>\n",
       "      <th>GPL_supplementary_file</th>\n",
       "      <th>GSM_geo_accession</th>\n",
       "      <th>GPL_Table</th>\n",
       "      <th>GPL_type</th>\n",
       "    </tr>\n",
       "  </thead>\n",
       "  <tbody>\n",
       "    <tr>\n",
       "      <th>6874</th>\n",
       "      <td>158878</td>\n",
       "      <td>GPL7137</td>\n",
       "      <td>Agilent</td>\n",
       "      <td>None</td>\n",
       "      <td>GSM1589603</td>\n",
       "      <td>../../GPL_Tables/GPL7137.txt</td>\n",
       "      <td>OnlyTable</td>\n",
       "    </tr>\n",
       "    <tr>\n",
       "      <th>6875</th>\n",
       "      <td>158878</td>\n",
       "      <td>GPL7137</td>\n",
       "      <td>Agilent</td>\n",
       "      <td>None</td>\n",
       "      <td>GSM1589604</td>\n",
       "      <td>../../GPL_Tables/GPL7137.txt</td>\n",
       "      <td>OnlyTable</td>\n",
       "    </tr>\n",
       "    <tr>\n",
       "      <th>6876</th>\n",
       "      <td>158878</td>\n",
       "      <td>GPL7137</td>\n",
       "      <td>Agilent</td>\n",
       "      <td>None</td>\n",
       "      <td>GSM1589605</td>\n",
       "      <td>../../GPL_Tables/GPL7137.txt</td>\n",
       "      <td>OnlyTable</td>\n",
       "    </tr>\n",
       "    <tr>\n",
       "      <th>6877</th>\n",
       "      <td>158878</td>\n",
       "      <td>GPL7137</td>\n",
       "      <td>Agilent</td>\n",
       "      <td>None</td>\n",
       "      <td>GSM1589606</td>\n",
       "      <td>../../GPL_Tables/GPL7137.txt</td>\n",
       "      <td>OnlyTable</td>\n",
       "    </tr>\n",
       "    <tr>\n",
       "      <th>6878</th>\n",
       "      <td>158878</td>\n",
       "      <td>GPL7137</td>\n",
       "      <td>Agilent</td>\n",
       "      <td>None</td>\n",
       "      <td>GSM1589607</td>\n",
       "      <td>../../GPL_Tables/GPL7137.txt</td>\n",
       "      <td>OnlyTable</td>\n",
       "    </tr>\n",
       "    <tr>\n",
       "      <th>...</th>\n",
       "      <td>...</td>\n",
       "      <td>...</td>\n",
       "      <td>...</td>\n",
       "      <td>...</td>\n",
       "      <td>...</td>\n",
       "      <td>...</td>\n",
       "      <td>...</td>\n",
       "    </tr>\n",
       "    <tr>\n",
       "      <th>6933</th>\n",
       "      <td>158878</td>\n",
       "      <td>GPL7137</td>\n",
       "      <td>Agilent</td>\n",
       "      <td>None</td>\n",
       "      <td>GSM569074</td>\n",
       "      <td>../../GPL_Tables/GPL7137.txt</td>\n",
       "      <td>OnlyTable</td>\n",
       "    </tr>\n",
       "    <tr>\n",
       "      <th>6934</th>\n",
       "      <td>158878</td>\n",
       "      <td>GPL7137</td>\n",
       "      <td>Agilent</td>\n",
       "      <td>None</td>\n",
       "      <td>GSM376041</td>\n",
       "      <td>../../GPL_Tables/GPL7137.txt</td>\n",
       "      <td>OnlyTable</td>\n",
       "    </tr>\n",
       "    <tr>\n",
       "      <th>6935</th>\n",
       "      <td>158878</td>\n",
       "      <td>GPL7137</td>\n",
       "      <td>Agilent</td>\n",
       "      <td>None</td>\n",
       "      <td>GSM376042</td>\n",
       "      <td>../../GPL_Tables/GPL7137.txt</td>\n",
       "      <td>OnlyTable</td>\n",
       "    </tr>\n",
       "    <tr>\n",
       "      <th>6936</th>\n",
       "      <td>158878</td>\n",
       "      <td>GPL7137</td>\n",
       "      <td>Agilent</td>\n",
       "      <td>None</td>\n",
       "      <td>GSM376043</td>\n",
       "      <td>../../GPL_Tables/GPL7137.txt</td>\n",
       "      <td>OnlyTable</td>\n",
       "    </tr>\n",
       "    <tr>\n",
       "      <th>6937</th>\n",
       "      <td>158878</td>\n",
       "      <td>GPL7137</td>\n",
       "      <td>Agilent</td>\n",
       "      <td>None</td>\n",
       "      <td>GSM376044</td>\n",
       "      <td>../../GPL_Tables/GPL7137.txt</td>\n",
       "      <td>OnlyTable</td>\n",
       "    </tr>\n",
       "  </tbody>\n",
       "</table>\n",
       "<p>64 rows × 7 columns</p>\n",
       "</div>"
      ],
      "text/plain": [
       "       TaxId GPL_geo_accession GPL_manufacturer GPL_supplementary_file  \\\n",
       "6874  158878           GPL7137          Agilent                   None   \n",
       "6875  158878           GPL7137          Agilent                   None   \n",
       "6876  158878           GPL7137          Agilent                   None   \n",
       "6877  158878           GPL7137          Agilent                   None   \n",
       "6878  158878           GPL7137          Agilent                   None   \n",
       "...      ...               ...              ...                    ...   \n",
       "6933  158878           GPL7137          Agilent                   None   \n",
       "6934  158878           GPL7137          Agilent                   None   \n",
       "6935  158878           GPL7137          Agilent                   None   \n",
       "6936  158878           GPL7137          Agilent                   None   \n",
       "6937  158878           GPL7137          Agilent                   None   \n",
       "\n",
       "     GSM_geo_accession                     GPL_Table   GPL_type  \n",
       "6874        GSM1589603  ../../GPL_Tables/GPL7137.txt  OnlyTable  \n",
       "6875        GSM1589604  ../../GPL_Tables/GPL7137.txt  OnlyTable  \n",
       "6876        GSM1589605  ../../GPL_Tables/GPL7137.txt  OnlyTable  \n",
       "6877        GSM1589606  ../../GPL_Tables/GPL7137.txt  OnlyTable  \n",
       "6878        GSM1589607  ../../GPL_Tables/GPL7137.txt  OnlyTable  \n",
       "...                ...                           ...        ...  \n",
       "6933         GSM569074  ../../GPL_Tables/GPL7137.txt  OnlyTable  \n",
       "6934         GSM376041  ../../GPL_Tables/GPL7137.txt  OnlyTable  \n",
       "6935         GSM376042  ../../GPL_Tables/GPL7137.txt  OnlyTable  \n",
       "6936         GSM376043  ../../GPL_Tables/GPL7137.txt  OnlyTable  \n",
       "6937         GSM376044  ../../GPL_Tables/GPL7137.txt  OnlyTable  \n",
       "\n",
       "[64 rows x 7 columns]"
      ]
     },
     "execution_count": 18,
     "metadata": {},
     "output_type": "execute_result"
    }
   ],
   "source": [
    "xd[xd.GPL_geo_accession == \"GPL7137\"]"
   ]
  },
  {
   "cell_type": "code",
   "execution_count": 19,
   "metadata": {},
   "outputs": [
    {
     "data": {
      "text/html": [
       "<div>\n",
       "<style scoped>\n",
       "    .dataframe tbody tr th:only-of-type {\n",
       "        vertical-align: middle;\n",
       "    }\n",
       "\n",
       "    .dataframe tbody tr th {\n",
       "        vertical-align: top;\n",
       "    }\n",
       "\n",
       "    .dataframe thead th {\n",
       "        text-align: right;\n",
       "    }\n",
       "</style>\n",
       "<table border=\"1\" class=\"dataframe\">\n",
       "  <thead>\n",
       "    <tr style=\"text-align: right;\">\n",
       "      <th></th>\n",
       "      <th>TaxId</th>\n",
       "      <th>GPL_geo_accession</th>\n",
       "      <th>GPL_manufacturer</th>\n",
       "      <th>GPL_supplementary_file</th>\n",
       "      <th>GSM_geo_accession</th>\n",
       "      <th>GPL_Table</th>\n",
       "      <th>GPL_type</th>\n",
       "    </tr>\n",
       "  </thead>\n",
       "  <tbody>\n",
       "    <tr>\n",
       "      <th>4029</th>\n",
       "      <td>158878</td>\n",
       "      <td>GPL22334</td>\n",
       "      <td>NimbleGen</td>\n",
       "      <td>geo/platforms/GPL22nnn/GPL22334/suppl/GPL22334...</td>\n",
       "      <td>GSM2285079</td>\n",
       "      <td>../../GPL_Tables/GPL22334.txt</td>\n",
       "      <td>GoodSuppAndTab</td>\n",
       "    </tr>\n",
       "    <tr>\n",
       "      <th>4030</th>\n",
       "      <td>158878</td>\n",
       "      <td>GPL22334</td>\n",
       "      <td>NimbleGen</td>\n",
       "      <td>geo/platforms/GPL22nnn/GPL22334/suppl/GPL22334...</td>\n",
       "      <td>GSM2285080</td>\n",
       "      <td>../../GPL_Tables/GPL22334.txt</td>\n",
       "      <td>GoodSuppAndTab</td>\n",
       "    </tr>\n",
       "    <tr>\n",
       "      <th>4031</th>\n",
       "      <td>158878</td>\n",
       "      <td>GPL22334</td>\n",
       "      <td>NimbleGen</td>\n",
       "      <td>geo/platforms/GPL22nnn/GPL22334/suppl/GPL22334...</td>\n",
       "      <td>GSM2285081</td>\n",
       "      <td>../../GPL_Tables/GPL22334.txt</td>\n",
       "      <td>GoodSuppAndTab</td>\n",
       "    </tr>\n",
       "    <tr>\n",
       "      <th>4032</th>\n",
       "      <td>158878</td>\n",
       "      <td>GPL22334</td>\n",
       "      <td>NimbleGen</td>\n",
       "      <td>geo/platforms/GPL22nnn/GPL22334/suppl/GPL22334...</td>\n",
       "      <td>GSM2285082</td>\n",
       "      <td>../../GPL_Tables/GPL22334.txt</td>\n",
       "      <td>GoodSuppAndTab</td>\n",
       "    </tr>\n",
       "    <tr>\n",
       "      <th>4033</th>\n",
       "      <td>158878</td>\n",
       "      <td>GPL22334</td>\n",
       "      <td>NimbleGen</td>\n",
       "      <td>geo/platforms/GPL22nnn/GPL22334/suppl/GPL22334...</td>\n",
       "      <td>GSM2285083</td>\n",
       "      <td>../../GPL_Tables/GPL22334.txt</td>\n",
       "      <td>GoodSuppAndTab</td>\n",
       "    </tr>\n",
       "    <tr>\n",
       "      <th>...</th>\n",
       "      <td>...</td>\n",
       "      <td>...</td>\n",
       "      <td>...</td>\n",
       "      <td>...</td>\n",
       "      <td>...</td>\n",
       "      <td>...</td>\n",
       "      <td>...</td>\n",
       "    </tr>\n",
       "    <tr>\n",
       "      <th>6933</th>\n",
       "      <td>158878</td>\n",
       "      <td>GPL7137</td>\n",
       "      <td>Agilent</td>\n",
       "      <td>None</td>\n",
       "      <td>GSM569074</td>\n",
       "      <td>../../GPL_Tables/GPL7137.txt</td>\n",
       "      <td>OnlyTable</td>\n",
       "    </tr>\n",
       "    <tr>\n",
       "      <th>6934</th>\n",
       "      <td>158878</td>\n",
       "      <td>GPL7137</td>\n",
       "      <td>Agilent</td>\n",
       "      <td>None</td>\n",
       "      <td>GSM376041</td>\n",
       "      <td>../../GPL_Tables/GPL7137.txt</td>\n",
       "      <td>OnlyTable</td>\n",
       "    </tr>\n",
       "    <tr>\n",
       "      <th>6935</th>\n",
       "      <td>158878</td>\n",
       "      <td>GPL7137</td>\n",
       "      <td>Agilent</td>\n",
       "      <td>None</td>\n",
       "      <td>GSM376042</td>\n",
       "      <td>../../GPL_Tables/GPL7137.txt</td>\n",
       "      <td>OnlyTable</td>\n",
       "    </tr>\n",
       "    <tr>\n",
       "      <th>6936</th>\n",
       "      <td>158878</td>\n",
       "      <td>GPL7137</td>\n",
       "      <td>Agilent</td>\n",
       "      <td>None</td>\n",
       "      <td>GSM376043</td>\n",
       "      <td>../../GPL_Tables/GPL7137.txt</td>\n",
       "      <td>OnlyTable</td>\n",
       "    </tr>\n",
       "    <tr>\n",
       "      <th>6937</th>\n",
       "      <td>158878</td>\n",
       "      <td>GPL7137</td>\n",
       "      <td>Agilent</td>\n",
       "      <td>None</td>\n",
       "      <td>GSM376044</td>\n",
       "      <td>../../GPL_Tables/GPL7137.txt</td>\n",
       "      <td>OnlyTable</td>\n",
       "    </tr>\n",
       "  </tbody>\n",
       "</table>\n",
       "<p>77 rows × 7 columns</p>\n",
       "</div>"
      ],
      "text/plain": [
       "       TaxId GPL_geo_accession GPL_manufacturer  \\\n",
       "4029  158878          GPL22334        NimbleGen   \n",
       "4030  158878          GPL22334        NimbleGen   \n",
       "4031  158878          GPL22334        NimbleGen   \n",
       "4032  158878          GPL22334        NimbleGen   \n",
       "4033  158878          GPL22334        NimbleGen   \n",
       "...      ...               ...              ...   \n",
       "6933  158878           GPL7137          Agilent   \n",
       "6934  158878           GPL7137          Agilent   \n",
       "6935  158878           GPL7137          Agilent   \n",
       "6936  158878           GPL7137          Agilent   \n",
       "6937  158878           GPL7137          Agilent   \n",
       "\n",
       "                                 GPL_supplementary_file GSM_geo_accession  \\\n",
       "4029  geo/platforms/GPL22nnn/GPL22334/suppl/GPL22334...        GSM2285079   \n",
       "4030  geo/platforms/GPL22nnn/GPL22334/suppl/GPL22334...        GSM2285080   \n",
       "4031  geo/platforms/GPL22nnn/GPL22334/suppl/GPL22334...        GSM2285081   \n",
       "4032  geo/platforms/GPL22nnn/GPL22334/suppl/GPL22334...        GSM2285082   \n",
       "4033  geo/platforms/GPL22nnn/GPL22334/suppl/GPL22334...        GSM2285083   \n",
       "...                                                 ...               ...   \n",
       "6933                                               None         GSM569074   \n",
       "6934                                               None         GSM376041   \n",
       "6935                                               None         GSM376042   \n",
       "6936                                               None         GSM376043   \n",
       "6937                                               None         GSM376044   \n",
       "\n",
       "                          GPL_Table        GPL_type  \n",
       "4029  ../../GPL_Tables/GPL22334.txt  GoodSuppAndTab  \n",
       "4030  ../../GPL_Tables/GPL22334.txt  GoodSuppAndTab  \n",
       "4031  ../../GPL_Tables/GPL22334.txt  GoodSuppAndTab  \n",
       "4032  ../../GPL_Tables/GPL22334.txt  GoodSuppAndTab  \n",
       "4033  ../../GPL_Tables/GPL22334.txt  GoodSuppAndTab  \n",
       "...                             ...             ...  \n",
       "6933   ../../GPL_Tables/GPL7137.txt       OnlyTable  \n",
       "6934   ../../GPL_Tables/GPL7137.txt       OnlyTable  \n",
       "6935   ../../GPL_Tables/GPL7137.txt       OnlyTable  \n",
       "6936   ../../GPL_Tables/GPL7137.txt       OnlyTable  \n",
       "6937   ../../GPL_Tables/GPL7137.txt       OnlyTable  \n",
       "\n",
       "[77 rows x 7 columns]"
      ]
     },
     "execution_count": 19,
     "metadata": {},
     "output_type": "execute_result"
    }
   ],
   "source": [
    "data[data.TaxId == 158878]"
   ]
  },
  {
   "cell_type": "code",
   "execution_count": 20,
   "metadata": {},
   "outputs": [],
   "source": [
    "tx = pd.read_csv(\"./taxonomyRelation_getGeoTest.tsv\", sep='\\t')"
   ]
  },
  {
   "cell_type": "code",
   "execution_count": 21,
   "metadata": {},
   "outputs": [
    {
     "data": {
      "text/plain": [
       "3916    426430\n",
       "3917    426430\n",
       "3918    426430\n",
       "3919    426430\n",
       "3920    426430\n",
       "         ...  \n",
       "6920    158878\n",
       "6921    158878\n",
       "6922     93062\n",
       "6923     93062\n",
       "6924     93062\n",
       "Name: TaxId, Length: 360, dtype: int64"
      ]
     },
     "execution_count": 21,
     "metadata": {},
     "output_type": "execute_result"
    }
   ],
   "source": [
    "a = data.merge(tx)\n",
    "a[a.Specie == \"Staphylococcus aureus\"].TaxId"
   ]
  },
  {
   "cell_type": "code",
   "execution_count": null,
   "metadata": {},
   "outputs": [],
   "source": []
  }
 ],
 "metadata": {
  "kernelspec": {
   "display_name": "MicroarrayProject",
   "language": "python",
   "name": "python3"
  },
  "language_info": {
   "codemirror_mode": {
    "name": "ipython",
    "version": 3
   },
   "file_extension": ".py",
   "mimetype": "text/x-python",
   "name": "python",
   "nbconvert_exporter": "python",
   "pygments_lexer": "ipython3",
   "version": "3.12.0"
  }
 },
 "nbformat": 4,
 "nbformat_minor": 2
}
