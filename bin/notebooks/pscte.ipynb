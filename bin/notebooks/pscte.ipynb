{
 "cells": [
  {
   "cell_type": "code",
   "execution_count": 50,
   "metadata": {},
   "outputs": [],
   "source": [
    "import pandas as pd\n",
    "data = pd.read_csv(\"../../results/2310_Oct/231018GEOmetadata/esummary_metadata_2.tsv\", sep='\\t')"
   ]
  },
  {
   "cell_type": "code",
   "execution_count": 66,
   "metadata": {},
   "outputs": [],
   "source": [
    "gsms = list({gsm for gsms in data.GSM.to_list() for gsm in str(gsms).split(';')})"
   ]
  },
  {
   "cell_type": "code",
   "execution_count": 112,
   "metadata": {},
   "outputs": [],
   "source": [
    "f = {f\"0{i}\" if i < 10 else f\"{i}\" : [] for i in range(20)}\n",
    "for i,gsm in enumerate(gsms):\n",
    "    c = i%20\n",
    "    if c < 10: m = f\"0{c}\"\n",
    "    else : m = f\"{c}\"\n",
    "    f[m].append(gsm)"
   ]
  },
  {
   "cell_type": "code",
   "execution_count": 118,
   "metadata": {},
   "outputs": [],
   "source": [
    "for i,gsms in f.items():\n",
    "    with open(f\"../../data/GSMs/GSMs_{i}.txt\", \"w\") as file:\n",
    "        for gsm in gsms:\n",
    "            file.write(f\"{gsm}\\n\")"
   ]
  },
  {
   "cell_type": "code",
   "execution_count": 115,
   "metadata": {},
   "outputs": [
    {
     "name": "stdout",
     "output_type": "stream",
     "text": [
      "00:88321\n",
      "01:88321\n",
      "02:88321\n",
      "03:88321\n",
      "04:88321\n",
      "05:88321\n",
      "06:88320\n",
      "07:88320\n",
      "08:88320\n",
      "09:88320\n",
      "10:88320\n",
      "11:88320\n",
      "12:88320\n",
      "13:88320\n",
      "14:88320\n",
      "15:88320\n",
      "16:88320\n",
      "17:88320\n",
      "18:88320\n",
      "19:88320\n"
     ]
    },
    {
     "data": {
      "text/plain": [
       "1766406"
      ]
     },
     "execution_count": 115,
     "metadata": {},
     "output_type": "execute_result"
    }
   ],
   "source": [
    "s = 0\n",
    "for k,v in f.items():\n",
    "    print(f\"{k}:{len(v)}\")\n",
    "    s += len(v)\n",
    "s"
   ]
  },
  {
   "cell_type": "code",
   "execution_count": 116,
   "metadata": {},
   "outputs": [
    {
     "data": {
      "text/plain": [
       "1766406"
      ]
     },
     "execution_count": 116,
     "metadata": {},
     "output_type": "execute_result"
    }
   ],
   "source": [
    "len(gsms)"
   ]
  }
 ],
 "metadata": {
  "kernelspec": {
   "display_name": "base",
   "language": "python",
   "name": "python3"
  },
  "language_info": {
   "codemirror_mode": {
    "name": "ipython",
    "version": 3
   },
   "file_extension": ".py",
   "mimetype": "text/x-python",
   "name": "python",
   "nbconvert_exporter": "python",
   "pygments_lexer": "ipython3",
   "version": "3.8.8"
  }
 },
 "nbformat": 4,
 "nbformat_minor": 2
}
