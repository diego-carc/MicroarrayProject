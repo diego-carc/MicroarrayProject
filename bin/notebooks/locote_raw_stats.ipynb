{
 "cells": [
  {
   "cell_type": "markdown",
   "metadata": {},
   "source": [
    "# 05 de septiembre de 2023"
   ]
  },
  {
   "cell_type": "code",
   "execution_count": 1,
   "metadata": {},
   "outputs": [],
   "source": [
    "import functions as fx \n",
    "import pandas as pd\n",
    "from Bio import Entrez\n",
    "Entrez.email = \"diegocar@lcg.unam.mx\"\n",
    "Entrez.apikey = \"34677fdcfd2f0659a7f9ee05ab6e44704f09\""
   ]
  },
  {
   "cell_type": "code",
   "execution_count": 2,
   "metadata": {},
   "outputs": [],
   "source": [
    "def plot_species_dist(data, rel):\n",
    "    ext = pd.merge(data,rel)\n",
    "    print(f\"n = {ext.shape[0]}\")\n",
    "    ext[\"Specie\"].value_counts().plot(kind=\"barh\")\n",
    "\n",
    "def comp_filt(f1, label1, f2, label2, rel):\n",
    "    x_raw = pd.DataFrame(pd.merge(f1, rel)[\"Specie\"].value_counts()).reset_index().rename(columns={\"Specie\":f\"{label1}\", \"index\":\"Specie\"})\n",
    "    x_data = pd.DataFrame(pd.merge(f2,rel))[\"Specie\"].value_counts().reset_index().rename(columns={\"Specie\":f\"{label2}\", \"index\":\"Specie\"})\n",
    "    pd.merge(x_raw, x_data).set_index(\"Specie\").plot(kind=\"barh\")\n",
    "\n",
    "def comp_filt2(f1, label1, f2, label2, f3, label3, f4, label4, rel):\n",
    "    x = pd.DataFrame(pd.merge(f1, rel)[\"Specie\"].value_counts()).reset_index().rename(columns={\"Specie\":f\"{label1}\", \"index\":\"Specie\"})\n",
    "    y = pd.DataFrame(pd.merge(f2,rel))[\"Specie\"].value_counts().reset_index().rename(columns={\"Specie\":f\"{label2}\", \"index\":\"Specie\"})\n",
    "    z = pd.DataFrame(pd.merge(f3, rel)[\"Specie\"].value_counts()).reset_index().rename(columns={\"Specie\":f\"{label3}\", \"index\":\"Specie\"})\n",
    "    w = pd.DataFrame(pd.merge(f4,rel))[\"Specie\"].value_counts().reset_index().rename(columns={\"Specie\":f\"{label4}\", \"index\":\"Specie\"})\n",
    "    a = pd.merge(x, y)\n",
    "    b = pd.merge(z, w)\n",
    "    pd.merge(a, b).set_index(\"Specie\").plot(kind=\"bar\")\n"
   ]
  },
  {
   "cell_type": "code",
   "execution_count": 13,
   "metadata": {},
   "outputs": [
    {
     "name": "stderr",
     "output_type": "stream",
     "text": [
      "WARNING:root:Can´t compare 1314 with 1314;9541\n",
      "WARNING:root:Can´t compare 1314 with 1314;9541\n",
      "WARNING:root:Can´t compare 1314 with 1314;9541\n",
      "WARNING:root:Can´t compare 1314 with 1314;9541\n",
      "WARNING:root:Can´t compare 1314 with 1314;9541\n",
      "WARNING:root:Can´t compare 1314 with 1314;9541\n",
      "WARNING:root:Can´t compare 1314 with 1314;9541\n",
      "WARNING:root:Can´t compare 1314 with 1314;9541\n",
      "WARNING:root:Can´t compare 1314 with 1314;9541\n",
      "WARNING:root:Can´t compare 1314 with 1314;9541\n",
      "WARNING:root:Can´t compare 1314 with 1314;9541\n",
      "WARNING:root:Can´t compare 1314 with 1314;9541\n",
      "WARNING:root:Can´t compare 1314 with 1314;9541\n",
      "WARNING:root:Can´t compare 1314 with 1314;9541\n",
      "WARNING:root:Can´t compare 1314 with 1314;9541\n",
      "WARNING:root:Can´t compare 1314 with 1314;9541\n",
      "WARNING:root:Can´t compare 1314 with 1314;9541\n",
      "WARNING:root:Can´t compare 1314 with 1314;9541\n",
      "WARNING:root:Can´t compare 1314 with 1314;9541\n",
      "WARNING:root:Can´t compare 1314 with 1314;9541\n",
      "WARNING:root:Can´t compare 1314 with 1314;9541\n",
      "WARNING:root:Can´t compare 1314 with 1314;9541\n",
      "WARNING:root:Can´t compare 1314 with 1314;9541\n",
      "WARNING:root:Can´t compare 1314 with 1314;9541\n",
      "WARNING:root:Can´t compare 1314 with 1314;9541\n",
      "WARNING:root:Can´t compare 1314 with 1314;9541\n",
      "WARNING:root:Can´t compare 1314 with 1314;9541\n",
      "WARNING:root:Can´t compare 1314 with 1314;9541\n",
      "WARNING:root:Can´t compare 1314 with 1314;9541\n",
      "WARNING:root:Can´t compare 1314 with 1314;9541\n",
      "WARNING:root:Can´t compare 1314 with 1314;9541\n",
      "WARNING:root:Can´t compare 1314 with 1314;9541\n",
      "WARNING:root:Can´t compare 1314 with 1314;9541\n",
      "WARNING:root:Can´t compare 1314 with 1314;9541\n",
      "WARNING:root:Can´t compare 1314 with 1314;9541\n",
      "WARNING:root:Can´t compare 1314 with 1314;9541\n",
      "WARNING:root:Can´t compare 1314 with 1314;9541\n",
      "WARNING:root:Can´t compare 1314 with 1314;9541\n",
      "WARNING:root:Can´t compare 1314 with 1314;9541\n",
      "WARNING:root:Can´t compare 1314 with 1314;9541\n",
      "WARNING:root:Can´t compare 1314 with 1314;9541\n",
      "WARNING:root:Can´t compare 1314 with 1314;9541\n",
      "WARNING:root:Can´t compare 1314 with 1314;9541\n",
      "WARNING:root:Can´t compare 1314 with 1314;9541\n",
      "WARNING:root:Can´t compare 1314 with 1314;9541\n",
      "WARNING:root:Can´t compare 1314 with 1314;9541\n",
      "WARNING:root:Can´t compare 1314 with 1314;9541\n",
      "WARNING:root:Can´t compare 1314 with 1314;9541\n",
      "WARNING:root:Can´t compare 1314 with 1314;9541\n",
      "WARNING:root:Can´t compare 1314 with 1314;9541\n",
      "WARNING:root:Can´t compare 1314 with 1314;9541\n",
      "WARNING:root:Can´t compare 1314 with 1314;9541\n",
      "WARNING:root:Can´t compare 1314 with 1314;9541\n",
      "WARNING:root:Can´t compare 1314 with 1314;9541\n",
      "WARNING:root:Can´t compare 1314 with 1314;9541\n",
      "WARNING:root:Can´t compare 1314 with 1314;9541\n",
      "WARNING:root:Can´t compare 1314 with 1314;9541\n",
      "WARNING:root:Can´t compare 1314 with 1314;9541\n",
      "WARNING:root:Can´t compare 1314 with 1314;9541\n",
      "WARNING:root:Can´t compare 1314 with 1314;9541\n",
      "WARNING:root:Can´t compare 1314 with 1314;9541\n",
      "WARNING:root:Can´t compare 1314 with 1314;9541\n",
      "WARNING:root:Can´t compare 1314 with 1314;9541\n",
      "WARNING:root:Can´t compare 1314 with 1314;9541\n",
      "WARNING:root:Can´t compare 1314 with 1314;9541\n",
      "WARNING:root:Can´t compare 1314 with 1314;9541\n",
      "WARNING:root:Can´t compare 1314 with 1314;9541\n",
      "WARNING:root:Can´t compare 1314 with 1314;9541\n",
      "WARNING:root:Can´t compare 1314 with 1314;9541\n",
      "WARNING:root:Can´t compare 1314 with 1314;9541\n",
      "WARNING:root:Can´t compare 1314 with 1314;9541\n",
      "WARNING:root:Can´t compare 1314 with 1314;9541\n",
      "WARNING:root:Can´t compare 1314 with 1314;9541\n",
      "WARNING:root:Can´t compare 1314 with 1314;9541\n",
      "WARNING:root:Can´t compare 1314 with 1314;9541\n",
      "WARNING:root:Can´t compare 1314 with 1314;9541\n",
      "WARNING:root:Can´t compare 1314 with 1314;9541\n",
      "WARNING:root:Can´t compare 1314 with 1314;9541\n",
      "WARNING:root:Can´t compare 1314 with 1314;9541\n",
      "WARNING:root:Can´t compare 1314 with 1314;9541\n",
      "WARNING:root:Can´t compare 1314 with 1314;9541\n",
      "WARNING:root:Can´t compare 1314 with 1314;9541\n",
      "WARNING:root:Can´t compare 1314 with 1314;9541\n",
      "WARNING:root:Can´t compare 1314 with 1314;9541\n",
      "WARNING:root:Can´t compare 1314 with 1314;9541\n",
      "WARNING:root:Can´t compare 1314 with 1314;9541\n",
      "WARNING:root:Can´t compare 1314 with 1314;9541\n",
      "WARNING:root:Can´t compare 1314 with 1314;9541\n",
      "WARNING:root:Can´t compare 1314 with 1314;9541\n",
      "WARNING:root:Can´t compare 1314 with 1314;9541\n",
      "WARNING:root:Can´t compare 1314 with 1314;9541\n",
      "WARNING:root:Can´t compare 1314 with 1314;9541\n",
      "WARNING:root:Can´t compare 1314 with 1314;9541\n",
      "WARNING:root:Can´t compare 1314 with 1314;9541\n",
      "WARNING:root:Can´t compare 1314 with 1314;9541\n",
      "WARNING:root:Can´t compare 1314 with 1314;9541\n",
      "WARNING:root:Can´t compare 1314 with 1314;9541\n",
      "WARNING:root:Can´t compare 1314 with 1314;9541\n",
      "WARNING:root:Can´t compare 1314 with 1314;9541\n",
      "WARNING:root:Can´t compare 1314 with 1314;9541\n",
      "WARNING:root:Can´t compare 1314 with 1314;9541\n",
      "WARNING:root:Can´t compare 1314 with 1314;9541\n",
      "WARNING:root:Can´t compare 1314 with 1314;9541\n",
      "WARNING:root:Can´t compare 1314 with 1314;9541\n",
      "WARNING:root:Can´t compare 1314 with 1314;9541\n",
      "WARNING:root:Can´t compare 1314 with 1314;9541\n",
      "WARNING:root:Can´t compare 1314 with 1314;9541\n",
      "WARNING:root:Can´t compare 1314 with 1314;9541\n",
      "WARNING:root:Can´t compare 1314 with 1314;9541\n",
      "WARNING:root:Can´t compare 1314 with 1314;9541\n",
      "WARNING:root:Can´t compare 1314 with 1314;9541\n",
      "WARNING:root:Can´t compare 1314 with 1314;9541\n",
      "WARNING:root:Can´t compare 1314 with 1314;9541\n",
      "WARNING:root:Can´t compare 1314 with 1314;9541\n",
      "WARNING:root:Can´t compare 1314 with 1314;9541\n",
      "WARNING:root:Can´t compare 1314 with 1314;9541\n",
      "WARNING:root:Can´t compare 1314 with 1314;9541\n",
      "WARNING:root:Can´t compare 1314 with 1314;9541\n",
      "WARNING:root:Can´t compare 1314 with 1314;9541\n",
      "WARNING:root:Can´t compare 1314 with 1314;9541\n",
      "WARNING:root:Can´t compare 1314 with 1314;9541\n",
      "WARNING:root:Can´t compare 1314 with 1314;9541\n",
      "WARNING:root:Can´t compare 1314 with 1314;9541\n",
      "WARNING:root:Can´t compare 1314 with 1314;9541\n",
      "WARNING:root:Can´t compare 1314 with 1314;9541\n",
      "WARNING:root:Can´t compare 1314 with 1314;9541\n",
      "WARNING:root:Can´t compare 1314 with 1314;9541\n",
      "WARNING:root:Can´t compare 1314 with 1314;9541\n",
      "WARNING:root:Can´t compare 1314 with 1314;9541\n",
      "WARNING:root:Can´t compare 1314 with 1314;9541\n",
      "WARNING:root:Can´t compare 1314 with 1314;9541\n",
      "WARNING:root:Can´t compare 1314 with 1314;9541\n",
      "WARNING:root:Can´t compare 1314 with 1314;9541\n",
      "WARNING:root:Can´t compare 1314 with 1314;9541\n",
      "WARNING:root:Can´t compare 1314 with 1314;9541\n",
      "WARNING:root:Can´t compare 1314 with 1314;9541\n",
      "WARNING:root:Can´t compare 1314 with 1314;9541\n",
      "WARNING:root:Can´t compare 1314 with 1314;9541\n",
      "WARNING:root:Can´t compare 1314 with 1314;9541\n",
      "WARNING:root:Can´t compare 1314 with 1314;9541\n",
      "WARNING:root:Can´t compare 1314 with 1314;9541\n",
      "WARNING:root:Can´t compare 1314 with 1314;9541\n",
      "WARNING:root:Can´t compare 1314 with 1314;9541\n",
      "WARNING:root:Can´t compare 1314 with 1314;9541\n",
      "WARNING:root:Can´t compare 1314 with 1314;9541\n",
      "WARNING:root:Can´t compare 1314 with 1314;9541\n",
      "WARNING:root:Can´t compare 1314 with 1314;9541\n",
      "WARNING:root:Can´t compare 1314 with 1314;9541\n",
      "WARNING:root:Can´t compare 1314 with 1314;9541\n",
      "WARNING:root:Can´t compare 1314 with 1314;9541\n",
      "WARNING:root:Can´t compare 1314 with 1314;9541\n",
      "WARNING:root:Can´t compare 1314 with 1314;9541\n",
      "WARNING:root:Can´t compare 1314 with 1314;9541\n",
      "WARNING:root:Can´t compare 1314 with 1314;9541\n",
      "WARNING:root:Can´t compare 1314 with 1314;9541\n",
      "WARNING:root:Can´t compare 1314 with 1314;9541\n",
      "WARNING:root:Can´t compare 1314 with 1314;9541\n",
      "WARNING:root:Can´t compare 1314 with 1314;9541\n",
      "WARNING:root:Can´t compare 1314 with 1314;9541\n",
      "WARNING:root:Can´t compare 1314 with 1314;9541\n",
      "WARNING:root:Can´t compare 1314 with 1314;9541\n",
      "WARNING:root:Can´t compare 1314 with 1314;9541\n",
      "WARNING:root:Can´t compare 1314 with 1314;9541\n",
      "WARNING:root:Can´t compare 1314 with 1314;9541\n",
      "WARNING:root:Can´t compare 1314 with 1314;9541\n",
      "WARNING:root:Can´t compare 1314 with 1314;9541\n",
      "WARNING:root:Can´t compare 1314 with 1314;9541\n",
      "WARNING:root:Can´t compare 1314 with 1314;9541\n",
      "WARNING:root:Can´t compare 1314 with 1314;9541\n",
      "WARNING:root:Can´t compare 1314 with 1314;9541\n",
      "WARNING:root:Can´t compare 1314 with 1314;9541\n",
      "WARNING:root:Can´t compare 1314 with 1314;9541\n",
      "WARNING:root:Can´t compare 1314 with 1314;9541\n",
      "WARNING:root:Can´t compare 1314 with 1314;9541\n",
      "WARNING:root:Can´t compare 1314 with 1314;9541\n",
      "WARNING:root:Can´t compare 1314 with 1314;9541\n",
      "WARNING:root:Can´t compare 1314 with 1314;9541\n",
      "WARNING:root:Can´t compare 1314 with 1314;9541\n",
      "WARNING:root:Can´t compare 1314 with 1314;9541\n",
      "WARNING:root:Can´t compare 1314 with 1314;9541\n",
      "WARNING:root:Can´t compare 1314 with 1314;9541\n",
      "WARNING:root:Can´t compare 1314 with 1314;9541\n",
      "WARNING:root:Can´t compare 1314 with 1314;9541\n",
      "WARNING:root:Can´t compare 1314 with 1314;9541\n",
      "WARNING:root:Can´t compare 1314 with 1314;9541\n",
      "WARNING:root:Can´t compare 1314 with 1314;9541\n",
      "WARNING:root:Can´t compare 1314 with 1314;9541\n",
      "WARNING:root:Can´t compare 1314 with 1314;9541\n",
      "WARNING:root:Can´t compare 1314 with 1314;9541\n",
      "WARNING:root:Can´t compare 1314 with 1314;9541\n",
      "WARNING:root:Can´t compare 1314 with 1314;9541\n",
      "WARNING:root:Can´t compare 1314 with 1314;9541\n",
      "WARNING:root:Can´t compare 1314 with 1314;9541\n",
      "WARNING:root:Can´t compare 1314 with 1314;9541\n",
      "WARNING:root:Can´t compare 1314 with 1314;9541\n",
      "WARNING:root:Can´t compare 1314 with 1314;9541\n",
      "WARNING:root:Can´t compare 1314 with 1314;9541\n",
      "WARNING:root:Can´t compare 1314 with 1314;9541\n",
      "WARNING:root:Can´t compare 1314 with 1314;9541\n",
      "WARNING:root:Can´t compare 1314 with 1314;9541\n",
      "WARNING:root:Can´t compare 1314 with 1314;9541\n",
      "WARNING:root:Can´t compare 1314 with 1314;9541\n",
      "WARNING:root:Can´t compare 1314 with 1314;9541\n",
      "WARNING:root:Can´t compare 1314 with 1314;9541\n",
      "WARNING:root:Can´t compare 1314 with 1314;9541\n",
      "WARNING:root:Can´t compare 1314 with 1314;9541\n",
      "WARNING:root:Can´t compare 1314 with 1314;9541\n",
      "WARNING:root:Can´t compare 1314 with 1314;9541\n",
      "WARNING:root:Can´t compare 1314 with 1314;9541\n",
      "WARNING:root:Can´t compare 1314 with 1314;9541\n",
      "WARNING:root:Can´t compare 1314 with 1314;9541\n",
      "WARNING:root:Can´t compare 1314 with 1314;9541\n",
      "WARNING:root:Can´t compare 1314 with 1314;9541\n",
      "WARNING:root:Can´t compare 1314 with 1314;9541\n",
      "WARNING:root:Can´t compare 1314 with 1314;9541\n",
      "WARNING:root:Can´t compare 1314 with 1314;9541\n",
      "WARNING:root:Can´t compare 1314 with 1314;9541\n",
      "WARNING:root:Can´t compare 1314 with 1314;9541\n",
      "WARNING:root:Can´t compare 1314 with 1314;9541\n",
      "WARNING:root:Can´t compare 1314 with 1314;9541\n",
      "WARNING:root:Can´t compare 1314 with 1314;9541\n",
      "WARNING:root:Can´t compare 1314 with 1314;9541\n",
      "WARNING:root:Can´t compare 1314 with 1314;9541\n",
      "WARNING:root:Can´t compare 1314 with 1314;9541\n",
      "WARNING:root:Can´t compare 1314 with 1314;9541\n",
      "WARNING:root:Can´t compare 1314 with 1314;9541\n",
      "WARNING:root:Can´t compare 1314 with 1314;9541\n",
      "WARNING:root:Can´t compare 1314 with 1314;9541\n",
      "WARNING:root:Can´t compare 1314 with 1314;9541\n",
      "WARNING:root:Can´t compare 1314 with 1314;9541\n",
      "WARNING:root:Can´t compare 1314 with 1314;9541\n",
      "WARNING:root:Can´t compare 1314 with 1314;9541\n",
      "WARNING:root:Can´t compare 1314 with 1314;9541\n",
      "WARNING:root:Can´t compare 1314 with 1314;9541\n",
      "WARNING:root:Can´t compare 1314 with 1314;9541\n",
      "WARNING:root:Can´t compare 1314 with 1314;9541\n",
      "WARNING:root:Can´t compare 1314 with 1314;9541\n",
      "WARNING:root:Can´t compare 1314 with 1314;9541\n",
      "WARNING:root:Can´t compare 1314 with 1314;9541\n",
      "WARNING:root:Can´t compare 1314 with 1314;9541\n",
      "WARNING:root:Can´t compare 1314 with 1314;9541\n",
      "WARNING:root:Can´t compare 1314 with 1314;9541\n",
      "WARNING:root:Can´t compare 1314 with 1314;9541\n",
      "WARNING:root:Can´t compare 1314 with 1314;9541\n",
      "WARNING:root:Can´t compare 1314 with 1314;9541\n",
      "WARNING:root:Can´t compare 1314 with 1314;9541\n",
      "WARNING:root:Can´t compare 1314 with 1314;9541\n",
      "WARNING:root:Can´t compare 1314 with 1314;9541\n",
      "WARNING:root:Can´t compare 1314 with 1314;9541\n",
      "WARNING:root:Can´t compare 1314 with 1314;9541\n",
      "WARNING:root:Can´t compare 1314 with 1314;9541\n",
      "WARNING:root:Can´t compare 1314 with 1314;9541\n",
      "WARNING:root:Can´t compare 1314 with 1314;9541\n",
      "WARNING:root:Can´t compare 1314 with 1314;9541\n",
      "WARNING:root:Can´t compare 1314 with 1314;9541\n",
      "WARNING:root:Can´t compare 1314 with 1314;9541\n",
      "WARNING:root:Can´t compare 1314 with 1314;9541\n",
      "WARNING:root:Can´t compare 1314 with 1314;9541\n",
      "WARNING:root:Can´t compare 1314 with 1314;9541\n"
     ]
    }
   ],
   "source": [
    "raw = pd.read_csv(\"../results/231004BigTest/run10Locote/raw_231004Locote.tsv\", sep=\"\\t\")\n",
    "data = pd.read_csv(\"../results/231004BigTest/run10Locote/231004Locote.tsv\", sep=\"\\t\")\n",
    "rel = pd.read_csv(\"../results/231004BigTest/run10Locote/taxonomyRelation_231004Locote.tsv\", sep=\"\\t\")\n",
    "raw_v0 = pd.read_csv(\"../results/230928FilterComp/filt_V1/raw_230928filtv1.tsv\", sep= \"\\t\")\n",
    "raw_v0.TaxId = raw_v0.TaxId.astype(\"str\")\n",
    "data_v0 = fx.apply_GEO_filters(raw_v0, \"sameTaxId\", \"./\", \"0510taxonomy_relations.tsv\")"
   ]
  },
  {
   "cell_type": "code",
   "execution_count": 7,
   "metadata": {},
   "outputs": [
    {
     "name": "stdout",
     "output_type": "stream",
     "text": [
      "n = 7128\n"
     ]
    },
    {
     "data": {
      "image/png": "[encoded data removed]",
      "text/plain": [
       "<Figure size 432x288 with 1 Axes>"
      ]
     },
     "metadata": {
      "needs_background": "light"
     },
     "output_type": "display_data"
    }
   ],
   "source": [
    "plot_species_dist(data, rel)"
   ]
  },
  {
   "cell_type": "code",
   "execution_count": 8,
   "metadata": {},
   "outputs": [
    {
     "data": {
      "image/png": "[encoded data removed]",
      "text/plain": [
       "<Figure size 432x288 with 1 Axes>"
      ]
     },
     "metadata": {
      "needs_background": "light"
     },
     "output_type": "display_data"
    }
   ],
   "source": [
    "comp_filt(data, \"Filtered\", raw, \"Raw\", rel)"
   ]
  },
  {
   "cell_type": "code",
   "execution_count": 5,
   "metadata": {},
   "outputs": [
    {
     "data": {
      "image/png": "[encoded data removed]",
      "text/plain": [
       "<Figure size 432x288 with 1 Axes>"
      ]
     },
     "metadata": {
      "needs_background": "light"
     },
     "output_type": "display_data"
    }
   ],
   "source": [
    "comp_filt(raw_v0, \"28Sep\", raw, \"05Oct\", rel)"
   ]
  },
  {
   "cell_type": "code",
   "execution_count": 15,
   "metadata": {},
   "outputs": [
    {
     "ename": "ValueError",
     "evalue": "You are trying to merge on object and int64 columns. If you wish to proceed you should use pd.concat",
     "output_type": "error",
     "traceback": [
      "\u001b[0;31m---------------------------------------------------------------------------\u001b[0m",
      "\u001b[0;31mValueError\u001b[0m                                Traceback (most recent call last)",
      "\u001b[0;32m<ipython-input-15-3af79d07dbba>\u001b[0m in \u001b[0;36m<module>\u001b[0;34m\u001b[0m\n\u001b[0;32m----> 1\u001b[0;31m \u001b[0mcomp_filt\u001b[0m\u001b[0;34m(\u001b[0m\u001b[0mdata_v0\u001b[0m\u001b[0;34m,\u001b[0m \u001b[0;34m\"28Sep\"\u001b[0m\u001b[0;34m,\u001b[0m \u001b[0mdata\u001b[0m\u001b[0;34m,\u001b[0m \u001b[0;34m\"05Oct\"\u001b[0m\u001b[0;34m,\u001b[0m \u001b[0mrel\u001b[0m\u001b[0;34m)\u001b[0m\u001b[0;34m\u001b[0m\u001b[0;34m\u001b[0m\u001b[0m\n\u001b[0m",
      "\u001b[0;32m<ipython-input-2-4c73a1416be4>\u001b[0m in \u001b[0;36mcomp_filt\u001b[0;34m(f1, label1, f2, label2, rel)\u001b[0m\n\u001b[1;32m      5\u001b[0m \u001b[0;34m\u001b[0m\u001b[0m\n\u001b[1;32m      6\u001b[0m \u001b[0;32mdef\u001b[0m \u001b[0mcomp_filt\u001b[0m\u001b[0;34m(\u001b[0m\u001b[0mf1\u001b[0m\u001b[0;34m,\u001b[0m \u001b[0mlabel1\u001b[0m\u001b[0;34m,\u001b[0m \u001b[0mf2\u001b[0m\u001b[0;34m,\u001b[0m \u001b[0mlabel2\u001b[0m\u001b[0;34m,\u001b[0m \u001b[0mrel\u001b[0m\u001b[0;34m)\u001b[0m\u001b[0;34m:\u001b[0m\u001b[0;34m\u001b[0m\u001b[0;34m\u001b[0m\u001b[0m\n\u001b[0;32m----> 7\u001b[0;31m     \u001b[0mx_raw\u001b[0m \u001b[0;34m=\u001b[0m \u001b[0mpd\u001b[0m\u001b[0;34m.\u001b[0m\u001b[0mDataFrame\u001b[0m\u001b[0;34m(\u001b[0m\u001b[0mpd\u001b[0m\u001b[0;34m.\u001b[0m\u001b[0mmerge\u001b[0m\u001b[0;34m(\u001b[0m\u001b[0mf1\u001b[0m\u001b[0;34m,\u001b[0m \u001b[0mrel\u001b[0m\u001b[0;34m)\u001b[0m\u001b[0;34m[\u001b[0m\u001b[0;34m\"Specie\"\u001b[0m\u001b[0;34m]\u001b[0m\u001b[0;34m.\u001b[0m\u001b[0mvalue_counts\u001b[0m\u001b[0;34m(\u001b[0m\u001b[0;34m)\u001b[0m\u001b[0;34m)\u001b[0m\u001b[0;34m.\u001b[0m\u001b[0mreset_index\u001b[0m\u001b[0;34m(\u001b[0m\u001b[0;34m)\u001b[0m\u001b[0;34m.\u001b[0m\u001b[0mrename\u001b[0m\u001b[0;34m(\u001b[0m\u001b[0mcolumns\u001b[0m\u001b[0;34m=\u001b[0m\u001b[0;34m{\u001b[0m\u001b[0;34m\"Specie\"\u001b[0m\u001b[0;34m:\u001b[0m\u001b[0;34mf\"{label1}\"\u001b[0m\u001b[0;34m,\u001b[0m \u001b[0;34m\"index\"\u001b[0m\u001b[0;34m:\u001b[0m\u001b[0;34m\"Specie\"\u001b[0m\u001b[0;34m}\u001b[0m\u001b[0;34m)\u001b[0m\u001b[0;34m\u001b[0m\u001b[0;34m\u001b[0m\u001b[0m\n\u001b[0m\u001b[1;32m      8\u001b[0m     \u001b[0mx_data\u001b[0m \u001b[0;34m=\u001b[0m \u001b[0mpd\u001b[0m\u001b[0;34m.\u001b[0m\u001b[0mDataFrame\u001b[0m\u001b[0;34m(\u001b[0m\u001b[0mpd\u001b[0m\u001b[0;34m.\u001b[0m\u001b[0mmerge\u001b[0m\u001b[0;34m(\u001b[0m\u001b[0mf2\u001b[0m\u001b[0;34m,\u001b[0m\u001b[0mrel\u001b[0m\u001b[0;34m)\u001b[0m\u001b[0;34m)\u001b[0m\u001b[0;34m[\u001b[0m\u001b[0;34m\"Specie\"\u001b[0m\u001b[0;34m]\u001b[0m\u001b[0;34m.\u001b[0m\u001b[0mvalue_counts\u001b[0m\u001b[0;34m(\u001b[0m\u001b[0;34m)\u001b[0m\u001b[0;34m.\u001b[0m\u001b[0mreset_index\u001b[0m\u001b[0;34m(\u001b[0m\u001b[0;34m)\u001b[0m\u001b[0;34m.\u001b[0m\u001b[0mrename\u001b[0m\u001b[0;34m(\u001b[0m\u001b[0mcolumns\u001b[0m\u001b[0;34m=\u001b[0m\u001b[0;34m{\u001b[0m\u001b[0;34m\"Specie\"\u001b[0m\u001b[0;34m:\u001b[0m\u001b[0;34mf\"{label2}\"\u001b[0m\u001b[0;34m,\u001b[0m \u001b[0;34m\"index\"\u001b[0m\u001b[0;34m:\u001b[0m\u001b[0;34m\"Specie\"\u001b[0m\u001b[0;34m}\u001b[0m\u001b[0;34m)\u001b[0m\u001b[0;34m\u001b[0m\u001b[0;34m\u001b[0m\u001b[0m\n\u001b[1;32m      9\u001b[0m     \u001b[0mpd\u001b[0m\u001b[0;34m.\u001b[0m\u001b[0mmerge\u001b[0m\u001b[0;34m(\u001b[0m\u001b[0mx_raw\u001b[0m\u001b[0;34m,\u001b[0m \u001b[0mx_data\u001b[0m\u001b[0;34m)\u001b[0m\u001b[0;34m.\u001b[0m\u001b[0mset_index\u001b[0m\u001b[0;34m(\u001b[0m\u001b[0;34m\"Specie\"\u001b[0m\u001b[0;34m)\u001b[0m\u001b[0;34m.\u001b[0m\u001b[0mplot\u001b[0m\u001b[0;34m(\u001b[0m\u001b[0mkind\u001b[0m\u001b[0;34m=\u001b[0m\u001b[0;34m\"barh\"\u001b[0m\u001b[0;34m)\u001b[0m\u001b[0;34m\u001b[0m\u001b[0;34m\u001b[0m\u001b[0m\n",
      "\u001b[0;32m/export/apps/bioconda/lib/python3.8/site-packages/pandas/core/reshape/merge.py\u001b[0m in \u001b[0;36mmerge\u001b[0;34m(left, right, how, on, left_on, right_on, left_index, right_index, sort, suffixes, copy, indicator, validate)\u001b[0m\n\u001b[1;32m     72\u001b[0m     \u001b[0mvalidate\u001b[0m\u001b[0;34m=\u001b[0m\u001b[0;32mNone\u001b[0m\u001b[0;34m,\u001b[0m\u001b[0;34m\u001b[0m\u001b[0;34m\u001b[0m\u001b[0m\n\u001b[1;32m     73\u001b[0m ) -> \"DataFrame\":\n\u001b[0;32m---> 74\u001b[0;31m     op = _MergeOperation(\n\u001b[0m\u001b[1;32m     75\u001b[0m         \u001b[0mleft\u001b[0m\u001b[0;34m,\u001b[0m\u001b[0;34m\u001b[0m\u001b[0;34m\u001b[0m\u001b[0m\n\u001b[1;32m     76\u001b[0m         \u001b[0mright\u001b[0m\u001b[0;34m,\u001b[0m\u001b[0;34m\u001b[0m\u001b[0;34m\u001b[0m\u001b[0m\n",
      "\u001b[0;32m/export/apps/bioconda/lib/python3.8/site-packages/pandas/core/reshape/merge.py\u001b[0m in \u001b[0;36m__init__\u001b[0;34m(self, left, right, how, on, left_on, right_on, axis, left_index, right_index, sort, suffixes, copy, indicator, validate)\u001b[0m\n\u001b[1;32m    670\u001b[0m         \u001b[0;31m# validate the merge keys dtypes. We may need to coerce\u001b[0m\u001b[0;34m\u001b[0m\u001b[0;34m\u001b[0m\u001b[0;34m\u001b[0m\u001b[0m\n\u001b[1;32m    671\u001b[0m         \u001b[0;31m# to avoid incompatible dtypes\u001b[0m\u001b[0;34m\u001b[0m\u001b[0;34m\u001b[0m\u001b[0;34m\u001b[0m\u001b[0m\n\u001b[0;32m--> 672\u001b[0;31m         \u001b[0mself\u001b[0m\u001b[0;34m.\u001b[0m\u001b[0m_maybe_coerce_merge_keys\u001b[0m\u001b[0;34m(\u001b[0m\u001b[0;34m)\u001b[0m\u001b[0;34m\u001b[0m\u001b[0;34m\u001b[0m\u001b[0m\n\u001b[0m\u001b[1;32m    673\u001b[0m \u001b[0;34m\u001b[0m\u001b[0m\n\u001b[1;32m    674\u001b[0m         \u001b[0;31m# If argument passed to validate,\u001b[0m\u001b[0;34m\u001b[0m\u001b[0;34m\u001b[0m\u001b[0;34m\u001b[0m\u001b[0m\n",
      "\u001b[0;32m/export/apps/bioconda/lib/python3.8/site-packages/pandas/core/reshape/merge.py\u001b[0m in \u001b[0;36m_maybe_coerce_merge_keys\u001b[0;34m(self)\u001b[0m\n\u001b[1;32m   1191\u001b[0m                     \u001b[0minferred_right\u001b[0m \u001b[0;32min\u001b[0m \u001b[0mstring_types\u001b[0m \u001b[0;32mand\u001b[0m \u001b[0minferred_left\u001b[0m \u001b[0;32mnot\u001b[0m \u001b[0;32min\u001b[0m \u001b[0mstring_types\u001b[0m\u001b[0;34m\u001b[0m\u001b[0;34m\u001b[0m\u001b[0m\n\u001b[1;32m   1192\u001b[0m                 ):\n\u001b[0;32m-> 1193\u001b[0;31m                     \u001b[0;32mraise\u001b[0m \u001b[0mValueError\u001b[0m\u001b[0;34m(\u001b[0m\u001b[0mmsg\u001b[0m\u001b[0;34m)\u001b[0m\u001b[0;34m\u001b[0m\u001b[0;34m\u001b[0m\u001b[0m\n\u001b[0m\u001b[1;32m   1194\u001b[0m \u001b[0;34m\u001b[0m\u001b[0m\n\u001b[1;32m   1195\u001b[0m             \u001b[0;31m# datetimelikes must match exactly\u001b[0m\u001b[0;34m\u001b[0m\u001b[0;34m\u001b[0m\u001b[0;34m\u001b[0m\u001b[0m\n",
      "\u001b[0;31mValueError\u001b[0m: You are trying to merge on object and int64 columns. If you wish to proceed you should use pd.concat"
     ]
    }
   ],
   "source": [
    "comp_filt(data_v0, \"28Sep\", data, \"05Oct\", rel)"
   ]
  },
  {
   "cell_type": "code",
   "execution_count": 14,
   "metadata": {},
   "outputs": [
    {
     "name": "stdout",
     "output_type": "stream",
     "text": [
      "28 de septiembre: 6223\n"
     ]
    }
   ],
   "source": [
    "print(f\"28 de septiembre: {data_v0.shape[0]}\")"
   ]
  }
 ],
 "metadata": {
  "kernelspec": {
   "display_name": "base",
   "language": "python",
   "name": "python3"
  },
  "language_info": {
   "codemirror_mode": {
    "name": "ipython",
    "version": 3
   },
   "file_extension": ".py",
   "mimetype": "text/x-python",
   "name": "python",
   "nbconvert_exporter": "python",
   "pygments_lexer": "ipython3",
   "version": "3.8.8"
  }
 },
 "nbformat": 4,
 "nbformat_minor": 2
}
