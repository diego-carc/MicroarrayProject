{
 "cells": [
  {
   "cell_type": "markdown",
   "metadata": {},
   "source": [
    "# 19 de septiembre de 2023\n"
   ]
  },
  {
   "cell_type": "markdown",
   "metadata": {},
   "source": [
    "## Estadísticas de E coli"
   ]
  },
  {
   "cell_type": "markdown",
   "metadata": {},
   "source": [
    "### Distribución de GSMs por GSE"
   ]
  },
  {
   "cell_type": "code",
   "execution_count": 32,
   "metadata": {},
   "outputs": [],
   "source": [
    "import pandas as pd \n",
    "data03 = pd.read_csv(\"../results/230903/tests/230903Test.tsv\", sep='\\t')\n",
    "taxa = pd.read_csv(\"../results/230903/tests/taxonomy_relations_mini.tsv\", sep='\\t').rename(columns={\"TaxId\":\"taxonID\"})"
   ]
  },
  {
   "cell_type": "code",
   "execution_count": 21,
   "metadata": {},
   "outputs": [],
   "source": [
    "data_tx = pd.merge(data[['taxonID', \"GSE_geo_accession\", \"GSM_geo_accession\"]], taxa[['taxonID', \"ScientificNameSpecie\"]])"
   ]
  },
  {
   "cell_type": "code",
   "execution_count": 22,
   "metadata": {},
   "outputs": [],
   "source": [
    "e_coli = data_tx[data_tx[\"ScientificNameSpecie\"] == \"Escherichia coli\"]"
   ]
  },
  {
   "cell_type": "code",
   "execution_count": 23,
   "metadata": {},
   "outputs": [
    {
     "data": {
      "text/plain": [
       "GSE20305     122\n",
       "GSE80002      90\n",
       "GSE35371      60\n",
       "GSE71784      48\n",
       "GSE47732      48\n",
       "            ... \n",
       "GSE16726       2\n",
       "GSE102322      2\n",
       "GSE35049       2\n",
       "GSE24373       2\n",
       "GSE43376       1\n",
       "Name: GSE_geo_accession, Length: 86, dtype: int64"
      ]
     },
     "execution_count": 23,
     "metadata": {},
     "output_type": "execute_result"
    }
   ],
   "source": [
    "# Number of GSMs/GSE\n",
    "number_of_GSMs = e_coli['GSE_geo_accession'].value_counts()\n",
    "number_of_GSMs"
   ]
  },
  {
   "cell_type": "code",
   "execution_count": 34,
   "metadata": {},
   "outputs": [
    {
     "data": {
      "text/plain": [
       "<AxesSubplot:>"
      ]
     },
     "execution_count": 34,
     "metadata": {},
     "output_type": "execute_result"
    },
    {
     "data": {
      "image/png": "[encoded data removed]",
      "text/plain": [
       "<Figure size 720x576 with 1 Axes>"
      ]
     },
     "metadata": {
      "needs_background": "light"
     },
     "output_type": "display_data"
    }
   ],
   "source": [
    "# GSM distribution\n",
    "number_of_GSMs.value_counts().sort_index().plot(kind='bar', figsize=(10,8))"
   ]
  },
  {
   "cell_type": "markdown",
   "metadata": {},
   "source": [
    "### Tipos de archivos"
   ]
  },
  {
   "cell_type": "code",
   "execution_count": 68,
   "metadata": {},
   "outputs": [],
   "source": [
    "from ftplib import FTP"
   ]
  },
  {
   "cell_type": "code",
   "execution_count": 164,
   "metadata": {},
   "outputs": [],
   "source": [
    "def get_files_data(path):\n",
    "    ftp = FTP(\"ftp.ncbi.nlm.nih.gov\")\n",
    "    ftp.login()\n",
    "    files = [(name.rstrip('.gz').split('.')[-1], int(data.get(\"size\"))) for name,data in ftp.mlsd(path, [\"size\", \"type\"]) if data['type'] == 'file']\n",
    "    ftype,size = zip(*files)\n",
    "    return((';'.join(set(ftype)), sum(size)))"
   ]
  },
  {
   "cell_type": "code",
   "execution_count": 191,
   "metadata": {},
   "outputs": [],
   "source": [
    "e_coli = e_coli.merge(data[[\"GSM_geo_accession\", \"GSM_supplementary_file\"]])"
   ]
  },
  {
   "cell_type": "code",
   "execution_count": 180,
   "metadata": {},
   "outputs": [],
   "source": [
    "ftype,size = zip(*[get_files_data(path) for path in e_coli[\"GSM_supplementary_file\"].unique()])"
   ]
  },
  {
   "cell_type": "code",
   "execution_count": 198,
   "metadata": {},
   "outputs": [],
   "source": [
    "e_coli_files = pd.DataFrame.from_dict({\"GSM_geo_accession\" : e_coli[\"GSM_geo_accession\"].unique(), \"File_type\":ftype, \"File_size\":size})"
   ]
  },
  {
   "cell_type": "code",
   "execution_count": 199,
   "metadata": {},
   "outputs": [],
   "source": [
    "e_coli = e_coli.merge(e_coli_files)"
   ]
  },
  {
   "cell_type": "code",
   "execution_count": 202,
   "metadata": {},
   "outputs": [
    {
     "data": {
      "text/plain": [
       "array(['txt', 'pair', 'gpr', 'CEL;CHP', 'CEL', 'csv', 'ftr;txt',\n",
       "       'txt;pair', 'mev', 'cel', 'CHP'], dtype=object)"
      ]
     },
     "execution_count": 202,
     "metadata": {},
     "output_type": "execute_result"
    }
   ],
   "source": [
    "e_coli[\"File_type\"].unique()"
   ]
  },
  {
   "cell_type": "code",
   "execution_count": 207,
   "metadata": {},
   "outputs": [
    {
     "data": {
      "text/html": [
       "<div>\n",
       "<style scoped>\n",
       "    .dataframe tbody tr th:only-of-type {\n",
       "        vertical-align: middle;\n",
       "    }\n",
       "\n",
       "    .dataframe tbody tr th {\n",
       "        vertical-align: top;\n",
       "    }\n",
       "\n",
       "    .dataframe thead th {\n",
       "        text-align: right;\n",
       "    }\n",
       "</style>\n",
       "<table border=\"1\" class=\"dataframe\">\n",
       "  <thead>\n",
       "    <tr style=\"text-align: right;\">\n",
       "      <th></th>\n",
       "      <th>taxonID</th>\n",
       "      <th>GSE_geo_accession</th>\n",
       "      <th>GSM_geo_accession</th>\n",
       "      <th>ScientificNameSpecie</th>\n",
       "      <th>GSM_supplementary_file</th>\n",
       "      <th>File_type</th>\n",
       "      <th>File_size</th>\n",
       "    </tr>\n",
       "  </thead>\n",
       "  <tbody>\n",
       "    <tr>\n",
       "      <th>459</th>\n",
       "      <td>511145</td>\n",
       "      <td>GSE57084</td>\n",
       "      <td>GSM1374996</td>\n",
       "      <td>Escherichia coli</td>\n",
       "      <td>geo/samples/GSM1374nnn/GSM1374996/suppl/</td>\n",
       "      <td>ftr;txt</td>\n",
       "      <td>3969377</td>\n",
       "    </tr>\n",
       "    <tr>\n",
       "      <th>460</th>\n",
       "      <td>511145</td>\n",
       "      <td>GSE57084</td>\n",
       "      <td>GSM1374997</td>\n",
       "      <td>Escherichia coli</td>\n",
       "      <td>geo/samples/GSM1374nnn/GSM1374997/suppl/</td>\n",
       "      <td>ftr;txt</td>\n",
       "      <td>3964788</td>\n",
       "    </tr>\n",
       "    <tr>\n",
       "      <th>461</th>\n",
       "      <td>511145</td>\n",
       "      <td>GSE57084</td>\n",
       "      <td>GSM1374998</td>\n",
       "      <td>Escherichia coli</td>\n",
       "      <td>geo/samples/GSM1374nnn/GSM1374998/suppl/</td>\n",
       "      <td>ftr;txt</td>\n",
       "      <td>3977027</td>\n",
       "    </tr>\n",
       "    <tr>\n",
       "      <th>462</th>\n",
       "      <td>511145</td>\n",
       "      <td>GSE57084</td>\n",
       "      <td>GSM1374999</td>\n",
       "      <td>Escherichia coli</td>\n",
       "      <td>geo/samples/GSM1374nnn/GSM1374999/suppl/</td>\n",
       "      <td>ftr;txt</td>\n",
       "      <td>3955700</td>\n",
       "    </tr>\n",
       "    <tr>\n",
       "      <th>463</th>\n",
       "      <td>511145</td>\n",
       "      <td>GSE57084</td>\n",
       "      <td>GSM1375000</td>\n",
       "      <td>Escherichia coli</td>\n",
       "      <td>geo/samples/GSM1375nnn/GSM1375000/suppl/</td>\n",
       "      <td>ftr;txt</td>\n",
       "      <td>3951458</td>\n",
       "    </tr>\n",
       "    <tr>\n",
       "      <th>464</th>\n",
       "      <td>511145</td>\n",
       "      <td>GSE57084</td>\n",
       "      <td>GSM1375001</td>\n",
       "      <td>Escherichia coli</td>\n",
       "      <td>geo/samples/GSM1375nnn/GSM1375001/suppl/</td>\n",
       "      <td>ftr;txt</td>\n",
       "      <td>3981908</td>\n",
       "    </tr>\n",
       "    <tr>\n",
       "      <th>603</th>\n",
       "      <td>511145</td>\n",
       "      <td>GSE47221</td>\n",
       "      <td>GSM1147038</td>\n",
       "      <td>Escherichia coli</td>\n",
       "      <td>geo/samples/GSM1147nnn/GSM1147038/suppl/</td>\n",
       "      <td>ftr;txt</td>\n",
       "      <td>3913668</td>\n",
       "    </tr>\n",
       "    <tr>\n",
       "      <th>604</th>\n",
       "      <td>511145</td>\n",
       "      <td>GSE47221</td>\n",
       "      <td>GSM1147039</td>\n",
       "      <td>Escherichia coli</td>\n",
       "      <td>geo/samples/GSM1147nnn/GSM1147039/suppl/</td>\n",
       "      <td>ftr;txt</td>\n",
       "      <td>3949100</td>\n",
       "    </tr>\n",
       "    <tr>\n",
       "      <th>605</th>\n",
       "      <td>511145</td>\n",
       "      <td>GSE47221</td>\n",
       "      <td>GSM1147040</td>\n",
       "      <td>Escherichia coli</td>\n",
       "      <td>geo/samples/GSM1147nnn/GSM1147040/suppl/</td>\n",
       "      <td>ftr;txt</td>\n",
       "      <td>3921892</td>\n",
       "    </tr>\n",
       "    <tr>\n",
       "      <th>606</th>\n",
       "      <td>511145</td>\n",
       "      <td>GSE47221</td>\n",
       "      <td>GSM1147041</td>\n",
       "      <td>Escherichia coli</td>\n",
       "      <td>geo/samples/GSM1147nnn/GSM1147041/suppl/</td>\n",
       "      <td>ftr;txt</td>\n",
       "      <td>3953843</td>\n",
       "    </tr>\n",
       "    <tr>\n",
       "      <th>607</th>\n",
       "      <td>511145</td>\n",
       "      <td>GSE47221</td>\n",
       "      <td>GSM1147042</td>\n",
       "      <td>Escherichia coli</td>\n",
       "      <td>geo/samples/GSM1147nnn/GSM1147042/suppl/</td>\n",
       "      <td>ftr;txt</td>\n",
       "      <td>3909414</td>\n",
       "    </tr>\n",
       "    <tr>\n",
       "      <th>608</th>\n",
       "      <td>511145</td>\n",
       "      <td>GSE47221</td>\n",
       "      <td>GSM1147043</td>\n",
       "      <td>Escherichia coli</td>\n",
       "      <td>geo/samples/GSM1147nnn/GSM1147043/suppl/</td>\n",
       "      <td>ftr;txt</td>\n",
       "      <td>3942302</td>\n",
       "    </tr>\n",
       "  </tbody>\n",
       "</table>\n",
       "</div>"
      ],
      "text/plain": [
       "     taxonID GSE_geo_accession GSM_geo_accession ScientificNameSpecie  \\\n",
       "459   511145          GSE57084        GSM1374996     Escherichia coli   \n",
       "460   511145          GSE57084        GSM1374997     Escherichia coli   \n",
       "461   511145          GSE57084        GSM1374998     Escherichia coli   \n",
       "462   511145          GSE57084        GSM1374999     Escherichia coli   \n",
       "463   511145          GSE57084        GSM1375000     Escherichia coli   \n",
       "464   511145          GSE57084        GSM1375001     Escherichia coli   \n",
       "603   511145          GSE47221        GSM1147038     Escherichia coli   \n",
       "604   511145          GSE47221        GSM1147039     Escherichia coli   \n",
       "605   511145          GSE47221        GSM1147040     Escherichia coli   \n",
       "606   511145          GSE47221        GSM1147041     Escherichia coli   \n",
       "607   511145          GSE47221        GSM1147042     Escherichia coli   \n",
       "608   511145          GSE47221        GSM1147043     Escherichia coli   \n",
       "\n",
       "                       GSM_supplementary_file File_type  File_size  \n",
       "459  geo/samples/GSM1374nnn/GSM1374996/suppl/   ftr;txt    3969377  \n",
       "460  geo/samples/GSM1374nnn/GSM1374997/suppl/   ftr;txt    3964788  \n",
       "461  geo/samples/GSM1374nnn/GSM1374998/suppl/   ftr;txt    3977027  \n",
       "462  geo/samples/GSM1374nnn/GSM1374999/suppl/   ftr;txt    3955700  \n",
       "463  geo/samples/GSM1375nnn/GSM1375000/suppl/   ftr;txt    3951458  \n",
       "464  geo/samples/GSM1375nnn/GSM1375001/suppl/   ftr;txt    3981908  \n",
       "603  geo/samples/GSM1147nnn/GSM1147038/suppl/   ftr;txt    3913668  \n",
       "604  geo/samples/GSM1147nnn/GSM1147039/suppl/   ftr;txt    3949100  \n",
       "605  geo/samples/GSM1147nnn/GSM1147040/suppl/   ftr;txt    3921892  \n",
       "606  geo/samples/GSM1147nnn/GSM1147041/suppl/   ftr;txt    3953843  \n",
       "607  geo/samples/GSM1147nnn/GSM1147042/suppl/   ftr;txt    3909414  \n",
       "608  geo/samples/GSM1147nnn/GSM1147043/suppl/   ftr;txt    3942302  "
      ]
     },
     "execution_count": 207,
     "metadata": {},
     "output_type": "execute_result"
    }
   ],
   "source": [
    "e_coli[e_coli[\"File_type\"] == 'ftr;txt']"
   ]
  },
  {
   "cell_type": "code",
   "execution_count": 208,
   "metadata": {},
   "outputs": [],
   "source": [
    "e_coli.to_csv(\"../results/230919/eColiFilesData.tsv\", sep=\"\\t\", index=False, header=True)"
   ]
  },
  {
   "cell_type": "markdown",
   "metadata": {},
   "source": [
    "eukaTestBig : 1683258\n",
    "GSM2981051\n"
   ]
  },
  {
   "cell_type": "markdown",
   "metadata": {},
   "source": [
    "# 20 de septiembre de 2023"
   ]
  },
  {
   "cell_type": "code",
   "execution_count": 27,
   "metadata": {},
   "outputs": [],
   "source": [
    "import pandas as pd"
   ]
  },
  {
   "cell_type": "code",
   "execution_count": 28,
   "metadata": {},
   "outputs": [],
   "source": [
    "data = pd.read_csv(\"../results/230919/eColiFilesData.tsv\", sep='\\t')"
   ]
  },
  {
   "cell_type": "code",
   "execution_count": 29,
   "metadata": {},
   "outputs": [
    {
     "data": {
      "text/plain": [
       "<AxesSubplot:>"
      ]
     },
     "execution_count": 29,
     "metadata": {},
     "output_type": "execute_result"
    },
    {
     "data": {
      "image/png": "[encoded data removed]",
      "text/plain": [
       "<Figure size 720x432 with 1 Axes>"
      ]
     },
     "metadata": {
      "needs_background": "light"
     },
     "output_type": "display_data"
    }
   ],
   "source": [
    "data[\"File_type\"].value_counts().plot(kind='bar', figsize=(10,6))"
   ]
  },
  {
   "cell_type": "code",
   "execution_count": 49,
   "metadata": {},
   "outputs": [
    {
     "data": {
      "text/html": [
       "<div>\n",
       "<style scoped>\n",
       "    .dataframe tbody tr th:only-of-type {\n",
       "        vertical-align: middle;\n",
       "    }\n",
       "\n",
       "    .dataframe tbody tr th {\n",
       "        vertical-align: top;\n",
       "    }\n",
       "\n",
       "    .dataframe thead th {\n",
       "        text-align: right;\n",
       "    }\n",
       "</style>\n",
       "<table border=\"1\" class=\"dataframe\">\n",
       "  <thead>\n",
       "    <tr style=\"text-align: right;\">\n",
       "      <th></th>\n",
       "      <th>taxonID</th>\n",
       "      <th>GSE_geo_accession</th>\n",
       "      <th>GSM_geo_accession</th>\n",
       "      <th>ScientificNameSpecie</th>\n",
       "      <th>GSM_supplementary_file</th>\n",
       "      <th>File_type</th>\n",
       "      <th>File_size</th>\n",
       "    </tr>\n",
       "  </thead>\n",
       "  <tbody>\n",
       "    <tr>\n",
       "      <th>16</th>\n",
       "      <td>511145</td>\n",
       "      <td>GSE144316</td>\n",
       "      <td>GSM4285723</td>\n",
       "      <td>Escherichia coli</td>\n",
       "      <td>geo/samples/GSM4285nnn/GSM4285723/suppl/</td>\n",
       "      <td>pair</td>\n",
       "      <td>2170842</td>\n",
       "    </tr>\n",
       "    <tr>\n",
       "      <th>17</th>\n",
       "      <td>511145</td>\n",
       "      <td>GSE144316</td>\n",
       "      <td>GSM4285723</td>\n",
       "      <td>Escherichia coli</td>\n",
       "      <td>geo/samples/GSM4285nnn/GSM4285723/suppl/</td>\n",
       "      <td>pair</td>\n",
       "      <td>2170842</td>\n",
       "    </tr>\n",
       "    <tr>\n",
       "      <th>18</th>\n",
       "      <td>511145</td>\n",
       "      <td>GSE144315</td>\n",
       "      <td>GSM4285723</td>\n",
       "      <td>Escherichia coli</td>\n",
       "      <td>geo/samples/GSM4285nnn/GSM4285723/suppl/</td>\n",
       "      <td>pair</td>\n",
       "      <td>2170842</td>\n",
       "    </tr>\n",
       "    <tr>\n",
       "      <th>19</th>\n",
       "      <td>511145</td>\n",
       "      <td>GSE144315</td>\n",
       "      <td>GSM4285723</td>\n",
       "      <td>Escherichia coli</td>\n",
       "      <td>geo/samples/GSM4285nnn/GSM4285723/suppl/</td>\n",
       "      <td>pair</td>\n",
       "      <td>2170842</td>\n",
       "    </tr>\n",
       "    <tr>\n",
       "      <th>20</th>\n",
       "      <td>511145</td>\n",
       "      <td>GSE144316</td>\n",
       "      <td>GSM4285727</td>\n",
       "      <td>Escherichia coli</td>\n",
       "      <td>geo/samples/GSM4285nnn/GSM4285727/suppl/</td>\n",
       "      <td>pair</td>\n",
       "      <td>2166970</td>\n",
       "    </tr>\n",
       "    <tr>\n",
       "      <th>...</th>\n",
       "      <td>...</td>\n",
       "      <td>...</td>\n",
       "      <td>...</td>\n",
       "      <td>...</td>\n",
       "      <td>...</td>\n",
       "      <td>...</td>\n",
       "      <td>...</td>\n",
       "    </tr>\n",
       "    <tr>\n",
       "      <th>789</th>\n",
       "      <td>511145</td>\n",
       "      <td>GSE29424</td>\n",
       "      <td>GSM727652</td>\n",
       "      <td>Escherichia coli</td>\n",
       "      <td>geo/samples/GSM727nnn/GSM727652/suppl/</td>\n",
       "      <td>pair</td>\n",
       "      <td>1025226</td>\n",
       "    </tr>\n",
       "    <tr>\n",
       "      <th>790</th>\n",
       "      <td>511145</td>\n",
       "      <td>GSE29424</td>\n",
       "      <td>GSM727653</td>\n",
       "      <td>Escherichia coli</td>\n",
       "      <td>geo/samples/GSM727nnn/GSM727653/suppl/</td>\n",
       "      <td>pair</td>\n",
       "      <td>1031102</td>\n",
       "    </tr>\n",
       "    <tr>\n",
       "      <th>791</th>\n",
       "      <td>511145</td>\n",
       "      <td>GSE29424</td>\n",
       "      <td>GSM727654</td>\n",
       "      <td>Escherichia coli</td>\n",
       "      <td>geo/samples/GSM727nnn/GSM727654/suppl/</td>\n",
       "      <td>pair</td>\n",
       "      <td>1051456</td>\n",
       "    </tr>\n",
       "    <tr>\n",
       "      <th>792</th>\n",
       "      <td>511145</td>\n",
       "      <td>GSE29424</td>\n",
       "      <td>GSM727655</td>\n",
       "      <td>Escherichia coli</td>\n",
       "      <td>geo/samples/GSM727nnn/GSM727655/suppl/</td>\n",
       "      <td>pair</td>\n",
       "      <td>1050436</td>\n",
       "    </tr>\n",
       "    <tr>\n",
       "      <th>793</th>\n",
       "      <td>511145</td>\n",
       "      <td>GSE29424</td>\n",
       "      <td>GSM727656</td>\n",
       "      <td>Escherichia coli</td>\n",
       "      <td>geo/samples/GSM727nnn/GSM727656/suppl/</td>\n",
       "      <td>pair</td>\n",
       "      <td>1039931</td>\n",
       "    </tr>\n",
       "  </tbody>\n",
       "</table>\n",
       "<p>261 rows × 7 columns</p>\n",
       "</div>"
      ],
      "text/plain": [
       "     taxonID GSE_geo_accession GSM_geo_accession ScientificNameSpecie  \\\n",
       "16    511145         GSE144316        GSM4285723     Escherichia coli   \n",
       "17    511145         GSE144316        GSM4285723     Escherichia coli   \n",
       "18    511145         GSE144315        GSM4285723     Escherichia coli   \n",
       "19    511145         GSE144315        GSM4285723     Escherichia coli   \n",
       "20    511145         GSE144316        GSM4285727     Escherichia coli   \n",
       "..       ...               ...               ...                  ...   \n",
       "789   511145          GSE29424         GSM727652     Escherichia coli   \n",
       "790   511145          GSE29424         GSM727653     Escherichia coli   \n",
       "791   511145          GSE29424         GSM727654     Escherichia coli   \n",
       "792   511145          GSE29424         GSM727655     Escherichia coli   \n",
       "793   511145          GSE29424         GSM727656     Escherichia coli   \n",
       "\n",
       "                       GSM_supplementary_file File_type  File_size  \n",
       "16   geo/samples/GSM4285nnn/GSM4285723/suppl/      pair    2170842  \n",
       "17   geo/samples/GSM4285nnn/GSM4285723/suppl/      pair    2170842  \n",
       "18   geo/samples/GSM4285nnn/GSM4285723/suppl/      pair    2170842  \n",
       "19   geo/samples/GSM4285nnn/GSM4285723/suppl/      pair    2170842  \n",
       "20   geo/samples/GSM4285nnn/GSM4285727/suppl/      pair    2166970  \n",
       "..                                        ...       ...        ...  \n",
       "789    geo/samples/GSM727nnn/GSM727652/suppl/      pair    1025226  \n",
       "790    geo/samples/GSM727nnn/GSM727653/suppl/      pair    1031102  \n",
       "791    geo/samples/GSM727nnn/GSM727654/suppl/      pair    1051456  \n",
       "792    geo/samples/GSM727nnn/GSM727655/suppl/      pair    1050436  \n",
       "793    geo/samples/GSM727nnn/GSM727656/suppl/      pair    1039931  \n",
       "\n",
       "[261 rows x 7 columns]"
      ]
     },
     "execution_count": 49,
     "metadata": {},
     "output_type": "execute_result"
    }
   ],
   "source": [
    "data[data[\"File_type\"] == \"pair\"]"
   ]
  },
  {
   "cell_type": "code",
   "execution_count": 31,
   "metadata": {},
   "outputs": [
    {
     "data": {
      "text/plain": [
       "(1278, 7)"
      ]
     },
     "execution_count": 31,
     "metadata": {},
     "output_type": "execute_result"
    }
   ],
   "source": [
    "data.shape"
   ]
  },
  {
   "cell_type": "code",
   "execution_count": 46,
   "metadata": {},
   "outputs": [],
   "source": [
    "ecoli_txids = taxa[(taxa[\"ScientificNameSpecie\"] == \"Escherichia coli\") & (taxa[\"taxonID\"] != 562 )][\"taxonID\"].to_list()"
   ]
  },
  {
   "cell_type": "code",
   "execution_count": 48,
   "metadata": {},
   "outputs": [
    {
     "data": {
      "text/plain": [
       "(1260, 25)"
      ]
     },
     "execution_count": 48,
     "metadata": {},
     "output_type": "execute_result"
    }
   ],
   "source": [
    "data03[data03['taxonID'].isin(ecoli_txids)].shape"
   ]
  },
  {
   "cell_type": "code",
   "execution_count": 5,
   "metadata": {},
   "outputs": [],
   "source": [
    "file_man = pd.merge(data03, data, on=\"GSM_geo_accession\")\n",
    "mans = file_man[file_man[\"File_type\"] == 'txt'][[\"GSM_geo_accession\", \"File_type\", \"GPL_manufacturer\"]][\"GPL_manufacturer\"].to_list()\n"
   ]
  },
  {
   "cell_type": "code",
   "execution_count": 6,
   "metadata": {},
   "outputs": [
    {
     "data": {
      "text/plain": [
       "['GSM1061658',\n",
       " 'GSM3409404',\n",
       " 'GSM508925',\n",
       " 'GSM1899947',\n",
       " 'GSM1099464',\n",
       " 'GSM5501743',\n",
       " 'GSM279016',\n",
       " 'GSM625951']"
      ]
     },
     "execution_count": 6,
     "metadata": {},
     "output_type": "execute_result"
    }
   ],
   "source": [
    "mans = set(mans)\n",
    "gsms = [file_man.loc[file_man[file_man[\"GPL_manufacturer\"] == manu].index[0],\"GSM_geo_accession\"] for manu in mans]\n",
    "gsms"
   ]
  },
  {
   "cell_type": "code",
   "execution_count": 7,
   "metadata": {},
   "outputs": [],
   "source": [
    "gsms = []\n",
    "for j,man in enumerate(mans):\n",
    "    for i,row in file_man.iterrows():\n",
    "        if row[\"File_type\"] == \"txt\":\n",
    "            if row[\"GPL_manufacturer\"] == man:\n",
    "                gsms.append(row[\"GSM_geo_accession\"])\n",
    "                break\n",
    "                "
   ]
  },
  {
   "cell_type": "code",
   "execution_count": 8,
   "metadata": {},
   "outputs": [
    {
     "data": {
      "text/plain": [
       "['GSM1061658',\n",
       " 'GSM2464576',\n",
       " 'GSM508925',\n",
       " 'GSM1899947',\n",
       " 'GSM1099464',\n",
       " 'GSM5501743',\n",
       " 'GSM279016',\n",
       " 'GSM625951']"
      ]
     },
     "execution_count": 8,
     "metadata": {},
     "output_type": "execute_result"
    }
   ],
   "source": [
    "gsms"
   ]
  },
  {
   "cell_type": "code",
   "execution_count": 44,
   "metadata": {},
   "outputs": [
    {
     "ename": "NameError",
     "evalue": "name 'pd' is not defined",
     "output_type": "error",
     "traceback": [
      "\u001b[0;31m---------------------------------------------------------------------------\u001b[0m",
      "\u001b[0;31mNameError\u001b[0m                                 Traceback (most recent call last)",
      "\u001b[0;32m<ipython-input-44-802c38feff91>\u001b[0m in \u001b[0;36m<module>\u001b[0;34m\u001b[0m\n\u001b[0;32m----> 1\u001b[0;31m \u001b[0mpd\u001b[0m\u001b[0;34m.\u001b[0m\u001b[0mDataFrame\u001b[0m\u001b[0;34m.\u001b[0m\u001b[0mfrom_dict\u001b[0m\u001b[0;34m(\u001b[0m\u001b[0;34m{\u001b[0m\u001b[0mfile\u001b[0m\u001b[0;34m.\u001b[0m\u001b[0msplit\u001b[0m\u001b[0;34m(\u001b[0m\u001b[0;34m'_'\u001b[0m\u001b[0;34m)\u001b[0m\u001b[0;34m[\u001b[0m\u001b[0;36m0\u001b[0m\u001b[0;34m]\u001b[0m \u001b[0;34m:\u001b[0m \u001b[0mread_line\u001b[0m\u001b[0;34m(\u001b[0m\u001b[0mos\u001b[0m\u001b[0;34m.\u001b[0m\u001b[0mpath\u001b[0m\u001b[0;34m.\u001b[0m\u001b[0mjoin\u001b[0m\u001b[0;34m(\u001b[0m\u001b[0mpath\u001b[0m\u001b[0;34m,\u001b[0m \u001b[0mfile\u001b[0m\u001b[0;34m)\u001b[0m\u001b[0;34m)\u001b[0m \u001b[0;32mfor\u001b[0m \u001b[0mfile\u001b[0m \u001b[0;32min\u001b[0m \u001b[0mfiles\u001b[0m\u001b[0;34m}\u001b[0m\u001b[0;34m)\u001b[0m\u001b[0;34m\u001b[0m\u001b[0;34m\u001b[0m\u001b[0m\n\u001b[0m",
      "\u001b[0;31mNameError\u001b[0m: name 'pd' is not defined"
     ]
    }
   ],
   "source": [
    "pd.DataFrame.from_dict({file.split('_')[0] : read_line(os.path.join(path, file)) for file in files})"
   ]
  },
  {
   "cell_type": "code",
   "execution_count": 131,
   "metadata": {},
   "outputs": [],
   "source": [
    "import GEOparse"
   ]
  },
  {
   "cell_type": "code",
   "execution_count": 180,
   "metadata": {},
   "outputs": [],
   "source": [
    "gsms = {gsm : GEOparse.get_GEO(gsm, silent=True) for gsm in gsms}"
   ]
  },
  {
   "cell_type": "code",
   "execution_count": 181,
   "metadata": {},
   "outputs": [],
   "source": [
    "ftps = [gsm.metadata.get(\"supplementary_file\") for gsm in gsms.values()]\n",
    "with open(\"ftp_links.txt\", \"w\") as file:\n",
    "    for ftp in ftps:\n",
    "        file.write(f\"https{ftp[0][3:]}\\n\")"
   ]
  },
  {
   "cell_type": "markdown",
   "metadata": {},
   "source": [
    "### File header relation"
   ]
  },
  {
   "cell_type": "code",
   "execution_count": 52,
   "metadata": {},
   "outputs": [],
   "source": [
    "import pandas as pd\n",
    "import os\n",
    "metadata = pd.read_csv(\"../results/230903/tests/230903Test.tsv\", sep='\\t')\n",
    "file_rel = pd.read_csv(\"../results/230919/eColiFilesData.tsv\", sep='\\t')\n",
    "file_man = pd.merge(metadata, file_rel, on=\"GSM_geo_accession\")\n",
    "mans = set(file_man[file_man[\"File_type\"] == 'txt'][\"GPL_manufacturer\"].to_list())"
   ]
  },
  {
   "cell_type": "code",
   "execution_count": 53,
   "metadata": {},
   "outputs": [],
   "source": [
    "gsms = []\n",
    "for j,man in enumerate(mans):\n",
    "    for i,row in file_man.iterrows():\n",
    "        if row[\"File_type\"] == \"txt\":\n",
    "            if row[\"GPL_manufacturer\"] == man:\n",
    "                gsms.append(row[\"GSM_geo_accession\"])\n",
    "                break"
   ]
  },
  {
   "cell_type": "code",
   "execution_count": 69,
   "metadata": {},
   "outputs": [],
   "source": [
    "def read_line(file, line=0):\n",
    "    with open(file, 'rb') as f:\n",
    "        l = f.readlines()[line].decode()\n",
    "    \n",
    "    for char in ['\\n','\\r']:\n",
    "        l = l.replace(char,'')\n",
    "    l = l.replace('\\t', '   ')\n",
    "    return(l)"
   ]
  },
  {
   "cell_type": "code",
   "execution_count": 70,
   "metadata": {},
   "outputs": [],
   "source": [
    "path = \"../data/GSM_SUPPL_TXT/\"\n",
    "files = os.listdir(path)\n",
    "geo_acc,heads = zip(*[(file.split('_')[0], read_line(os.path.join(path, file))) for file in files])\n",
    "headers = pd.DataFrame.from_dict({\"GSM_geo_accession\" : geo_acc, \"Header\":heads})\n"
   ]
  },
  {
   "cell_type": "code",
   "execution_count": 71,
   "metadata": {},
   "outputs": [],
   "source": [
    "headers = headers.merge(file_man, on=\"GSM_geo_accession\")\n"
   ]
  },
  {
   "cell_type": "code",
   "execution_count": 72,
   "metadata": {},
   "outputs": [
    {
     "data": {
      "text/html": [
       "<div>\n",
       "<style scoped>\n",
       "    .dataframe tbody tr th:only-of-type {\n",
       "        vertical-align: middle;\n",
       "    }\n",
       "\n",
       "    .dataframe tbody tr th {\n",
       "        vertical-align: top;\n",
       "    }\n",
       "\n",
       "    .dataframe thead th {\n",
       "        text-align: right;\n",
       "    }\n",
       "</style>\n",
       "<table border=\"1\" class=\"dataframe\">\n",
       "  <thead>\n",
       "    <tr style=\"text-align: right;\">\n",
       "      <th></th>\n",
       "      <th>GSM_geo_accession</th>\n",
       "      <th>GPL_manufacturer</th>\n",
       "      <th>File_size</th>\n",
       "      <th>File_type</th>\n",
       "      <th>Header</th>\n",
       "    </tr>\n",
       "  </thead>\n",
       "  <tbody>\n",
       "    <tr>\n",
       "      <th>0</th>\n",
       "      <td>GSM1061658</td>\n",
       "      <td>MYcroarray, MI. USA.</td>\n",
       "      <td>3602311</td>\n",
       "      <td>txt</td>\n",
       "      <td>ATF   1.0</td>\n",
       "    </tr>\n",
       "    <tr>\n",
       "      <th>1</th>\n",
       "      <td>GSM1099464</td>\n",
       "      <td>DIGITAL GENOMICS</td>\n",
       "      <td>569984</td>\n",
       "      <td>txt</td>\n",
       "      <td>ATF   1.0</td>\n",
       "    </tr>\n",
       "    <tr>\n",
       "      <th>2</th>\n",
       "      <td>GSM1899947</td>\n",
       "      <td>Agilent</td>\n",
       "      <td>1832337</td>\n",
       "      <td>txt</td>\n",
       "      <td>TYPE   text   text   text   integer   text   f...</td>\n",
       "    </tr>\n",
       "    <tr>\n",
       "      <th>3</th>\n",
       "      <td>GSM2464576</td>\n",
       "      <td>Affymetrix</td>\n",
       "      <td>96297</td>\n",
       "      <td>txt</td>\n",
       "      <td># Notes : All Entities                        ...</td>\n",
       "    </tr>\n",
       "    <tr>\n",
       "      <th>4</th>\n",
       "      <td>GSM279016</td>\n",
       "      <td>UBEC, School of Biosciences, University of Bir...</td>\n",
       "      <td>2023043</td>\n",
       "      <td>txt</td>\n",
       "      <td>Begin Header</td>\n",
       "    </tr>\n",
       "    <tr>\n",
       "      <th>5</th>\n",
       "      <td>GSM5501743</td>\n",
       "      <td>Agilent Technologies</td>\n",
       "      <td>803061</td>\n",
       "      <td>txt</td>\n",
       "      <td>FeatureNum   Row   Col   SubTypeMask   Control...</td>\n",
       "    </tr>\n",
       "    <tr>\n",
       "      <th>6</th>\n",
       "      <td>GSM625951</td>\n",
       "      <td>Agilent/OGT</td>\n",
       "      <td>3211966</td>\n",
       "      <td>txt</td>\n",
       "      <td>Image File   D:\\Ganwu Li\\2009-02-22_0000_532.t...</td>\n",
       "    </tr>\n",
       "  </tbody>\n",
       "</table>\n",
       "</div>"
      ],
      "text/plain": [
       "  GSM_geo_accession                                   GPL_manufacturer  \\\n",
       "0        GSM1061658                               MYcroarray, MI. USA.   \n",
       "1        GSM1099464                                   DIGITAL GENOMICS   \n",
       "2        GSM1899947                                            Agilent   \n",
       "3        GSM2464576                                         Affymetrix   \n",
       "4         GSM279016  UBEC, School of Biosciences, University of Bir...   \n",
       "5        GSM5501743                               Agilent Technologies   \n",
       "6         GSM625951                                        Agilent/OGT   \n",
       "\n",
       "   File_size File_type                                             Header  \n",
       "0    3602311       txt                                          ATF   1.0  \n",
       "1     569984       txt                                          ATF   1.0  \n",
       "2    1832337       txt  TYPE   text   text   text   integer   text   f...  \n",
       "3      96297       txt  # Notes : All Entities                        ...  \n",
       "4    2023043       txt                                       Begin Header  \n",
       "5     803061       txt  FeatureNum   Row   Col   SubTypeMask   Control...  \n",
       "6    3211966       txt  Image File   D:\\Ganwu Li\\2009-02-22_0000_532.t...  "
      ]
     },
     "execution_count": 72,
     "metadata": {},
     "output_type": "execute_result"
    }
   ],
   "source": [
    "headers[[\"GSM_geo_accession\", \"GPL_manufacturer\",\"File_size\", \"File_type\", \"Header\"]]"
   ]
  },
  {
   "cell_type": "code",
   "execution_count": 3,
   "metadata": {},
   "outputs": [
    {
     "name": "stderr",
     "output_type": "stream",
     "text": [
      "09/28/2023 11:50:02 AM \n",
      "##############################################################################\n",
      "Star running\n",
      "##############################################################################\n",
      "\n",
      "09/28/2023 11:50:02 AM Reading arguments...\n",
      "usage: ipykernel_launcher.py [-h] [-t TAXID] [-o OUTFILE] [-p PATH] [-e EMAIL]\n",
      "                             [-a APIKEY] [-s SLEEPTIME] [-c CORES] [-m MAX]\n",
      "                             [-r {specie,sameTaxId}]\n",
      "ipykernel_launcher.py: error: unrecognized arguments: --ip=127.0.0.1 --stdin=9008 --control=9006 --hb=9005 --Session.signature_scheme=\"hmac-sha256\" --Session.key=b\"4d023f6e-26cd-4186-b825-c4d7a0e9104b\" --shell=9007 --transport=\"tcp\" --iopub=9009 --f=/home/diegocar/.local/share/jupyter/runtime/kernel-v2-3583920Lwu2OVRIFxkd.json\n"
     ]
    },
    {
     "ename": "SystemExit",
     "evalue": "2",
     "output_type": "error",
     "traceback": [
      "An exception has occurred, use %tb to see the full traceback.\n",
      "\u001b[0;31mSystemExit\u001b[0m\u001b[0;31m:\u001b[0m 2\n"
     ]
    },
    {
     "name": "stderr",
     "output_type": "stream",
     "text": [
      "/export/apps/bioconda/lib/python3.8/site-packages/IPython/core/interactiveshell.py:3445: UserWarning: To exit: use 'exit', 'quit', or Ctrl-D.\n",
      "  warn(\"To exit: use 'exit', 'quit', or Ctrl-D.\", stacklevel=1)\n"
     ]
    }
   ],
   "source": [
    "from multpro import format_time"
   ]
  },
  {
   "cell_type": "code",
   "execution_count": 4,
   "metadata": {},
   "outputs": [
    {
     "ename": "NameError",
     "evalue": "name 'format_time' is not defined",
     "output_type": "error",
     "traceback": [
      "\u001b[0;31m---------------------------------------------------------------------------\u001b[0m",
      "\u001b[0;31mNameError\u001b[0m                                 Traceback (most recent call last)",
      "\u001b[0;32m<ipython-input-4-6b6d48c53c3f>\u001b[0m in \u001b[0;36m<module>\u001b[0;34m\u001b[0m\n\u001b[0;32m----> 1\u001b[0;31m \u001b[0mformat_time\u001b[0m\u001b[0;34m(\u001b[0m\u001b[0;36m1000\u001b[0m\u001b[0;34m)\u001b[0m\u001b[0;34m\u001b[0m\u001b[0;34m\u001b[0m\u001b[0m\n\u001b[0m",
      "\u001b[0;31mNameError\u001b[0m: name 'format_time' is not defined"
     ]
    }
   ],
   "source": [
    "format_time(1000)"
   ]
  }
 ],
 "metadata": {
  "kernelspec": {
   "display_name": "base",
   "language": "python",
   "name": "python3"
  },
  "language_info": {
   "codemirror_mode": {
    "name": "ipython",
    "version": 3
   },
   "file_extension": ".py",
   "mimetype": "text/x-python",
   "name": "python",
   "nbconvert_exporter": "python",
   "pygments_lexer": "ipython3",
   "version": "3.8.8"
  },
  "orig_nbformat": 4
 },
 "nbformat": 4,
 "nbformat_minor": 2
}
