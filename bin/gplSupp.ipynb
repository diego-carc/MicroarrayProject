{
 "cells": [
  {
   "cell_type": "markdown",
   "metadata": {},
   "source": [
    "# GPL supplementary files"
   ]
  },
  {
   "cell_type": "code",
   "execution_count": 1,
   "metadata": {},
   "outputs": [],
   "source": [
    "import pandas as pd\n",
    "import os\n",
    "import re"
   ]
  },
  {
   "cell_type": "code",
   "execution_count": 2,
   "metadata": {},
   "outputs": [
    {
     "data": {
      "text/html": [
       "<div>\n",
       "<style scoped>\n",
       "    .dataframe tbody tr th:only-of-type {\n",
       "        vertical-align: middle;\n",
       "    }\n",
       "\n",
       "    .dataframe tbody tr th {\n",
       "        vertical-align: top;\n",
       "    }\n",
       "\n",
       "    .dataframe thead th {\n",
       "        text-align: right;\n",
       "    }\n",
       "</style>\n",
       "<table border=\"1\" class=\"dataframe\">\n",
       "  <thead>\n",
       "    <tr style=\"text-align: right;\">\n",
       "      <th></th>\n",
       "      <th>GSM_geo_accession</th>\n",
       "      <th>Local_path</th>\n",
       "      <th>File_name</th>\n",
       "      <th>is_processable</th>\n",
       "      <th>GPL_manufacturer</th>\n",
       "      <th>GPL_supplementary_file</th>\n",
       "      <th>GPL_geo_accession</th>\n",
       "    </tr>\n",
       "  </thead>\n",
       "  <tbody>\n",
       "    <tr>\n",
       "      <th>0</th>\n",
       "      <td>GSM4505453</td>\n",
       "      <td>/export/storage/users/diegocar/abasySpecieFile...</td>\n",
       "      <td>GSM4505453_168_lysis.phase_1_FEoutput.txt</td>\n",
       "      <td>True</td>\n",
       "      <td>Agilent</td>\n",
       "      <td>NaN</td>\n",
       "      <td>GPL21669</td>\n",
       "    </tr>\n",
       "    <tr>\n",
       "      <th>1</th>\n",
       "      <td>GSM4505454</td>\n",
       "      <td>/export/storage/users/diegocar/abasySpecieFile...</td>\n",
       "      <td>GSM4505454_168_lysis.phase_2_FEoutput.txt</td>\n",
       "      <td>True</td>\n",
       "      <td>Agilent</td>\n",
       "      <td>NaN</td>\n",
       "      <td>GPL21669</td>\n",
       "    </tr>\n",
       "    <tr>\n",
       "      <th>2</th>\n",
       "      <td>GSM4505455</td>\n",
       "      <td>/export/storage/users/diegocar/abasySpecieFile...</td>\n",
       "      <td>GSM4505455_168_lysis.phase_3_FEoutput.txt</td>\n",
       "      <td>True</td>\n",
       "      <td>Agilent</td>\n",
       "      <td>NaN</td>\n",
       "      <td>GPL21669</td>\n",
       "    </tr>\n",
       "    <tr>\n",
       "      <th>3</th>\n",
       "      <td>GSM4505456</td>\n",
       "      <td>/export/storage/users/diegocar/abasySpecieFile...</td>\n",
       "      <td>GSM4505456_tat_lysis.phase_1_FEoutput.txt</td>\n",
       "      <td>True</td>\n",
       "      <td>Agilent</td>\n",
       "      <td>NaN</td>\n",
       "      <td>GPL21669</td>\n",
       "    </tr>\n",
       "    <tr>\n",
       "      <th>4</th>\n",
       "      <td>GSM4505457</td>\n",
       "      <td>/export/storage/users/diegocar/abasySpecieFile...</td>\n",
       "      <td>GSM4505457_tat_lysis.phase_2_FEoutput.txt</td>\n",
       "      <td>True</td>\n",
       "      <td>Agilent</td>\n",
       "      <td>NaN</td>\n",
       "      <td>GPL21669</td>\n",
       "    </tr>\n",
       "    <tr>\n",
       "      <th>...</th>\n",
       "      <td>...</td>\n",
       "      <td>...</td>\n",
       "      <td>...</td>\n",
       "      <td>...</td>\n",
       "      <td>...</td>\n",
       "      <td>...</td>\n",
       "      <td>...</td>\n",
       "    </tr>\n",
       "    <tr>\n",
       "      <th>8016</th>\n",
       "      <td>GSM33612</td>\n",
       "      <td>/export/storage/users/diegocar/abasySpecieFile...</td>\n",
       "      <td>GSM33612-Cy5.jpg</td>\n",
       "      <td>False</td>\n",
       "      <td>NaN</td>\n",
       "      <td>NaN</td>\n",
       "      <td>GPL1482</td>\n",
       "    </tr>\n",
       "    <tr>\n",
       "      <th>8017</th>\n",
       "      <td>GSM33612</td>\n",
       "      <td>/export/storage/users/diegocar/abasySpecieFile...</td>\n",
       "      <td>GSM33612-Ratio.jpg</td>\n",
       "      <td>False</td>\n",
       "      <td>NaN</td>\n",
       "      <td>NaN</td>\n",
       "      <td>GPL1482</td>\n",
       "    </tr>\n",
       "    <tr>\n",
       "      <th>8018</th>\n",
       "      <td>GSM33613</td>\n",
       "      <td>/export/storage/users/diegocar/abasySpecieFile...</td>\n",
       "      <td>GSM33613-Cy3.jpg</td>\n",
       "      <td>False</td>\n",
       "      <td>NaN</td>\n",
       "      <td>NaN</td>\n",
       "      <td>GPL1482</td>\n",
       "    </tr>\n",
       "    <tr>\n",
       "      <th>8019</th>\n",
       "      <td>GSM33613</td>\n",
       "      <td>/export/storage/users/diegocar/abasySpecieFile...</td>\n",
       "      <td>GSM33613-Cy5.jpg</td>\n",
       "      <td>False</td>\n",
       "      <td>NaN</td>\n",
       "      <td>NaN</td>\n",
       "      <td>GPL1482</td>\n",
       "    </tr>\n",
       "    <tr>\n",
       "      <th>8020</th>\n",
       "      <td>GSM33613</td>\n",
       "      <td>/export/storage/users/diegocar/abasySpecieFile...</td>\n",
       "      <td>GSM33613-Ratio.jpg</td>\n",
       "      <td>False</td>\n",
       "      <td>NaN</td>\n",
       "      <td>NaN</td>\n",
       "      <td>GPL1482</td>\n",
       "    </tr>\n",
       "  </tbody>\n",
       "</table>\n",
       "<p>7973 rows × 7 columns</p>\n",
       "</div>"
      ],
      "text/plain": [
       "     GSM_geo_accession                                         Local_path  \\\n",
       "0           GSM4505453  /export/storage/users/diegocar/abasySpecieFile...   \n",
       "1           GSM4505454  /export/storage/users/diegocar/abasySpecieFile...   \n",
       "2           GSM4505455  /export/storage/users/diegocar/abasySpecieFile...   \n",
       "3           GSM4505456  /export/storage/users/diegocar/abasySpecieFile...   \n",
       "4           GSM4505457  /export/storage/users/diegocar/abasySpecieFile...   \n",
       "...                ...                                                ...   \n",
       "8016          GSM33612  /export/storage/users/diegocar/abasySpecieFile...   \n",
       "8017          GSM33612  /export/storage/users/diegocar/abasySpecieFile...   \n",
       "8018          GSM33613  /export/storage/users/diegocar/abasySpecieFile...   \n",
       "8019          GSM33613  /export/storage/users/diegocar/abasySpecieFile...   \n",
       "8020          GSM33613  /export/storage/users/diegocar/abasySpecieFile...   \n",
       "\n",
       "                                      File_name  is_processable  \\\n",
       "0     GSM4505453_168_lysis.phase_1_FEoutput.txt            True   \n",
       "1     GSM4505454_168_lysis.phase_2_FEoutput.txt            True   \n",
       "2     GSM4505455_168_lysis.phase_3_FEoutput.txt            True   \n",
       "3     GSM4505456_tat_lysis.phase_1_FEoutput.txt            True   \n",
       "4     GSM4505457_tat_lysis.phase_2_FEoutput.txt            True   \n",
       "...                                         ...             ...   \n",
       "8016                           GSM33612-Cy5.jpg           False   \n",
       "8017                         GSM33612-Ratio.jpg           False   \n",
       "8018                           GSM33613-Cy3.jpg           False   \n",
       "8019                           GSM33613-Cy5.jpg           False   \n",
       "8020                         GSM33613-Ratio.jpg           False   \n",
       "\n",
       "     GPL_manufacturer GPL_supplementary_file GPL_geo_accession  \n",
       "0             Agilent                    NaN          GPL21669  \n",
       "1             Agilent                    NaN          GPL21669  \n",
       "2             Agilent                    NaN          GPL21669  \n",
       "3             Agilent                    NaN          GPL21669  \n",
       "4             Agilent                    NaN          GPL21669  \n",
       "...               ...                    ...               ...  \n",
       "8016              NaN                    NaN           GPL1482  \n",
       "8017              NaN                    NaN           GPL1482  \n",
       "8018              NaN                    NaN           GPL1482  \n",
       "8019              NaN                    NaN           GPL1482  \n",
       "8020              NaN                    NaN           GPL1482  \n",
       "\n",
       "[7973 rows x 7 columns]"
      ]
     },
     "execution_count": 2,
     "metadata": {},
     "output_type": "execute_result"
    }
   ],
   "source": [
    "path = \"/export/space2/users/diegocar/Test/Query/2312/07_getGeoTest/getGeoTest.tsv\"\n",
    "data = pd.read_csv(path, sep='\\t')\n",
    "download = pd.read_csv(\"../../abasySpecieFiles/downloadPaths.tsv\", sep='\\t')\n",
    "newData = pd.merge(download[[\"GSM_geo_accession\", \"Local_path\", \"File_name\", \"is_processable\"]],\n",
    "                    data[[\"GSM_geo_accession\", \"GPL_manufacturer\", \"GPL_supplementary_file\", \"GPL_geo_accession\"]],\n",
    "                      on=\"GSM_geo_accession\").drop_duplicates()\n",
    "newData"
   ]
  },
  {
   "cell_type": "code",
   "execution_count": 122,
   "metadata": {},
   "outputs": [
    {
     "name": "stdout",
     "output_type": "stream",
     "text": [
      "Any_GPL_supp    44\n",
      "No_GPL_supp     33\n",
      "Name: count, dtype: int64\n",
      "Any_GPL_supp    57.0\n",
      "No_GPL_supp     43.0\n",
      "Name: count, dtype: float64\n"
     ]
    },
    {
     "data": {
      "text/plain": [
       "<Axes: >"
      ]
     },
     "execution_count": 122,
     "metadata": {},
     "output_type": "execute_result"
    },
    {
     "data": {
      "image/png": "[encoded data removed]",
      "text/plain": [
       "<Figure size 640x480 with 1 Axes>"
      ]
     },
     "metadata": {},
     "output_type": "display_data"
    }
   ],
   "source": [
    "# GPL supplementary availability by GPL  Procesables\n",
    "newData[\"has_GPL_supp\"] = newData.GPL_supplementary_file.apply(lambda x: type(x) != float)\n",
    "temp = newData[newData.is_processable][[\"has_GPL_supp\", \"GPL_geo_accession\"]].drop_duplicates()\n",
    "temp = temp.has_GPL_supp.value_counts()\n",
    "temp.index = [\"Any_GPL_supp\", \"No_GPL_supp\"]\n",
    "print(temp)\n",
    "print(round(temp* 100 / sum(temp)))\n",
    "temp.plot(kind=\"bar\")"
   ]
  },
  {
   "cell_type": "code",
   "execution_count": 105,
   "metadata": {},
   "outputs": [
    {
     "name": "stdout",
     "output_type": "stream",
     "text": [
      "Any_GPL_supp    63.0\n",
      "No_GPL_supp     37.0\n",
      "Name: count, dtype: float64\n"
     ]
    },
    {
     "data": {
      "text/plain": [
       "<Axes: >"
      ]
     },
     "execution_count": 105,
     "metadata": {},
     "output_type": "execute_result"
    },
    {
     "data": {
      "image/png": "[encoded data removed]",
      "text/plain": [
       "<Figure size 640x480 with 1 Axes>"
      ]
     },
     "metadata": {},
     "output_type": "display_data"
    }
   ],
   "source": [
    "# GPL supplementary availability by GPL  Todos\n",
    "newData[\"has_GPL_supp\"] = newData.GPL_supplementary_file.apply(lambda x: type(x) != float)\n",
    "temp = newData[[\"has_GPL_supp\", \"GPL_geo_accession\"]].drop_duplicates()\n",
    "temp = temp.has_GPL_supp.value_counts()\n",
    "temp.index = [\"Any_GPL_supp\", \"No_GPL_supp\"]\n",
    "print(round(temp* 100 / sum(temp)))\n",
    "temp.plot(kind=\"bar\")"
   ]
  },
  {
   "cell_type": "code",
   "execution_count": 88,
   "metadata": {},
   "outputs": [
    {
     "name": "stdout",
     "output_type": "stream",
     "text": [
      "Any_GPL_supp    55.0\n",
      "No_GPL_supp     45.0\n",
      "Name: count, dtype: float64\n"
     ]
    },
    {
     "data": {
      "text/plain": [
       "<Axes: >"
      ]
     },
     "execution_count": 88,
     "metadata": {},
     "output_type": "execute_result"
    },
    {
     "data": {
      "image/png": "[encoded data removed]",
      "text/plain": [
       "<Figure size 640x480 with 1 Axes>"
      ]
     },
     "metadata": {},
     "output_type": "display_data"
    }
   ],
   "source": [
    "# GPL supplementary availability by GSM\n",
    "newData[\"has_GPL_supp\"] = newData.GPL_supplementary_file.apply(lambda x: type(x) != float)\n",
    "temp = newData[newData.is_processable][[\"has_GPL_supp\", \"GSM_geo_accession\"]].drop_duplicates()\n",
    "temp = temp.has_GPL_supp.value_counts()\n",
    "temp.index = [\"Any_GPL_supp\", \"No_GPL_supp\"]\n",
    "print(round(temp* 100 / sum(temp)))\n",
    "temp.plot(kind=\"bar\")"
   ]
  },
  {
   "cell_type": "code",
   "execution_count": 90,
   "metadata": {},
   "outputs": [
    {
     "name": "stdout",
     "output_type": "stream",
     "text": [
      "GPL_manufacturer  has_GPL_supp\n",
      "Agilent           False           26\n",
      "NimbleGen         True            23\n",
      "Affymetrix        True            12\n",
      "Agilent           True             9\n",
      "Affymetrix        False            6\n",
      "NimbleGen         False            1\n",
      "Name: count, dtype: int64\n",
      "GPL_manufacturer  has_GPL_supp\n",
      "Agilent           False           33.77\n",
      "NimbleGen         True            29.87\n",
      "Affymetrix        True            15.58\n",
      "Agilent           True            11.69\n",
      "Affymetrix        False            7.79\n",
      "NimbleGen         False            1.30\n",
      "Name: count, dtype: float64\n"
     ]
    },
    {
     "data": {
      "text/plain": [
       "<Axes: xlabel='GPL_manufacturer,has_GPL_supp'>"
      ]
     },
     "execution_count": 90,
     "metadata": {},
     "output_type": "execute_result"
    },
    {
     "data": {
      "image/png": "[encoded data removed]",
      "text/plain": [
       "<Figure size 640x480 with 1 Axes>"
      ]
     },
     "metadata": {},
     "output_type": "display_data"
    }
   ],
   "source": [
    "# GPL availability by manufacturer\n",
    "temp = newData[newData.is_processable][[\"GPL_manufacturer\", \"has_GPL_supp\", \"GPL_geo_accession\"]].drop_duplicates()\n",
    "temp = temp[[\"GPL_manufacturer\", \"has_GPL_supp\"]].value_counts()\n",
    "print(temp)\n",
    "print(round(temp * 100 / sum(temp), 2))\n",
    "temp.plot(kind=\"bar\")"
   ]
  },
  {
   "cell_type": "code",
   "execution_count": 91,
   "metadata": {},
   "outputs": [
    {
     "name": "stdout",
     "output_type": "stream",
     "text": [
      "No_CDF     10\n",
      "Has_CDF     8\n",
      "Name: count, dtype: int64\n",
      "No_CDF     56.0\n",
      "Has_CDF    44.0\n",
      "Name: count, dtype: float64\n"
     ]
    },
    {
     "data": {
      "text/plain": [
       "<Axes: >"
      ]
     },
     "execution_count": 91,
     "metadata": {},
     "output_type": "execute_result"
    },
    {
     "data": {
      "image/png": "[encoded data removed]",
      "text/plain": [
       "<Figure size 640x480 with 1 Axes>"
      ]
     },
     "metadata": {},
     "output_type": "display_data"
    }
   ],
   "source": [
    "# Affymetrix .CDF availability by GPL\n",
    "temp = newData[(newData.GPL_manufacturer == \"Affymetrix\") & newData.is_processable][[\"GPL_supplementary_file\", \"GPL_geo_accession\"]].drop_duplicates()\n",
    "temp = temp.GPL_supplementary_file.apply(lambda x: False if type(x) == float else bool(re.search(r\".cdf\", x, flags=re.IGNORECASE))).value_counts()\n",
    "temp.index = [\"No_CDF\", \"Has_CDF\"]\n",
    "print(temp)\n",
    "print(round(temp*100/sum(temp)))\n",
    "temp.plot(kind=\"bar\")"
   ]
  },
  {
   "cell_type": "code",
   "execution_count": 92,
   "metadata": {},
   "outputs": [
    {
     "name": "stdout",
     "output_type": "stream",
     "text": [
      "No_CDF     834\n",
      "Has_CDF    322\n",
      "Name: count, dtype: int64\n",
      "No_CDF     72.0\n",
      "Has_CDF    28.0\n",
      "Name: count, dtype: float64\n"
     ]
    },
    {
     "data": {
      "text/plain": [
       "<Axes: >"
      ]
     },
     "execution_count": 92,
     "metadata": {},
     "output_type": "execute_result"
    },
    {
     "data": {
      "image/png": "[encoded data removed]",
      "text/plain": [
       "<Figure size 640x480 with 1 Axes>"
      ]
     },
     "metadata": {},
     "output_type": "display_data"
    }
   ],
   "source": [
    "# Affymetrix .CDF availability by GSM\n",
    "temp = newData[(newData.GPL_manufacturer == \"Affymetrix\") & newData.is_processable][[\"GPL_supplementary_file\", \"GSM_geo_accession\"]].drop_duplicates()\n",
    "temp = temp.GPL_supplementary_file.apply(lambda x: False if type(x) == float else bool(re.search(r\".cdf\", x, flags=re.IGNORECASE))).value_counts()\n",
    "temp.index = [\"No_CDF\", \"Has_CDF\"]\n",
    "print(temp)\n",
    "print(round(temp*100/sum(temp)))\n",
    "temp.plot(kind=\"bar\")"
   ]
  },
  {
   "cell_type": "code",
   "execution_count": 94,
   "metadata": {},
   "outputs": [
    {
     "name": "stdout",
     "output_type": "stream",
     "text": [
      "Has_NDF    1436\n",
      "No_NDF       12\n",
      "Name: count, dtype: int64\n",
      "Has_NDF    99.0\n",
      "No_NDF      1.0\n",
      "Name: count, dtype: float64\n"
     ]
    },
    {
     "data": {
      "text/plain": [
       "<Axes: >"
      ]
     },
     "execution_count": 94,
     "metadata": {},
     "output_type": "execute_result"
    },
    {
     "data": {
      "image/png": "[encoded data removed]",
      "text/plain": [
       "<Figure size 640x480 with 1 Axes>"
      ]
     },
     "metadata": {},
     "output_type": "display_data"
    }
   ],
   "source": [
    "# NimbleGen .NDF availability by GSM\n",
    "temp = newData[(newData.GPL_manufacturer == \"NimbleGen\") & newData.is_processable][[\"GPL_supplementary_file\", \"GSM_geo_accession\"]].drop_duplicates()\n",
    "temp = temp.GPL_supplementary_file.apply(lambda x: False if type(x) == float else bool(re.search(r\".ndf\", x, flags=re.IGNORECASE))).value_counts()\n",
    "temp.index = [\"Has_NDF\", \"No_NDF\"]\n",
    "print(temp)\n",
    "print(round(temp*100/sum(temp)))\n",
    "temp.plot(kind=\"bar\")"
   ]
  },
  {
   "cell_type": "code",
   "execution_count": 95,
   "metadata": {},
   "outputs": [
    {
     "name": "stdout",
     "output_type": "stream",
     "text": [
      "Has_NDF    23\n",
      "No_NDF      1\n",
      "Name: count, dtype: int64\n",
      "Has_NDF    96.0\n",
      "No_NDF      4.0\n",
      "Name: count, dtype: float64\n"
     ]
    },
    {
     "data": {
      "text/plain": [
       "<Axes: >"
      ]
     },
     "execution_count": 95,
     "metadata": {},
     "output_type": "execute_result"
    },
    {
     "data": {
      "image/png": "[encoded data removed]",
      "text/plain": [
       "<Figure size 640x480 with 1 Axes>"
      ]
     },
     "metadata": {},
     "output_type": "display_data"
    }
   ],
   "source": [
    "# NimbleGen .NDF availability by GPL\n",
    "temp = newData[(newData.GPL_manufacturer == \"NimbleGen\") & newData.is_processable][[\"GPL_supplementary_file\", \"GPL_geo_accession\"]].drop_duplicates()\n",
    "temp = temp.GPL_supplementary_file.apply(lambda x: False if type(x) == float else bool(re.search(r\".ndf\", x, flags=re.IGNORECASE))).value_counts()\n",
    "temp.index = [\"Has_NDF\", \"No_NDF\"]\n",
    "print(temp)\n",
    "print(round(temp*100/sum(temp)))\n",
    "temp.plot(kind=\"bar\")"
   ]
  },
  {
   "cell_type": "code",
   "execution_count": 98,
   "metadata": {},
   "outputs": [
    {
     "name": "stdout",
     "output_type": "stream",
     "text": [
      "No_GAL     34\n",
      "Has_GAL     1\n",
      "Name: count, dtype: int64\n",
      "No_GAL     97.0\n",
      "Has_GAL     3.0\n",
      "Name: count, dtype: float64\n"
     ]
    },
    {
     "data": {
      "text/plain": [
       "<Axes: >"
      ]
     },
     "execution_count": 98,
     "metadata": {},
     "output_type": "execute_result"
    },
    {
     "data": {
      "image/png": "[encoded data removed]",
      "text/plain": [
       "<Figure size 640x480 with 1 Axes>"
      ]
     },
     "metadata": {},
     "output_type": "display_data"
    }
   ],
   "source": [
    "# Agilent .GAL availability by GPL\n",
    "temp = newData[(newData.GPL_manufacturer == \"Agilent\") & newData.is_processable][[\"GPL_supplementary_file\", \"GPL_geo_accession\"]].drop_duplicates()\n",
    "temp = temp.GPL_supplementary_file.apply(lambda x: False if type(x) == float else bool(re.search(r\".gal\", x, flags=re.IGNORECASE))).value_counts()\n",
    "temp.index = [\"No_GAL\", \"Has_GAL\"]\n",
    "print(temp)\n",
    "print(round(temp*100/sum(temp)))\n",
    "temp.plot(kind=\"bar\")"
   ]
  },
  {
   "cell_type": "code",
   "execution_count": 99,
   "metadata": {},
   "outputs": [
    {
     "name": "stdout",
     "output_type": "stream",
     "text": [
      "No_GAL     877\n",
      "Has_GAL     16\n",
      "Name: count, dtype: int64\n",
      "No_GAL     98.0\n",
      "Has_GAL     2.0\n",
      "Name: count, dtype: float64\n"
     ]
    },
    {
     "data": {
      "text/plain": [
       "<Axes: >"
      ]
     },
     "execution_count": 99,
     "metadata": {},
     "output_type": "execute_result"
    },
    {
     "data": {
      "image/png": "[encoded data removed]",
      "text/plain": [
       "<Figure size 640x480 with 1 Axes>"
      ]
     },
     "metadata": {},
     "output_type": "display_data"
    }
   ],
   "source": [
    "# Agilent .GAL availability by GSM\n",
    "temp = newData[(newData.GPL_manufacturer == \"Agilent\") & newData.is_processable][[\"GPL_supplementary_file\", \"GSM_geo_accession\"]].drop_duplicates()\n",
    "temp = temp.GPL_supplementary_file.apply(lambda x: False if type(x) == float else bool(re.search(r\".gal\", x, flags=re.IGNORECASE))).value_counts()\n",
    "temp.index = [\"No_GAL\", \"Has_GAL\"]\n",
    "print(temp)\n",
    "print(round(temp*100/sum(temp)))\n",
    "temp.plot(kind=\"bar\")"
   ]
  },
  {
   "cell_type": "code",
   "execution_count": 103,
   "metadata": {},
   "outputs": [
    {
     "data": {
      "text/plain": [
       "array([nan,\n",
       "       'geo/platforms/GPL17nnn/GPL17693/suppl/GPL17693_024017_D_GEO_20090520.txt.gz',\n",
       "       'geo/platforms/GPL22nnn/GPL22357/suppl/GPL22357_045822_D_GEO_20121210.txt.gz',\n",
       "       'geo/platforms/GPL14nnn/GPL14135/suppl/GPL14135_020097_D_20080619.gal.gz',\n",
       "       'geo/platforms/GPL13nnn/GPL13237/suppl/GPL13237_full_table.txt.gz',\n",
       "       'geo/platforms/GPL18nnn/GPL18055/suppl/GPL18055_probe_sequences.txt.gz',\n",
       "       'geo/platforms/GPL15nnn/GPL15500/suppl/GPL15500_full_table.txt.gz',\n",
       "       'geo/platforms/GPL8nnn/GPL8431/suppl/GPL8431_Full_Array_layout.txt.gz',\n",
       "       'geo/platforms/GPL21nnn/GPL21747/suppl/GPL21747_064096_D_GEO_20140130.txt.gz;geo/platforms/GPL21nnn/GPL21747/suppl/GPL21747_MW2_CDS_Probe_MINIMAL.XLS.gz',\n",
       "       'geo/platforms/GPL18nnn/GPL18103/suppl/GPL18103_031115_D_GEO_20101111.txt.gz'],\n",
       "      dtype=object)"
      ]
     },
     "execution_count": 103,
     "metadata": {},
     "output_type": "execute_result"
    }
   ],
   "source": [
    "newData[newData.is_processable & (newData.GPL_manufacturer == \"Agilent\")].GPL_supplementary_file.unique()"
   ]
  },
  {
   "cell_type": "code",
   "execution_count": 119,
   "metadata": {},
   "outputs": [],
   "source": [
    "# Redundancy GPL supp and GPL table\n",
    "tables = os.path.abspath(\"/export/storage/users/diegocar/abasySpecieFiles/GPL_Tables\")\n",
    "supps = os.path.abspath(\"/export/storage/users/diegocar/abasySpecieFiles/GPL_supplementary_files\")\n",
    "gpls = newData[newData.is_processable & newData.has_GPL_supp].GPL_geo_accession.unique()"
   ]
  },
  {
   "cell_type": "code",
   "execution_count": 126,
   "metadata": {},
   "outputs": [],
   "source": [
    "GPLS = pd.DataFrame.from_dict([{\"GPL\": row.GPL_geo_accession, \"Supp\":os.path.join(supps, file), \"Table\":os.path.join(tables,row.GPL_geo_accession)} for i,row in newData[newData.is_processable & newData.has_GPL_supp].iterrows() for file in row.GPL_supplementary_file.split(';')])"
   ]
  },
  {
   "cell_type": "code",
   "execution_count": 127,
   "metadata": {},
   "outputs": [
    {
     "data": {
      "text/html": [
       "<div>\n",
       "<style scoped>\n",
       "    .dataframe tbody tr th:only-of-type {\n",
       "        vertical-align: middle;\n",
       "    }\n",
       "\n",
       "    .dataframe tbody tr th {\n",
       "        vertical-align: top;\n",
       "    }\n",
       "\n",
       "    .dataframe thead th {\n",
       "        text-align: right;\n",
       "    }\n",
       "</style>\n",
       "<table border=\"1\" class=\"dataframe\">\n",
       "  <thead>\n",
       "    <tr style=\"text-align: right;\">\n",
       "      <th></th>\n",
       "      <th>GPL</th>\n",
       "      <th>Supp</th>\n",
       "      <th>Table</th>\n",
       "    </tr>\n",
       "  </thead>\n",
       "  <tbody>\n",
       "    <tr>\n",
       "      <th>0</th>\n",
       "      <td>GPL17693</td>\n",
       "      <td>/export/storage/users/diegocar/abasySpecieFile...</td>\n",
       "      <td>/export/storage/users/diegocar/abasySpecieFile...</td>\n",
       "    </tr>\n",
       "    <tr>\n",
       "      <th>1</th>\n",
       "      <td>GPL17693</td>\n",
       "      <td>/export/storage/users/diegocar/abasySpecieFile...</td>\n",
       "      <td>/export/storage/users/diegocar/abasySpecieFile...</td>\n",
       "    </tr>\n",
       "    <tr>\n",
       "      <th>2</th>\n",
       "      <td>GPL17693</td>\n",
       "      <td>/export/storage/users/diegocar/abasySpecieFile...</td>\n",
       "      <td>/export/storage/users/diegocar/abasySpecieFile...</td>\n",
       "    </tr>\n",
       "    <tr>\n",
       "      <th>3</th>\n",
       "      <td>GPL17693</td>\n",
       "      <td>/export/storage/users/diegocar/abasySpecieFile...</td>\n",
       "      <td>/export/storage/users/diegocar/abasySpecieFile...</td>\n",
       "    </tr>\n",
       "    <tr>\n",
       "      <th>4</th>\n",
       "      <td>GPL17693</td>\n",
       "      <td>/export/storage/users/diegocar/abasySpecieFile...</td>\n",
       "      <td>/export/storage/users/diegocar/abasySpecieFile...</td>\n",
       "    </tr>\n",
       "    <tr>\n",
       "      <th>...</th>\n",
       "      <td>...</td>\n",
       "      <td>...</td>\n",
       "      <td>...</td>\n",
       "    </tr>\n",
       "    <tr>\n",
       "      <th>5012</th>\n",
       "      <td>GPL6186</td>\n",
       "      <td>/export/storage/users/diegocar/abasySpecieFile...</td>\n",
       "      <td>/export/storage/users/diegocar/abasySpecieFile...</td>\n",
       "    </tr>\n",
       "    <tr>\n",
       "      <th>5013</th>\n",
       "      <td>GPL6186</td>\n",
       "      <td>/export/storage/users/diegocar/abasySpecieFile...</td>\n",
       "      <td>/export/storage/users/diegocar/abasySpecieFile...</td>\n",
       "    </tr>\n",
       "    <tr>\n",
       "      <th>5014</th>\n",
       "      <td>GPL6186</td>\n",
       "      <td>/export/storage/users/diegocar/abasySpecieFile...</td>\n",
       "      <td>/export/storage/users/diegocar/abasySpecieFile...</td>\n",
       "    </tr>\n",
       "    <tr>\n",
       "      <th>5015</th>\n",
       "      <td>GPL6186</td>\n",
       "      <td>/export/storage/users/diegocar/abasySpecieFile...</td>\n",
       "      <td>/export/storage/users/diegocar/abasySpecieFile...</td>\n",
       "    </tr>\n",
       "    <tr>\n",
       "      <th>5016</th>\n",
       "      <td>GPL6186</td>\n",
       "      <td>/export/storage/users/diegocar/abasySpecieFile...</td>\n",
       "      <td>/export/storage/users/diegocar/abasySpecieFile...</td>\n",
       "    </tr>\n",
       "  </tbody>\n",
       "</table>\n",
       "<p>5017 rows × 3 columns</p>\n",
       "</div>"
      ],
      "text/plain": [
       "           GPL                                               Supp  \\\n",
       "0     GPL17693  /export/storage/users/diegocar/abasySpecieFile...   \n",
       "1     GPL17693  /export/storage/users/diegocar/abasySpecieFile...   \n",
       "2     GPL17693  /export/storage/users/diegocar/abasySpecieFile...   \n",
       "3     GPL17693  /export/storage/users/diegocar/abasySpecieFile...   \n",
       "4     GPL17693  /export/storage/users/diegocar/abasySpecieFile...   \n",
       "...        ...                                                ...   \n",
       "5012   GPL6186  /export/storage/users/diegocar/abasySpecieFile...   \n",
       "5013   GPL6186  /export/storage/users/diegocar/abasySpecieFile...   \n",
       "5014   GPL6186  /export/storage/users/diegocar/abasySpecieFile...   \n",
       "5015   GPL6186  /export/storage/users/diegocar/abasySpecieFile...   \n",
       "5016   GPL6186  /export/storage/users/diegocar/abasySpecieFile...   \n",
       "\n",
       "                                                  Table  \n",
       "0     /export/storage/users/diegocar/abasySpecieFile...  \n",
       "1     /export/storage/users/diegocar/abasySpecieFile...  \n",
       "2     /export/storage/users/diegocar/abasySpecieFile...  \n",
       "3     /export/storage/users/diegocar/abasySpecieFile...  \n",
       "4     /export/storage/users/diegocar/abasySpecieFile...  \n",
       "...                                                 ...  \n",
       "5012  /export/storage/users/diegocar/abasySpecieFile...  \n",
       "5013  /export/storage/users/diegocar/abasySpecieFile...  \n",
       "5014  /export/storage/users/diegocar/abasySpecieFile...  \n",
       "5015  /export/storage/users/diegocar/abasySpecieFile...  \n",
       "5016  /export/storage/users/diegocar/abasySpecieFile...  \n",
       "\n",
       "[5017 rows x 3 columns]"
      ]
     },
     "execution_count": 127,
     "metadata": {},
     "output_type": "execute_result"
    }
   ],
   "source": [
    "GPLS"
   ]
  },
  {
   "cell_type": "code",
   "execution_count": null,
   "metadata": {},
   "outputs": [],
   "source": []
  },
  {
   "cell_type": "markdown",
   "metadata": {},
   "source": [
    "## NimbleGen"
   ]
  },
  {
   "cell_type": "code",
   "execution_count": 155,
   "metadata": {},
   "outputs": [],
   "source": [
    "ndfs = newData[newData.is_processable & (newData.GPL_manufacturer_x == \"NimbleGen\")  & (newData.GPL_supplementary_file.str.contains(\".ndf\", case=False))].GSM_geo_accession"
   ]
  },
  {
   "cell_type": "code",
   "execution_count": 157,
   "metadata": {},
   "outputs": [
    {
     "data": {
      "text/html": [
       "<div>\n",
       "<style scoped>\n",
       "    .dataframe tbody tr th:only-of-type {\n",
       "        vertical-align: middle;\n",
       "    }\n",
       "\n",
       "    .dataframe tbody tr th {\n",
       "        vertical-align: top;\n",
       "    }\n",
       "\n",
       "    .dataframe thead th {\n",
       "        text-align: right;\n",
       "    }\n",
       "</style>\n",
       "<table border=\"1\" class=\"dataframe\">\n",
       "  <thead>\n",
       "    <tr style=\"text-align: right;\">\n",
       "      <th></th>\n",
       "      <th>TaxId_x</th>\n",
       "      <th>GPL_geo_accession_x</th>\n",
       "      <th>GPL_distribution_x</th>\n",
       "      <th>GPL_manufacturer_x</th>\n",
       "      <th>GSM_geo_accession</th>\n",
       "      <th>Specie</th>\n",
       "      <th>is_processable</th>\n",
       "      <th>Local_path</th>\n",
       "      <th>File_name</th>\n",
       "      <th>is_downloaded</th>\n",
       "      <th>...</th>\n",
       "      <th>GSM_type</th>\n",
       "      <th>GSM_channel_count</th>\n",
       "      <th>GSM_source_name_ch1</th>\n",
       "      <th>GSM_taxid_ch1</th>\n",
       "      <th>GSM_organism_ch1</th>\n",
       "      <th>GSM_characteristics_ch1</th>\n",
       "      <th>GSM_taxid_ch2</th>\n",
       "      <th>GSM_characteristics_ch2</th>\n",
       "      <th>GSM_supplementary_file</th>\n",
       "      <th>has_GPL_supp</th>\n",
       "    </tr>\n",
       "  </thead>\n",
       "  <tbody>\n",
       "    <tr>\n",
       "      <th>7082</th>\n",
       "      <td>1313</td>\n",
       "      <td>GPL24257</td>\n",
       "      <td>custom-commercial</td>\n",
       "      <td>NimbleGen</td>\n",
       "      <td>GSM4096317</td>\n",
       "      <td>Streptococcus pneumoniae</td>\n",
       "      <td>True</td>\n",
       "      <td>/export/storage/users/diegocar/abasySpecieFile...</td>\n",
       "      <td>GSM4096317_555514A07_50040_532_sample1_Glu_wt1...</td>\n",
       "      <td>True</td>\n",
       "      <td>...</td>\n",
       "      <td>RNA</td>\n",
       "      <td>1</td>\n",
       "      <td>Clinical strain PN4594-T23</td>\n",
       "      <td>1313</td>\n",
       "      <td>Streptococcus pneumoniae</td>\n",
       "      <td>media: CDM-Glucose;media: Liquid culture;genot...</td>\n",
       "      <td>NaN</td>\n",
       "      <td>NaN</td>\n",
       "      <td>geo/samples/GSM4096nnn/GSM4096317/suppl/GSM409...</td>\n",
       "      <td>True</td>\n",
       "    </tr>\n",
       "    <tr>\n",
       "      <th>7084</th>\n",
       "      <td>1313</td>\n",
       "      <td>GPL24257</td>\n",
       "      <td>custom-commercial</td>\n",
       "      <td>NimbleGen</td>\n",
       "      <td>GSM4096318</td>\n",
       "      <td>Streptococcus pneumoniae</td>\n",
       "      <td>True</td>\n",
       "      <td>/export/storage/users/diegocar/abasySpecieFile...</td>\n",
       "      <td>GSM4096318_555514A09_50040_532_sample2_Glu_wt2...</td>\n",
       "      <td>True</td>\n",
       "      <td>...</td>\n",
       "      <td>RNA</td>\n",
       "      <td>1</td>\n",
       "      <td>Clinical strain PN4594-T23</td>\n",
       "      <td>1313</td>\n",
       "      <td>Streptococcus pneumoniae</td>\n",
       "      <td>media: CDM-Glucose;media: Liquid culture;genot...</td>\n",
       "      <td>NaN</td>\n",
       "      <td>NaN</td>\n",
       "      <td>geo/samples/GSM4096nnn/GSM4096318/suppl/GSM409...</td>\n",
       "      <td>True</td>\n",
       "    </tr>\n",
       "    <tr>\n",
       "      <th>7086</th>\n",
       "      <td>1313</td>\n",
       "      <td>GPL24257</td>\n",
       "      <td>custom-commercial</td>\n",
       "      <td>NimbleGen</td>\n",
       "      <td>GSM4096319</td>\n",
       "      <td>Streptococcus pneumoniae</td>\n",
       "      <td>True</td>\n",
       "      <td>/export/storage/users/diegocar/abasySpecieFile...</td>\n",
       "      <td>GSM4096319_555514A11_50040_532_sample3_Glu_wt3...</td>\n",
       "      <td>True</td>\n",
       "      <td>...</td>\n",
       "      <td>RNA</td>\n",
       "      <td>1</td>\n",
       "      <td>Clinical strain PN4594-T23</td>\n",
       "      <td>1313</td>\n",
       "      <td>Streptococcus pneumoniae</td>\n",
       "      <td>media: CDM-Glucose;media: Liquid culture;genot...</td>\n",
       "      <td>NaN</td>\n",
       "      <td>NaN</td>\n",
       "      <td>geo/samples/GSM4096nnn/GSM4096319/suppl/GSM409...</td>\n",
       "      <td>True</td>\n",
       "    </tr>\n",
       "    <tr>\n",
       "      <th>7088</th>\n",
       "      <td>1313</td>\n",
       "      <td>GPL24257</td>\n",
       "      <td>custom-commercial</td>\n",
       "      <td>NimbleGen</td>\n",
       "      <td>GSM4096320</td>\n",
       "      <td>Streptococcus pneumoniae</td>\n",
       "      <td>True</td>\n",
       "      <td>/export/storage/users/diegocar/abasySpecieFile...</td>\n",
       "      <td>GSM4096320_555514A08_50040_532_sample4_Glu_ko1...</td>\n",
       "      <td>True</td>\n",
       "      <td>...</td>\n",
       "      <td>RNA</td>\n",
       "      <td>1</td>\n",
       "      <td>Clinical strain PN4594-T23</td>\n",
       "      <td>1313</td>\n",
       "      <td>Streptococcus pneumoniae</td>\n",
       "      <td>media: CDM-Glucose;media: Liquid culture;genot...</td>\n",
       "      <td>NaN</td>\n",
       "      <td>NaN</td>\n",
       "      <td>geo/samples/GSM4096nnn/GSM4096320/suppl/GSM409...</td>\n",
       "      <td>True</td>\n",
       "    </tr>\n",
       "    <tr>\n",
       "      <th>7090</th>\n",
       "      <td>1313</td>\n",
       "      <td>GPL24257</td>\n",
       "      <td>custom-commercial</td>\n",
       "      <td>NimbleGen</td>\n",
       "      <td>GSM4096321</td>\n",
       "      <td>Streptococcus pneumoniae</td>\n",
       "      <td>True</td>\n",
       "      <td>/export/storage/users/diegocar/abasySpecieFile...</td>\n",
       "      <td>GSM4096321_555514A10_50040_532_sample5_Glu_ko2...</td>\n",
       "      <td>True</td>\n",
       "      <td>...</td>\n",
       "      <td>RNA</td>\n",
       "      <td>1</td>\n",
       "      <td>Clinical strain PN4594-T23</td>\n",
       "      <td>1313</td>\n",
       "      <td>Streptococcus pneumoniae</td>\n",
       "      <td>media: CDM-Glucose;media: Liquid culture;genot...</td>\n",
       "      <td>NaN</td>\n",
       "      <td>NaN</td>\n",
       "      <td>geo/samples/GSM4096nnn/GSM4096321/suppl/GSM409...</td>\n",
       "      <td>True</td>\n",
       "    </tr>\n",
       "    <tr>\n",
       "      <th>7092</th>\n",
       "      <td>1313</td>\n",
       "      <td>GPL24257</td>\n",
       "      <td>custom-commercial</td>\n",
       "      <td>NimbleGen</td>\n",
       "      <td>GSM4096322</td>\n",
       "      <td>Streptococcus pneumoniae</td>\n",
       "      <td>True</td>\n",
       "      <td>/export/storage/users/diegocar/abasySpecieFile...</td>\n",
       "      <td>GSM4096322_555514A12_50040_532_sample6_Glu_ko3...</td>\n",
       "      <td>True</td>\n",
       "      <td>...</td>\n",
       "      <td>RNA</td>\n",
       "      <td>1</td>\n",
       "      <td>Clinical strain PN4594-T23</td>\n",
       "      <td>1313</td>\n",
       "      <td>Streptococcus pneumoniae</td>\n",
       "      <td>media: CDM-Glucose;media: Liquid culture;genot...</td>\n",
       "      <td>NaN</td>\n",
       "      <td>NaN</td>\n",
       "      <td>geo/samples/GSM4096nnn/GSM4096322/suppl/GSM409...</td>\n",
       "      <td>True</td>\n",
       "    </tr>\n",
       "    <tr>\n",
       "      <th>7103</th>\n",
       "      <td>1313</td>\n",
       "      <td>GPL24257</td>\n",
       "      <td>custom-commercial</td>\n",
       "      <td>NimbleGen</td>\n",
       "      <td>GSM2849881</td>\n",
       "      <td>Streptococcus pneumoniae</td>\n",
       "      <td>True</td>\n",
       "      <td>/export/storage/users/diegocar/abasySpecieFile...</td>\n",
       "      <td>GSM2849881_WT1.pair</td>\n",
       "      <td>True</td>\n",
       "      <td>...</td>\n",
       "      <td>RNA</td>\n",
       "      <td>1</td>\n",
       "      <td>Streptococcus pneumoniae PN4595-T23 wild-type</td>\n",
       "      <td>1313</td>\n",
       "      <td>Streptococcus pneumoniae</td>\n",
       "      <td>genotype: Wild-type</td>\n",
       "      <td>NaN</td>\n",
       "      <td>NaN</td>\n",
       "      <td>geo/samples/GSM2849nnn/GSM2849881/suppl/GSM284...</td>\n",
       "      <td>True</td>\n",
       "    </tr>\n",
       "    <tr>\n",
       "      <th>7105</th>\n",
       "      <td>1313</td>\n",
       "      <td>GPL24257</td>\n",
       "      <td>custom-commercial</td>\n",
       "      <td>NimbleGen</td>\n",
       "      <td>GSM2849882</td>\n",
       "      <td>Streptococcus pneumoniae</td>\n",
       "      <td>True</td>\n",
       "      <td>/export/storage/users/diegocar/abasySpecieFile...</td>\n",
       "      <td>GSM2849882_WT2.pair</td>\n",
       "      <td>True</td>\n",
       "      <td>...</td>\n",
       "      <td>RNA</td>\n",
       "      <td>1</td>\n",
       "      <td>Streptococcus pneumoniae PN4595-T23 wild-type</td>\n",
       "      <td>1313</td>\n",
       "      <td>Streptococcus pneumoniae</td>\n",
       "      <td>genotype: Wild-type</td>\n",
       "      <td>NaN</td>\n",
       "      <td>NaN</td>\n",
       "      <td>geo/samples/GSM2849nnn/GSM2849882/suppl/GSM284...</td>\n",
       "      <td>True</td>\n",
       "    </tr>\n",
       "    <tr>\n",
       "      <th>7107</th>\n",
       "      <td>1313</td>\n",
       "      <td>GPL24257</td>\n",
       "      <td>custom-commercial</td>\n",
       "      <td>NimbleGen</td>\n",
       "      <td>GSM2849883</td>\n",
       "      <td>Streptococcus pneumoniae</td>\n",
       "      <td>True</td>\n",
       "      <td>/export/storage/users/diegocar/abasySpecieFile...</td>\n",
       "      <td>GSM2849883_WT3.pair</td>\n",
       "      <td>True</td>\n",
       "      <td>...</td>\n",
       "      <td>RNA</td>\n",
       "      <td>1</td>\n",
       "      <td>Streptococcus pneumoniae PN4595-T23 wild-type</td>\n",
       "      <td>1313</td>\n",
       "      <td>Streptococcus pneumoniae</td>\n",
       "      <td>genotype: Wild-type</td>\n",
       "      <td>NaN</td>\n",
       "      <td>NaN</td>\n",
       "      <td>geo/samples/GSM2849nnn/GSM2849883/suppl/GSM284...</td>\n",
       "      <td>True</td>\n",
       "    </tr>\n",
       "    <tr>\n",
       "      <th>7109</th>\n",
       "      <td>1313</td>\n",
       "      <td>GPL24257</td>\n",
       "      <td>custom-commercial</td>\n",
       "      <td>NimbleGen</td>\n",
       "      <td>GSM2849884</td>\n",
       "      <td>Streptococcus pneumoniae</td>\n",
       "      <td>True</td>\n",
       "      <td>/export/storage/users/diegocar/abasySpecieFile...</td>\n",
       "      <td>GSM2849884_KO1.pair</td>\n",
       "      <td>True</td>\n",
       "      <td>...</td>\n",
       "      <td>RNA</td>\n",
       "      <td>1</td>\n",
       "      <td>Streptococcus pneumoniae PN4595-T23 delta-TprA2</td>\n",
       "      <td>1313</td>\n",
       "      <td>Streptococcus pneumoniae</td>\n",
       "      <td>genotype: Deletion of tprA2 (SPN23F_12750)</td>\n",
       "      <td>NaN</td>\n",
       "      <td>NaN</td>\n",
       "      <td>geo/samples/GSM2849nnn/GSM2849884/suppl/GSM284...</td>\n",
       "      <td>True</td>\n",
       "    </tr>\n",
       "    <tr>\n",
       "      <th>7111</th>\n",
       "      <td>1313</td>\n",
       "      <td>GPL24257</td>\n",
       "      <td>custom-commercial</td>\n",
       "      <td>NimbleGen</td>\n",
       "      <td>GSM2849885</td>\n",
       "      <td>Streptococcus pneumoniae</td>\n",
       "      <td>True</td>\n",
       "      <td>/export/storage/users/diegocar/abasySpecieFile...</td>\n",
       "      <td>GSM2849885_KO2.pair</td>\n",
       "      <td>True</td>\n",
       "      <td>...</td>\n",
       "      <td>RNA</td>\n",
       "      <td>1</td>\n",
       "      <td>Streptococcus pneumoniae PN4595-T23 delta-TprA2</td>\n",
       "      <td>1313</td>\n",
       "      <td>Streptococcus pneumoniae</td>\n",
       "      <td>genotype: Deletion of tprA2 (SPN23F_12750)</td>\n",
       "      <td>NaN</td>\n",
       "      <td>NaN</td>\n",
       "      <td>geo/samples/GSM2849nnn/GSM2849885/suppl/GSM284...</td>\n",
       "      <td>True</td>\n",
       "    </tr>\n",
       "    <tr>\n",
       "      <th>7113</th>\n",
       "      <td>1313</td>\n",
       "      <td>GPL24257</td>\n",
       "      <td>custom-commercial</td>\n",
       "      <td>NimbleGen</td>\n",
       "      <td>GSM2849886</td>\n",
       "      <td>Streptococcus pneumoniae</td>\n",
       "      <td>True</td>\n",
       "      <td>/export/storage/users/diegocar/abasySpecieFile...</td>\n",
       "      <td>GSM2849886_KO3.pair</td>\n",
       "      <td>True</td>\n",
       "      <td>...</td>\n",
       "      <td>RNA</td>\n",
       "      <td>1</td>\n",
       "      <td>Streptococcus pneumoniae PN4595-T23 delta-TprA2</td>\n",
       "      <td>1313</td>\n",
       "      <td>Streptococcus pneumoniae</td>\n",
       "      <td>genotype: Deletion of tprA2 (SPN23F_12750)</td>\n",
       "      <td>NaN</td>\n",
       "      <td>NaN</td>\n",
       "      <td>geo/samples/GSM2849nnn/GSM2849886/suppl/GSM284...</td>\n",
       "      <td>True</td>\n",
       "    </tr>\n",
       "  </tbody>\n",
       "</table>\n",
       "<p>12 rows × 35 columns</p>\n",
       "</div>"
      ],
      "text/plain": [
       "      TaxId_x GPL_geo_accession_x GPL_distribution_x GPL_manufacturer_x  \\\n",
       "7082     1313            GPL24257  custom-commercial          NimbleGen   \n",
       "7084     1313            GPL24257  custom-commercial          NimbleGen   \n",
       "7086     1313            GPL24257  custom-commercial          NimbleGen   \n",
       "7088     1313            GPL24257  custom-commercial          NimbleGen   \n",
       "7090     1313            GPL24257  custom-commercial          NimbleGen   \n",
       "7092     1313            GPL24257  custom-commercial          NimbleGen   \n",
       "7103     1313            GPL24257  custom-commercial          NimbleGen   \n",
       "7105     1313            GPL24257  custom-commercial          NimbleGen   \n",
       "7107     1313            GPL24257  custom-commercial          NimbleGen   \n",
       "7109     1313            GPL24257  custom-commercial          NimbleGen   \n",
       "7111     1313            GPL24257  custom-commercial          NimbleGen   \n",
       "7113     1313            GPL24257  custom-commercial          NimbleGen   \n",
       "\n",
       "     GSM_geo_accession                    Specie  is_processable  \\\n",
       "7082        GSM4096317  Streptococcus pneumoniae            True   \n",
       "7084        GSM4096318  Streptococcus pneumoniae            True   \n",
       "7086        GSM4096319  Streptococcus pneumoniae            True   \n",
       "7088        GSM4096320  Streptococcus pneumoniae            True   \n",
       "7090        GSM4096321  Streptococcus pneumoniae            True   \n",
       "7092        GSM4096322  Streptococcus pneumoniae            True   \n",
       "7103        GSM2849881  Streptococcus pneumoniae            True   \n",
       "7105        GSM2849882  Streptococcus pneumoniae            True   \n",
       "7107        GSM2849883  Streptococcus pneumoniae            True   \n",
       "7109        GSM2849884  Streptococcus pneumoniae            True   \n",
       "7111        GSM2849885  Streptococcus pneumoniae            True   \n",
       "7113        GSM2849886  Streptococcus pneumoniae            True   \n",
       "\n",
       "                                             Local_path  \\\n",
       "7082  /export/storage/users/diegocar/abasySpecieFile...   \n",
       "7084  /export/storage/users/diegocar/abasySpecieFile...   \n",
       "7086  /export/storage/users/diegocar/abasySpecieFile...   \n",
       "7088  /export/storage/users/diegocar/abasySpecieFile...   \n",
       "7090  /export/storage/users/diegocar/abasySpecieFile...   \n",
       "7092  /export/storage/users/diegocar/abasySpecieFile...   \n",
       "7103  /export/storage/users/diegocar/abasySpecieFile...   \n",
       "7105  /export/storage/users/diegocar/abasySpecieFile...   \n",
       "7107  /export/storage/users/diegocar/abasySpecieFile...   \n",
       "7109  /export/storage/users/diegocar/abasySpecieFile...   \n",
       "7111  /export/storage/users/diegocar/abasySpecieFile...   \n",
       "7113  /export/storage/users/diegocar/abasySpecieFile...   \n",
       "\n",
       "                                              File_name  is_downloaded  ...  \\\n",
       "7082  GSM4096317_555514A07_50040_532_sample1_Glu_wt1...           True  ...   \n",
       "7084  GSM4096318_555514A09_50040_532_sample2_Glu_wt2...           True  ...   \n",
       "7086  GSM4096319_555514A11_50040_532_sample3_Glu_wt3...           True  ...   \n",
       "7088  GSM4096320_555514A08_50040_532_sample4_Glu_ko1...           True  ...   \n",
       "7090  GSM4096321_555514A10_50040_532_sample5_Glu_ko2...           True  ...   \n",
       "7092  GSM4096322_555514A12_50040_532_sample6_Glu_ko3...           True  ...   \n",
       "7103                                GSM2849881_WT1.pair           True  ...   \n",
       "7105                                GSM2849882_WT2.pair           True  ...   \n",
       "7107                                GSM2849883_WT3.pair           True  ...   \n",
       "7109                                GSM2849884_KO1.pair           True  ...   \n",
       "7111                                GSM2849885_KO2.pair           True  ...   \n",
       "7113                                GSM2849886_KO3.pair           True  ...   \n",
       "\n",
       "     GSM_type GSM_channel_count  \\\n",
       "7082      RNA                 1   \n",
       "7084      RNA                 1   \n",
       "7086      RNA                 1   \n",
       "7088      RNA                 1   \n",
       "7090      RNA                 1   \n",
       "7092      RNA                 1   \n",
       "7103      RNA                 1   \n",
       "7105      RNA                 1   \n",
       "7107      RNA                 1   \n",
       "7109      RNA                 1   \n",
       "7111      RNA                 1   \n",
       "7113      RNA                 1   \n",
       "\n",
       "                                  GSM_source_name_ch1 GSM_taxid_ch1  \\\n",
       "7082                       Clinical strain PN4594-T23          1313   \n",
       "7084                       Clinical strain PN4594-T23          1313   \n",
       "7086                       Clinical strain PN4594-T23          1313   \n",
       "7088                       Clinical strain PN4594-T23          1313   \n",
       "7090                       Clinical strain PN4594-T23          1313   \n",
       "7092                       Clinical strain PN4594-T23          1313   \n",
       "7103    Streptococcus pneumoniae PN4595-T23 wild-type          1313   \n",
       "7105    Streptococcus pneumoniae PN4595-T23 wild-type          1313   \n",
       "7107    Streptococcus pneumoniae PN4595-T23 wild-type          1313   \n",
       "7109  Streptococcus pneumoniae PN4595-T23 delta-TprA2          1313   \n",
       "7111  Streptococcus pneumoniae PN4595-T23 delta-TprA2          1313   \n",
       "7113  Streptococcus pneumoniae PN4595-T23 delta-TprA2          1313   \n",
       "\n",
       "              GSM_organism_ch1  \\\n",
       "7082  Streptococcus pneumoniae   \n",
       "7084  Streptococcus pneumoniae   \n",
       "7086  Streptococcus pneumoniae   \n",
       "7088  Streptococcus pneumoniae   \n",
       "7090  Streptococcus pneumoniae   \n",
       "7092  Streptococcus pneumoniae   \n",
       "7103  Streptococcus pneumoniae   \n",
       "7105  Streptococcus pneumoniae   \n",
       "7107  Streptococcus pneumoniae   \n",
       "7109  Streptococcus pneumoniae   \n",
       "7111  Streptococcus pneumoniae   \n",
       "7113  Streptococcus pneumoniae   \n",
       "\n",
       "                                GSM_characteristics_ch1 GSM_taxid_ch2  \\\n",
       "7082  media: CDM-Glucose;media: Liquid culture;genot...           NaN   \n",
       "7084  media: CDM-Glucose;media: Liquid culture;genot...           NaN   \n",
       "7086  media: CDM-Glucose;media: Liquid culture;genot...           NaN   \n",
       "7088  media: CDM-Glucose;media: Liquid culture;genot...           NaN   \n",
       "7090  media: CDM-Glucose;media: Liquid culture;genot...           NaN   \n",
       "7092  media: CDM-Glucose;media: Liquid culture;genot...           NaN   \n",
       "7103                                genotype: Wild-type           NaN   \n",
       "7105                                genotype: Wild-type           NaN   \n",
       "7107                                genotype: Wild-type           NaN   \n",
       "7109         genotype: Deletion of tprA2 (SPN23F_12750)           NaN   \n",
       "7111         genotype: Deletion of tprA2 (SPN23F_12750)           NaN   \n",
       "7113         genotype: Deletion of tprA2 (SPN23F_12750)           NaN   \n",
       "\n",
       "     GSM_characteristics_ch2  \\\n",
       "7082                     NaN   \n",
       "7084                     NaN   \n",
       "7086                     NaN   \n",
       "7088                     NaN   \n",
       "7090                     NaN   \n",
       "7092                     NaN   \n",
       "7103                     NaN   \n",
       "7105                     NaN   \n",
       "7107                     NaN   \n",
       "7109                     NaN   \n",
       "7111                     NaN   \n",
       "7113                     NaN   \n",
       "\n",
       "                                 GSM_supplementary_file has_GPL_supp  \n",
       "7082  geo/samples/GSM4096nnn/GSM4096317/suppl/GSM409...         True  \n",
       "7084  geo/samples/GSM4096nnn/GSM4096318/suppl/GSM409...         True  \n",
       "7086  geo/samples/GSM4096nnn/GSM4096319/suppl/GSM409...         True  \n",
       "7088  geo/samples/GSM4096nnn/GSM4096320/suppl/GSM409...         True  \n",
       "7090  geo/samples/GSM4096nnn/GSM4096321/suppl/GSM409...         True  \n",
       "7092  geo/samples/GSM4096nnn/GSM4096322/suppl/GSM409...         True  \n",
       "7103  geo/samples/GSM2849nnn/GSM2849881/suppl/GSM284...         True  \n",
       "7105  geo/samples/GSM2849nnn/GSM2849882/suppl/GSM284...         True  \n",
       "7107  geo/samples/GSM2849nnn/GSM2849883/suppl/GSM284...         True  \n",
       "7109  geo/samples/GSM2849nnn/GSM2849884/suppl/GSM284...         True  \n",
       "7111  geo/samples/GSM2849nnn/GSM2849885/suppl/GSM284...         True  \n",
       "7113  geo/samples/GSM2849nnn/GSM2849886/suppl/GSM284...         True  \n",
       "\n",
       "[12 rows x 35 columns]"
      ]
     },
     "execution_count": 157,
     "metadata": {},
     "output_type": "execute_result"
    }
   ],
   "source": [
    "newData[newData.is_processable & (newData.GPL_manufacturer_x == \"NimbleGen\")  & (~newData.GSM_geo_accession.isin(ndfs))]"
   ]
  },
  {
   "cell_type": "code",
   "execution_count": 82,
   "metadata": {},
   "outputs": [],
   "source": [
    "from utils_normalization import NimbleGen"
   ]
  },
  {
   "cell_type": "code",
   "execution_count": 83,
   "metadata": {},
   "outputs": [],
   "source": [
    "ndf = pd.read_csv(\"../../GPL25406_130108_Ecoli_K12_exp.ndf\", sep='\\t')\n",
    "gsm = NimbleGen(\"../../abasySpecieFiles/Escherichia_coli/TaxId_511145/GPL25406/GSM3317857_Ecoli_rne_deltaMTS_T0_kinetic1.pair\")"
   ]
  },
  {
   "cell_type": "code",
   "execution_count": 125,
   "metadata": {},
   "outputs": [],
   "source": [
    "supp = pd.read_csv(\"../../abasySpecieFiles/Escherichia_coli/TaxId_511145/GPL25406/GSM3317857_Ecoli_rne_deltaMTS_T0_kinetic1.pair\", sep='\\t', skiprows=1)\n",
    "supp2 = pd.read_csv(\"../../abasySpecieFiles/Escherichia_coli/TaxId_511145/GPL25406/GSM3317858_Ecoli_rne_deltaMTS_T1_kinetic1.pair\", sep='\\t', skiprows=1)\n",
    "supp3 = pd.read_csv(\"../../abasySpecieFiles/Escherichia_coli/TaxId_511145/GPL25406/GSM3317859_Ecoli_rne_deltaMTS_T4_kinetic1.pair\", sep='\\t', skiprows=1)"
   ]
  },
  {
   "cell_type": "code",
   "execution_count": 127,
   "metadata": {},
   "outputs": [
    {
     "data": {
      "text/html": [
       "<div>\n",
       "<style scoped>\n",
       "    .dataframe tbody tr th:only-of-type {\n",
       "        vertical-align: middle;\n",
       "    }\n",
       "\n",
       "    .dataframe tbody tr th {\n",
       "        vertical-align: top;\n",
       "    }\n",
       "\n",
       "    .dataframe thead th {\n",
       "        text-align: right;\n",
       "    }\n",
       "</style>\n",
       "<table border=\"1\" class=\"dataframe\">\n",
       "  <thead>\n",
       "    <tr style=\"text-align: right;\">\n",
       "      <th></th>\n",
       "      <th>SEQ_ID</th>\n",
       "      <th>PM</th>\n",
       "      <th>SEQ_ID</th>\n",
       "      <th>PM</th>\n",
       "      <th>SEQ_ID</th>\n",
       "      <th>PM</th>\n",
       "    </tr>\n",
       "  </thead>\n",
       "  <tbody>\n",
       "    <tr>\n",
       "      <th>0</th>\n",
       "      <td>RANDOM_MK1</td>\n",
       "      <td>71.92</td>\n",
       "      <td>RANDOM_MK1</td>\n",
       "      <td>69.51</td>\n",
       "      <td>RANDOM_MK1</td>\n",
       "      <td>75.04</td>\n",
       "    </tr>\n",
       "    <tr>\n",
       "      <th>1</th>\n",
       "      <td>RANDOM_MK1</td>\n",
       "      <td>176.88</td>\n",
       "      <td>RANDOM_MK1</td>\n",
       "      <td>105.78</td>\n",
       "      <td>RANDOM_MK1</td>\n",
       "      <td>144.04</td>\n",
       "    </tr>\n",
       "    <tr>\n",
       "      <th>2</th>\n",
       "      <td>RANDOM_MK1</td>\n",
       "      <td>76.12</td>\n",
       "      <td>RANDOM_MK1</td>\n",
       "      <td>77.94</td>\n",
       "      <td>RANDOM_MK1</td>\n",
       "      <td>79.53</td>\n",
       "    </tr>\n",
       "    <tr>\n",
       "      <th>3</th>\n",
       "      <td>RANDOM_MK1</td>\n",
       "      <td>94.88</td>\n",
       "      <td>RANDOM_MK1</td>\n",
       "      <td>103.78</td>\n",
       "      <td>RANDOM_MK1</td>\n",
       "      <td>86.84</td>\n",
       "    </tr>\n",
       "    <tr>\n",
       "      <th>4</th>\n",
       "      <td>RANDOM_MK1</td>\n",
       "      <td>146.49</td>\n",
       "      <td>RANDOM_MK1</td>\n",
       "      <td>96.06</td>\n",
       "      <td>RANDOM_MK1</td>\n",
       "      <td>100.55</td>\n",
       "    </tr>\n",
       "    <tr>\n",
       "      <th>...</th>\n",
       "      <td>...</td>\n",
       "      <td>...</td>\n",
       "      <td>...</td>\n",
       "      <td>...</td>\n",
       "      <td>...</td>\n",
       "      <td>...</td>\n",
       "    </tr>\n",
       "    <tr>\n",
       "      <th>140658</th>\n",
       "      <td>b4661071000002309</td>\n",
       "      <td>139.71</td>\n",
       "      <td>b4661071000002309</td>\n",
       "      <td>113.16</td>\n",
       "      <td>b4661071000002309</td>\n",
       "      <td>93.84</td>\n",
       "    </tr>\n",
       "    <tr>\n",
       "      <th>140659</th>\n",
       "      <td>b4661071000002309</td>\n",
       "      <td>159.86</td>\n",
       "      <td>b4661071000002309</td>\n",
       "      <td>116.84</td>\n",
       "      <td>b4661071000002309</td>\n",
       "      <td>81.35</td>\n",
       "    </tr>\n",
       "    <tr>\n",
       "      <th>140660</th>\n",
       "      <td>b4661071000002309</td>\n",
       "      <td>158.33</td>\n",
       "      <td>b4661071000002309</td>\n",
       "      <td>154.43</td>\n",
       "      <td>b4661071000002309</td>\n",
       "      <td>83.22</td>\n",
       "    </tr>\n",
       "    <tr>\n",
       "      <th>140661</th>\n",
       "      <td>b4661071000002309</td>\n",
       "      <td>134.65</td>\n",
       "      <td>b4661071000002309</td>\n",
       "      <td>102.88</td>\n",
       "      <td>b4661071000002309</td>\n",
       "      <td>89.06</td>\n",
       "    </tr>\n",
       "    <tr>\n",
       "      <th>140662</th>\n",
       "      <td>b4661071000002309</td>\n",
       "      <td>168.51</td>\n",
       "      <td>b4661071000002309</td>\n",
       "      <td>141.92</td>\n",
       "      <td>b4661071000002309</td>\n",
       "      <td>89.71</td>\n",
       "    </tr>\n",
       "  </tbody>\n",
       "</table>\n",
       "<p>140663 rows × 6 columns</p>\n",
       "</div>"
      ],
      "text/plain": [
       "                   SEQ_ID      PM             SEQ_ID      PM  \\\n",
       "0              RANDOM_MK1   71.92         RANDOM_MK1   69.51   \n",
       "1              RANDOM_MK1  176.88         RANDOM_MK1  105.78   \n",
       "2              RANDOM_MK1   76.12         RANDOM_MK1   77.94   \n",
       "3              RANDOM_MK1   94.88         RANDOM_MK1  103.78   \n",
       "4              RANDOM_MK1  146.49         RANDOM_MK1   96.06   \n",
       "...                   ...     ...                ...     ...   \n",
       "140658  b4661071000002309  139.71  b4661071000002309  113.16   \n",
       "140659  b4661071000002309  159.86  b4661071000002309  116.84   \n",
       "140660  b4661071000002309  158.33  b4661071000002309  154.43   \n",
       "140661  b4661071000002309  134.65  b4661071000002309  102.88   \n",
       "140662  b4661071000002309  168.51  b4661071000002309  141.92   \n",
       "\n",
       "                   SEQ_ID      PM  \n",
       "0              RANDOM_MK1   75.04  \n",
       "1              RANDOM_MK1  144.04  \n",
       "2              RANDOM_MK1   79.53  \n",
       "3              RANDOM_MK1   86.84  \n",
       "4              RANDOM_MK1  100.55  \n",
       "...                   ...     ...  \n",
       "140658  b4661071000002309   93.84  \n",
       "140659  b4661071000002309   81.35  \n",
       "140660  b4661071000002309   83.22  \n",
       "140661  b4661071000002309   89.06  \n",
       "140662  b4661071000002309   89.71  \n",
       "\n",
       "[140663 rows x 6 columns]"
      ]
     },
     "execution_count": 127,
     "metadata": {},
     "output_type": "execute_result"
    }
   ],
   "source": [
    "pd.concat([supp[[\"SEQ_ID\", \"PM\"]], supp2[[\"SEQ_ID\", \"PM\"]], supp3[[\"SEQ_ID\", \"PM\"]]], axis=1, join=\"inner\")"
   ]
  },
  {
   "cell_type": "code",
   "execution_count": null,
   "metadata": {},
   "outputs": [],
   "source": []
  },
  {
   "cell_type": "code",
   "execution_count": 120,
   "metadata": {},
   "outputs": [
    {
     "data": {
      "text/plain": [
       "(32, 11)"
      ]
     },
     "execution_count": 120,
     "metadata": {},
     "output_type": "execute_result"
    }
   ],
   "source": [
    "supp[supp.SEQ_ID == \"b0624071000000617\"]"
   ]
  },
  {
   "cell_type": "code",
   "execution_count": 121,
   "metadata": {},
   "outputs": [
    {
     "data": {
      "text/plain": [
       "4677440"
      ]
     },
     "execution_count": 121,
     "metadata": {},
     "output_type": "execute_result"
    }
   ],
   "source": [
    "ndf.shape[0] * 32"
   ]
  },
  {
   "cell_type": "code",
   "execution_count": 95,
   "metadata": {},
   "outputs": [
    {
     "data": {
      "text/plain": [
       "0.995088868101029"
      ]
     },
     "execution_count": 95,
     "metadata": {},
     "output_type": "execute_result"
    }
   ],
   "source": [
    "len(set(supp.SEQ_ID) & set(ndf.SEQ_ID)) / len(set(supp.SEQ_ID) | set(ndf.SEQ_ID))"
   ]
  },
  {
   "cell_type": "code",
   "execution_count": 99,
   "metadata": {},
   "outputs": [
    {
     "data": {
      "text/plain": [
       "1.0"
      ]
     },
     "execution_count": 99,
     "metadata": {},
     "output_type": "execute_result"
    }
   ],
   "source": [
    "len(set(supp.SEQ_ID) & set(ndf.SEQ_ID)) / len(set(supp.SEQ_ID))"
   ]
  },
  {
   "cell_type": "code",
   "execution_count": 96,
   "metadata": {},
   "outputs": [
    {
     "data": {
      "text/plain": [
       "{'CHIP_ID1',\n",
       " 'CHIP_ID2',\n",
       " 'CNC001AMP',\n",
       " 'CNC001DEL',\n",
       " 'CROSSHYBE',\n",
       " 'DESIGN_ID1',\n",
       " 'DESIGN_ID2',\n",
       " 'EMPTY',\n",
       " 'FIDUCIAL_LOWER_LEFT',\n",
       " 'FIDUCIAL_LOWER_RIGHT',\n",
       " 'FIDUCIAL_UPPER_LEFT',\n",
       " 'FIDUCIAL_UPPER_RIGHT',\n",
       " 'LINKER1',\n",
       " 'LINKER2',\n",
       " 'MAGIC_ALIGNMENT1',\n",
       " 'MAGIC_ALIGNMENT2',\n",
       " 'MAGIC_ALIGNMENT3',\n",
       " 'MAGIC_ALIGNMENT4',\n",
       " 'SAMPLE_TRACKING',\n",
       " 'SYNTHESIS',\n",
       " 'UNIFORMITY'}"
      ]
     },
     "execution_count": 96,
     "metadata": {},
     "output_type": "execute_result"
    }
   ],
   "source": [
    "set(supp.SEQ_ID).symmetric_difference( set(ndf.SEQ_ID))"
   ]
  },
  {
   "cell_type": "code",
   "execution_count": 97,
   "metadata": {},
   "outputs": [
    {
     "data": {
      "text/plain": [
       "set()"
      ]
     },
     "execution_count": 97,
     "metadata": {},
     "output_type": "execute_result"
    }
   ],
   "source": [
    "set(supp.SEQ_ID) - set(ndf.SEQ_ID)"
   ]
  },
  {
   "cell_type": "code",
   "execution_count": 103,
   "metadata": {},
   "outputs": [
    {
     "data": {
      "text/html": [
       "<div>\n",
       "<style scoped>\n",
       "    .dataframe tbody tr th:only-of-type {\n",
       "        vertical-align: middle;\n",
       "    }\n",
       "\n",
       "    .dataframe tbody tr th {\n",
       "        vertical-align: top;\n",
       "    }\n",
       "\n",
       "    .dataframe thead th {\n",
       "        text-align: right;\n",
       "    }\n",
       "</style>\n",
       "<table border=\"1\" class=\"dataframe\">\n",
       "  <thead>\n",
       "    <tr style=\"text-align: right;\">\n",
       "      <th></th>\n",
       "      <th>PROBE_DESIGN_ID</th>\n",
       "      <th>CONTAINER</th>\n",
       "      <th>DESIGN_NOTE</th>\n",
       "      <th>SELECTION_CRITERIA</th>\n",
       "      <th>SEQ_ID</th>\n",
       "      <th>PROBE_SEQUENCE</th>\n",
       "      <th>MISMATCH</th>\n",
       "      <th>MATCH_INDEX</th>\n",
       "      <th>FEATURE_ID</th>\n",
       "      <th>ROW_NUM</th>\n",
       "      <th>COL_NUM</th>\n",
       "      <th>PROBE_CLASS</th>\n",
       "      <th>PROBE_ID</th>\n",
       "      <th>POSITION</th>\n",
       "      <th>DESIGN_ID</th>\n",
       "      <th>X</th>\n",
       "      <th>Y</th>\n",
       "    </tr>\n",
       "  </thead>\n",
       "  <tbody>\n",
       "    <tr>\n",
       "      <th>0</th>\n",
       "      <td>579571_0001_0001</td>\n",
       "      <td>NGS_CONTROLS</td>\n",
       "      <td>crosshhybe</td>\n",
       "      <td>bright</td>\n",
       "      <td>CROSSHYBE</td>\n",
       "      <td>TAGCGTTGCTTAGGCGTACGCAGTCTGATGCGTCGTTAGCATCGGC...</td>\n",
       "      <td>0</td>\n",
       "      <td>14538087</td>\n",
       "      <td>14538087</td>\n",
       "      <td>1</td>\n",
       "      <td>1</td>\n",
       "      <td>control:crosshybe</td>\n",
       "      <td>XENOTRACK48P01</td>\n",
       "      <td>1</td>\n",
       "      <td>579571</td>\n",
       "      <td>1</td>\n",
       "      <td>1</td>\n",
       "    </tr>\n",
       "    <tr>\n",
       "      <th>1</th>\n",
       "      <td>579571_0002_0001</td>\n",
       "      <td>NGS_CONTROLS</td>\n",
       "      <td>EMPTY</td>\n",
       "      <td>dark</td>\n",
       "      <td>EMPTY</td>\n",
       "      <td>N</td>\n",
       "      <td>0</td>\n",
       "      <td>14538088</td>\n",
       "      <td>14538088</td>\n",
       "      <td>1</td>\n",
       "      <td>2</td>\n",
       "      <td>control:empty</td>\n",
       "      <td>EMPTY</td>\n",
       "      <td>0</td>\n",
       "      <td>579571</td>\n",
       "      <td>2</td>\n",
       "      <td>1</td>\n",
       "    </tr>\n",
       "    <tr>\n",
       "      <th>2</th>\n",
       "      <td>579571_0003_0001</td>\n",
       "      <td>NGS_CONTROLS</td>\n",
       "      <td>crosshhybe</td>\n",
       "      <td>bright</td>\n",
       "      <td>CROSSHYBE</td>\n",
       "      <td>CGATGCGACGCGAACTAAGCAGTTCGGCGCAGTCGACTAGTATAAC...</td>\n",
       "      <td>0</td>\n",
       "      <td>14538089</td>\n",
       "      <td>14538089</td>\n",
       "      <td>1</td>\n",
       "      <td>3</td>\n",
       "      <td>control:crosshybe</td>\n",
       "      <td>XENOTRACK48P02</td>\n",
       "      <td>2</td>\n",
       "      <td>579571</td>\n",
       "      <td>3</td>\n",
       "      <td>1</td>\n",
       "    </tr>\n",
       "    <tr>\n",
       "      <th>3</th>\n",
       "      <td>579571_0004_0001</td>\n",
       "      <td>NGS_CONTROLS</td>\n",
       "      <td>EMPTY</td>\n",
       "      <td>dark</td>\n",
       "      <td>EMPTY</td>\n",
       "      <td>N</td>\n",
       "      <td>0</td>\n",
       "      <td>14538090</td>\n",
       "      <td>14538090</td>\n",
       "      <td>1</td>\n",
       "      <td>4</td>\n",
       "      <td>control:empty</td>\n",
       "      <td>EMPTY</td>\n",
       "      <td>0</td>\n",
       "      <td>579571</td>\n",
       "      <td>4</td>\n",
       "      <td>1</td>\n",
       "    </tr>\n",
       "    <tr>\n",
       "      <th>4</th>\n",
       "      <td>579571_0005_0001</td>\n",
       "      <td>NGS_CONTROLS</td>\n",
       "      <td>crosshhybe</td>\n",
       "      <td>bright</td>\n",
       "      <td>CROSSHYBE</td>\n",
       "      <td>GTCGCAACGAGTTAGCGTGATCGACTTGACTGCGTACGCACAGCAA...</td>\n",
       "      <td>0</td>\n",
       "      <td>14538091</td>\n",
       "      <td>14538091</td>\n",
       "      <td>1</td>\n",
       "      <td>5</td>\n",
       "      <td>control:crosshybe</td>\n",
       "      <td>XENOTRACK48P03</td>\n",
       "      <td>3</td>\n",
       "      <td>579571</td>\n",
       "      <td>5</td>\n",
       "      <td>1</td>\n",
       "    </tr>\n",
       "    <tr>\n",
       "      <th>...</th>\n",
       "      <td>...</td>\n",
       "      <td>...</td>\n",
       "      <td>...</td>\n",
       "      <td>...</td>\n",
       "      <td>...</td>\n",
       "      <td>...</td>\n",
       "      <td>...</td>\n",
       "      <td>...</td>\n",
       "      <td>...</td>\n",
       "      <td>...</td>\n",
       "      <td>...</td>\n",
       "      <td>...</td>\n",
       "      <td>...</td>\n",
       "      <td>...</td>\n",
       "      <td>...</td>\n",
       "      <td>...</td>\n",
       "      <td>...</td>\n",
       "    </tr>\n",
       "    <tr>\n",
       "      <th>146165</th>\n",
       "      <td>579571_0456_0635</td>\n",
       "      <td>NGS_CONTROLS</td>\n",
       "      <td>EMPTY</td>\n",
       "      <td>dark</td>\n",
       "      <td>EMPTY</td>\n",
       "      <td>N</td>\n",
       "      <td>0</td>\n",
       "      <td>14539184</td>\n",
       "      <td>14539184</td>\n",
       "      <td>635</td>\n",
       "      <td>456</td>\n",
       "      <td>control:empty</td>\n",
       "      <td>EMPTY</td>\n",
       "      <td>0</td>\n",
       "      <td>579571</td>\n",
       "      <td>456</td>\n",
       "      <td>635</td>\n",
       "    </tr>\n",
       "    <tr>\n",
       "      <th>146166</th>\n",
       "      <td>579571_0457_0635</td>\n",
       "      <td>NGS_CONTROLS</td>\n",
       "      <td>crosshhybe</td>\n",
       "      <td>bright</td>\n",
       "      <td>CROSSHYBE</td>\n",
       "      <td>CCGTTGAGTAACGTCGAGCGTTAGGTCTCAGCGTAAGCGTCGATAA...</td>\n",
       "      <td>0</td>\n",
       "      <td>14539183</td>\n",
       "      <td>14539183</td>\n",
       "      <td>635</td>\n",
       "      <td>457</td>\n",
       "      <td>control:crosshybe</td>\n",
       "      <td>XENOTRACK48P09</td>\n",
       "      <td>9</td>\n",
       "      <td>579571</td>\n",
       "      <td>457</td>\n",
       "      <td>635</td>\n",
       "    </tr>\n",
       "    <tr>\n",
       "      <th>146167</th>\n",
       "      <td>579571_0458_0635</td>\n",
       "      <td>NGS_CONTROLS</td>\n",
       "      <td>EMPTY</td>\n",
       "      <td>dark</td>\n",
       "      <td>EMPTY</td>\n",
       "      <td>N</td>\n",
       "      <td>0</td>\n",
       "      <td>14539182</td>\n",
       "      <td>14539182</td>\n",
       "      <td>635</td>\n",
       "      <td>458</td>\n",
       "      <td>control:empty</td>\n",
       "      <td>EMPTY</td>\n",
       "      <td>0</td>\n",
       "      <td>579571</td>\n",
       "      <td>458</td>\n",
       "      <td>635</td>\n",
       "    </tr>\n",
       "    <tr>\n",
       "      <th>146168</th>\n",
       "      <td>579571_0459_0635</td>\n",
       "      <td>NGS_CONTROLS</td>\n",
       "      <td>crosshhybe</td>\n",
       "      <td>bright</td>\n",
       "      <td>CROSSHYBE</td>\n",
       "      <td>CCGCGTGCAATTATCGGAGTCTAGCGGAAGTACACAACTCGGTCGT...</td>\n",
       "      <td>0</td>\n",
       "      <td>14539181</td>\n",
       "      <td>14539181</td>\n",
       "      <td>635</td>\n",
       "      <td>459</td>\n",
       "      <td>control:crosshybe</td>\n",
       "      <td>XENOTRACK48P08</td>\n",
       "      <td>8</td>\n",
       "      <td>579571</td>\n",
       "      <td>459</td>\n",
       "      <td>635</td>\n",
       "    </tr>\n",
       "    <tr>\n",
       "      <th>146169</th>\n",
       "      <td>579571_0460_0635</td>\n",
       "      <td>NGS_CONTROLS</td>\n",
       "      <td>EMPTY</td>\n",
       "      <td>dark</td>\n",
       "      <td>EMPTY</td>\n",
       "      <td>N</td>\n",
       "      <td>0</td>\n",
       "      <td>14539180</td>\n",
       "      <td>14539180</td>\n",
       "      <td>635</td>\n",
       "      <td>460</td>\n",
       "      <td>control:empty</td>\n",
       "      <td>EMPTY</td>\n",
       "      <td>0</td>\n",
       "      <td>579571</td>\n",
       "      <td>460</td>\n",
       "      <td>635</td>\n",
       "    </tr>\n",
       "  </tbody>\n",
       "</table>\n",
       "<p>5507 rows × 17 columns</p>\n",
       "</div>"
      ],
      "text/plain": [
       "         PROBE_DESIGN_ID     CONTAINER DESIGN_NOTE SELECTION_CRITERIA  \\\n",
       "0       579571_0001_0001  NGS_CONTROLS  crosshhybe             bright   \n",
       "1       579571_0002_0001  NGS_CONTROLS       EMPTY               dark   \n",
       "2       579571_0003_0001  NGS_CONTROLS  crosshhybe             bright   \n",
       "3       579571_0004_0001  NGS_CONTROLS       EMPTY               dark   \n",
       "4       579571_0005_0001  NGS_CONTROLS  crosshhybe             bright   \n",
       "...                  ...           ...         ...                ...   \n",
       "146165  579571_0456_0635  NGS_CONTROLS       EMPTY               dark   \n",
       "146166  579571_0457_0635  NGS_CONTROLS  crosshhybe             bright   \n",
       "146167  579571_0458_0635  NGS_CONTROLS       EMPTY               dark   \n",
       "146168  579571_0459_0635  NGS_CONTROLS  crosshhybe             bright   \n",
       "146169  579571_0460_0635  NGS_CONTROLS       EMPTY               dark   \n",
       "\n",
       "           SEQ_ID                                     PROBE_SEQUENCE  \\\n",
       "0       CROSSHYBE  TAGCGTTGCTTAGGCGTACGCAGTCTGATGCGTCGTTAGCATCGGC...   \n",
       "1           EMPTY                                                  N   \n",
       "2       CROSSHYBE  CGATGCGACGCGAACTAAGCAGTTCGGCGCAGTCGACTAGTATAAC...   \n",
       "3           EMPTY                                                  N   \n",
       "4       CROSSHYBE  GTCGCAACGAGTTAGCGTGATCGACTTGACTGCGTACGCACAGCAA...   \n",
       "...           ...                                                ...   \n",
       "146165      EMPTY                                                  N   \n",
       "146166  CROSSHYBE  CCGTTGAGTAACGTCGAGCGTTAGGTCTCAGCGTAAGCGTCGATAA...   \n",
       "146167      EMPTY                                                  N   \n",
       "146168  CROSSHYBE  CCGCGTGCAATTATCGGAGTCTAGCGGAAGTACACAACTCGGTCGT...   \n",
       "146169      EMPTY                                                  N   \n",
       "\n",
       "        MISMATCH  MATCH_INDEX  FEATURE_ID  ROW_NUM  COL_NUM  \\\n",
       "0              0     14538087    14538087        1        1   \n",
       "1              0     14538088    14538088        1        2   \n",
       "2              0     14538089    14538089        1        3   \n",
       "3              0     14538090    14538090        1        4   \n",
       "4              0     14538091    14538091        1        5   \n",
       "...          ...          ...         ...      ...      ...   \n",
       "146165         0     14539184    14539184      635      456   \n",
       "146166         0     14539183    14539183      635      457   \n",
       "146167         0     14539182    14539182      635      458   \n",
       "146168         0     14539181    14539181      635      459   \n",
       "146169         0     14539180    14539180      635      460   \n",
       "\n",
       "              PROBE_CLASS        PROBE_ID  POSITION  DESIGN_ID    X    Y  \n",
       "0       control:crosshybe  XENOTRACK48P01         1     579571    1    1  \n",
       "1           control:empty           EMPTY         0     579571    2    1  \n",
       "2       control:crosshybe  XENOTRACK48P02         2     579571    3    1  \n",
       "3           control:empty           EMPTY         0     579571    4    1  \n",
       "4       control:crosshybe  XENOTRACK48P03         3     579571    5    1  \n",
       "...                   ...             ...       ...        ...  ...  ...  \n",
       "146165      control:empty           EMPTY         0     579571  456  635  \n",
       "146166  control:crosshybe  XENOTRACK48P09         9     579571  457  635  \n",
       "146167      control:empty           EMPTY         0     579571  458  635  \n",
       "146168  control:crosshybe  XENOTRACK48P08         8     579571  459  635  \n",
       "146169      control:empty           EMPTY         0     579571  460  635  \n",
       "\n",
       "[5507 rows x 17 columns]"
      ]
     },
     "execution_count": 103,
     "metadata": {},
     "output_type": "execute_result"
    }
   ],
   "source": [
    "ndf[ndf.SEQ_ID.isin(set(ndf.SEQ_ID) - set(supp.SEQ_ID)) ]"
   ]
  },
  {
   "cell_type": "code",
   "execution_count": 104,
   "metadata": {},
   "outputs": [
    {
     "data": {
      "text/plain": [
       "5507"
      ]
     },
     "execution_count": 104,
     "metadata": {},
     "output_type": "execute_result"
    }
   ],
   "source": [
    "ndf.shape[0] - supp.shape[0]"
   ]
  },
  {
   "cell_type": "code",
   "execution_count": null,
   "metadata": {},
   "outputs": [],
   "source": []
  },
  {
   "cell_type": "markdown",
   "metadata": {},
   "source": [
    "# GPL supplementary files availability"
   ]
  },
  {
   "cell_type": "code",
   "execution_count": 46,
   "metadata": {},
   "outputs": [],
   "source": [
    "path = \"/export/space2/users/diegocar/Test/Query/2312/07_getGeoTest/getGeoTest.tsv\"\n",
    "data = pd.read_csv(path, sep='\\t')\n",
    "download = pd.read_csv(\"../../abasySpecieFiles/downloadPaths.tsv\", sep='\\t')\n",
    "newData = pd.merge(download[[\"GSM_geo_accession\", \"Local_path\", \"File_name\", \"is_processable\"]],\n",
    "                    data[[\"GSM_geo_accession\", \"GPL_manufacturer\", \"GPL_supplementary_file\", \"GPL_geo_accession\"]],\n",
    "                      on=\"GSM_geo_accession\").drop_duplicates()"
   ]
  },
  {
   "cell_type": "code",
   "execution_count": 47,
   "metadata": {},
   "outputs": [],
   "source": [
    "gplTables = \"/export/storage/users/diegocar/abasySpecieFiles/GPL_Tables\"\n",
    "temp = {gpl.rstrip('.txt') : os.path.join(gplTables, gpl) for gpl in os.listdir(gplTables)}\n",
    "temp = pd.DataFrame.from_dict({\"GPL_geo_accession\":temp.keys(), \"GPL_table\":temp.values()})\n",
    "data = newData.merge(temp, how=\"left\")\n",
    "data[\"GPL_table\"] = data.GPL_table.fillna(False)\n",
    "data[\"GPL_supplementary_file\"] = data.GPL_supplementary_file.fillna(False)"
   ]
  },
  {
   "cell_type": "code",
   "execution_count": 80,
   "metadata": {},
   "outputs": [],
   "source": [
    "def classify(row):\n",
    "    t = bool(row.GPL_table)\n",
    "    s = bool(row.GPL_supplementary_file)\n",
    "    if t and s: return \"Both\"\n",
    "    if t and not s: return \"OnlyTable\"\n",
    "    if not t and s: return \"OnlySupp\"\n",
    "    if not t and not s: return \"None\"\n",
    "data[\"Class\"] = data.apply(classify, axis=1)"
   ]
  },
  {
   "cell_type": "code",
   "execution_count": 98,
   "metadata": {},
   "outputs": [
    {
     "data": {
      "text/plain": [
       "Class\n",
       "OnlyTable    120\n",
       "Both          68\n",
       "OnlySupp       1\n",
       "Name: count, dtype: int64"
      ]
     },
     "execution_count": 98,
     "metadata": {},
     "output_type": "execute_result"
    }
   ],
   "source": [
    "data[[\"GPL_geo_accession\", \"Class\"]].drop_duplicates().Class.value_counts()"
   ]
  },
  {
   "cell_type": "code",
   "execution_count": 102,
   "metadata": {},
   "outputs": [
    {
     "data": {
      "text/html": [
       "<div>\n",
       "<style scoped>\n",
       "    .dataframe tbody tr th:only-of-type {\n",
       "        vertical-align: middle;\n",
       "    }\n",
       "\n",
       "    .dataframe tbody tr th {\n",
       "        vertical-align: top;\n",
       "    }\n",
       "\n",
       "    .dataframe thead th {\n",
       "        text-align: right;\n",
       "    }\n",
       "</style>\n",
       "<table border=\"1\" class=\"dataframe\">\n",
       "  <thead>\n",
       "    <tr style=\"text-align: right;\">\n",
       "      <th></th>\n",
       "      <th>GSM_geo_accession</th>\n",
       "      <th>Local_path</th>\n",
       "      <th>File_name</th>\n",
       "      <th>is_processable</th>\n",
       "      <th>GPL_manufacturer</th>\n",
       "      <th>GPL_supplementary_file</th>\n",
       "      <th>GPL_geo_accession</th>\n",
       "      <th>GPL_table</th>\n",
       "      <th>Class</th>\n",
       "      <th>hasType</th>\n",
       "      <th>ClassR</th>\n",
       "    </tr>\n",
       "  </thead>\n",
       "  <tbody>\n",
       "    <tr>\n",
       "      <th>5991</th>\n",
       "      <td>GSM1448888</td>\n",
       "      <td>/export/storage/users/diegocar/abasySpecieFile...</td>\n",
       "      <td>GSM1448888_HZI2999_PATA1w520385F.CEL</td>\n",
       "      <td>True</td>\n",
       "      <td>Affymetrix</td>\n",
       "      <td>geo/platforms/GPL19nnn/GPL19010/suppl/GPL19010...</td>\n",
       "      <td>GPL19010</td>\n",
       "      <td>False</td>\n",
       "      <td>OnlySupp</td>\n",
       "      <td>False</td>\n",
       "      <td>None</td>\n",
       "    </tr>\n",
       "    <tr>\n",
       "      <th>5992</th>\n",
       "      <td>GSM1448888</td>\n",
       "      <td>/export/storage/users/diegocar/abasySpecieFile...</td>\n",
       "      <td>GSM1448888_PA4203-1_vs_H2O2_pvalue.bar</td>\n",
       "      <td>False</td>\n",
       "      <td>Affymetrix</td>\n",
       "      <td>geo/platforms/GPL19nnn/GPL19010/suppl/GPL19010...</td>\n",
       "      <td>GPL19010</td>\n",
       "      <td>False</td>\n",
       "      <td>OnlySupp</td>\n",
       "      <td>False</td>\n",
       "      <td>None</td>\n",
       "    </tr>\n",
       "    <tr>\n",
       "      <th>5993</th>\n",
       "      <td>GSM1448888</td>\n",
       "      <td>/export/storage/users/diegocar/abasySpecieFile...</td>\n",
       "      <td>GSM1448888_PA4203-1_vs_H2O2_signal.bar</td>\n",
       "      <td>False</td>\n",
       "      <td>Affymetrix</td>\n",
       "      <td>geo/platforms/GPL19nnn/GPL19010/suppl/GPL19010...</td>\n",
       "      <td>GPL19010</td>\n",
       "      <td>False</td>\n",
       "      <td>OnlySupp</td>\n",
       "      <td>False</td>\n",
       "      <td>None</td>\n",
       "    </tr>\n",
       "    <tr>\n",
       "      <th>5994</th>\n",
       "      <td>GSM1448889</td>\n",
       "      <td>/export/storage/users/diegocar/abasySpecieFile...</td>\n",
       "      <td>GSM1448889_HZI3000_PATA1w520385F.CEL</td>\n",
       "      <td>True</td>\n",
       "      <td>Affymetrix</td>\n",
       "      <td>geo/platforms/GPL19nnn/GPL19010/suppl/GPL19010...</td>\n",
       "      <td>GPL19010</td>\n",
       "      <td>False</td>\n",
       "      <td>OnlySupp</td>\n",
       "      <td>False</td>\n",
       "      <td>None</td>\n",
       "    </tr>\n",
       "    <tr>\n",
       "      <th>5995</th>\n",
       "      <td>GSM1448889</td>\n",
       "      <td>/export/storage/users/diegocar/abasySpecieFile...</td>\n",
       "      <td>GSM1448889_PA4203-2_vs_H2O2_pvalue.bar</td>\n",
       "      <td>False</td>\n",
       "      <td>Affymetrix</td>\n",
       "      <td>geo/platforms/GPL19nnn/GPL19010/suppl/GPL19010...</td>\n",
       "      <td>GPL19010</td>\n",
       "      <td>False</td>\n",
       "      <td>OnlySupp</td>\n",
       "      <td>False</td>\n",
       "      <td>None</td>\n",
       "    </tr>\n",
       "    <tr>\n",
       "      <th>5996</th>\n",
       "      <td>GSM1448889</td>\n",
       "      <td>/export/storage/users/diegocar/abasySpecieFile...</td>\n",
       "      <td>GSM1448889_PA4203-2_vs_H2O2_signal.bar</td>\n",
       "      <td>False</td>\n",
       "      <td>Affymetrix</td>\n",
       "      <td>geo/platforms/GPL19nnn/GPL19010/suppl/GPL19010...</td>\n",
       "      <td>GPL19010</td>\n",
       "      <td>False</td>\n",
       "      <td>OnlySupp</td>\n",
       "      <td>False</td>\n",
       "      <td>None</td>\n",
       "    </tr>\n",
       "    <tr>\n",
       "      <th>5997</th>\n",
       "      <td>GSM1448890</td>\n",
       "      <td>/export/storage/users/diegocar/abasySpecieFile...</td>\n",
       "      <td>GSM1448890_HZI3002_PATA1w520385F.CEL</td>\n",
       "      <td>True</td>\n",
       "      <td>Affymetrix</td>\n",
       "      <td>geo/platforms/GPL19nnn/GPL19010/suppl/GPL19010...</td>\n",
       "      <td>GPL19010</td>\n",
       "      <td>False</td>\n",
       "      <td>OnlySupp</td>\n",
       "      <td>False</td>\n",
       "      <td>None</td>\n",
       "    </tr>\n",
       "  </tbody>\n",
       "</table>\n",
       "</div>"
      ],
      "text/plain": [
       "     GSM_geo_accession                                         Local_path  \\\n",
       "5991        GSM1448888  /export/storage/users/diegocar/abasySpecieFile...   \n",
       "5992        GSM1448888  /export/storage/users/diegocar/abasySpecieFile...   \n",
       "5993        GSM1448888  /export/storage/users/diegocar/abasySpecieFile...   \n",
       "5994        GSM1448889  /export/storage/users/diegocar/abasySpecieFile...   \n",
       "5995        GSM1448889  /export/storage/users/diegocar/abasySpecieFile...   \n",
       "5996        GSM1448889  /export/storage/users/diegocar/abasySpecieFile...   \n",
       "5997        GSM1448890  /export/storage/users/diegocar/abasySpecieFile...   \n",
       "\n",
       "                                   File_name  is_processable GPL_manufacturer  \\\n",
       "5991    GSM1448888_HZI2999_PATA1w520385F.CEL            True       Affymetrix   \n",
       "5992  GSM1448888_PA4203-1_vs_H2O2_pvalue.bar           False       Affymetrix   \n",
       "5993  GSM1448888_PA4203-1_vs_H2O2_signal.bar           False       Affymetrix   \n",
       "5994    GSM1448889_HZI3000_PATA1w520385F.CEL            True       Affymetrix   \n",
       "5995  GSM1448889_PA4203-2_vs_H2O2_pvalue.bar           False       Affymetrix   \n",
       "5996  GSM1448889_PA4203-2_vs_H2O2_signal.bar           False       Affymetrix   \n",
       "5997    GSM1448890_HZI3002_PATA1w520385F.CEL            True       Affymetrix   \n",
       "\n",
       "                                 GPL_supplementary_file GPL_geo_accession  \\\n",
       "5991  geo/platforms/GPL19nnn/GPL19010/suppl/GPL19010...          GPL19010   \n",
       "5992  geo/platforms/GPL19nnn/GPL19010/suppl/GPL19010...          GPL19010   \n",
       "5993  geo/platforms/GPL19nnn/GPL19010/suppl/GPL19010...          GPL19010   \n",
       "5994  geo/platforms/GPL19nnn/GPL19010/suppl/GPL19010...          GPL19010   \n",
       "5995  geo/platforms/GPL19nnn/GPL19010/suppl/GPL19010...          GPL19010   \n",
       "5996  geo/platforms/GPL19nnn/GPL19010/suppl/GPL19010...          GPL19010   \n",
       "5997  geo/platforms/GPL19nnn/GPL19010/suppl/GPL19010...          GPL19010   \n",
       "\n",
       "     GPL_table     Class  hasType ClassR  \n",
       "5991     False  OnlySupp    False   None  \n",
       "5992     False  OnlySupp    False   None  \n",
       "5993     False  OnlySupp    False   None  \n",
       "5994     False  OnlySupp    False   None  \n",
       "5995     False  OnlySupp    False   None  \n",
       "5996     False  OnlySupp    False   None  \n",
       "5997     False  OnlySupp    False   None  "
      ]
     },
     "execution_count": 102,
     "metadata": {},
     "output_type": "execute_result"
    }
   ],
   "source": [
    "data[data.Class == \"OnlySupp\"]"
   ]
  },
  {
   "cell_type": "code",
   "execution_count": 101,
   "metadata": {},
   "outputs": [
    {
     "data": {
      "text/plain": [
       "Class\n",
       "OnlyTable    4665\n",
       "Both         2444\n",
       "OnlySupp        3\n",
       "Name: count, dtype: int64"
      ]
     },
     "execution_count": 101,
     "metadata": {},
     "output_type": "execute_result"
    }
   ],
   "source": [
    "data[[\"GSM_geo_accession\", \"Class\"]].drop_duplicates().Class.value_counts()"
   ]
  },
  {
   "cell_type": "code",
   "execution_count": 84,
   "metadata": {},
   "outputs": [],
   "source": [
    "def hasType(row):\n",
    "    files = {\"Affymetrix\":r\"\\.cdf\", \"Agilent\":r\"\\.gal\", \"NimbleGen\":r\"\\.ndf\"}\n",
    "    return (supp := row.GPL_supplementary_file) and bool(temp := (files.get(row.GPL_manufacturer))) and bool(re.search(temp, supp, flags=re.IGNORECASE))"
   ]
  },
  {
   "cell_type": "code",
   "execution_count": 85,
   "metadata": {},
   "outputs": [],
   "source": [
    "data[\"hasType\"] = data.apply(hasType, axis=1)"
   ]
  },
  {
   "cell_type": "code",
   "execution_count": 99,
   "metadata": {},
   "outputs": [
    {
     "data": {
      "text/plain": [
       "ClassR\n",
       "OnlyTable    146\n",
       "Both          42\n",
       "None           1\n",
       "Name: count, dtype: int64"
      ]
     },
     "execution_count": 99,
     "metadata": {},
     "output_type": "execute_result"
    }
   ],
   "source": [
    "def classifyR(row):\n",
    "    t = bool(row.GPL_table)\n",
    "    s = bool(row.GPL_supplementary_file) and bool(row.hasType)\n",
    "    if t and s: return \"Both\"\n",
    "    if t and not s: return \"OnlyTable\"\n",
    "    if not t and s: return \"OnlySupp\"\n",
    "    if not t and not s: return \"None\"\n",
    "data[\"ClassR\"] = data.apply(classifyR, axis=1)\n",
    "data[[\"GPL_geo_accession\", \"ClassR\"]].drop_duplicates().ClassR.value_counts()"
   ]
  },
  {
   "cell_type": "code",
   "execution_count": 100,
   "metadata": {},
   "outputs": [
    {
     "data": {
      "text/plain": [
       "ClassR\n",
       "OnlyTable    5107\n",
       "Both         2002\n",
       "None            3\n",
       "Name: count, dtype: int64"
      ]
     },
     "execution_count": 100,
     "metadata": {},
     "output_type": "execute_result"
    }
   ],
   "source": [
    "data[[\"GSM_geo_accession\", \"ClassR\"]].drop_duplicates().ClassR.value_counts()"
   ]
  },
  {
   "cell_type": "code",
   "execution_count": 121,
   "metadata": {},
   "outputs": [
    {
     "data": {
      "text/plain": [
       "array(['GPL343', 'GPL3154', 'GPL199', 'GPL84', 'GPL1339', 'GPL9953'],\n",
       "      dtype=object)"
      ]
     },
     "execution_count": 121,
     "metadata": {},
     "output_type": "execute_result"
    }
   ],
   "source": [
    "data[data.GPL_manufacturer.isin([\"Affymetrix\"]) & (data.Class == \"OnlyTable\")].GPL_geo_accession.unique()"
   ]
  },
  {
   "cell_type": "code",
   "execution_count": null,
   "metadata": {},
   "outputs": [],
   "source": [
    "# Cambiar clasificación a good supp, bad supp and no supp"
   ]
  },
  {
   "cell_type": "code",
   "execution_count": 116,
   "metadata": {},
   "outputs": [
    {
     "data": {
      "text/plain": [
       "'GSM4505453_168_lysis.phase_1_FEoutput.txt'"
      ]
     },
     "execution_count": 116,
     "metadata": {},
     "output_type": "execute_result"
    }
   ],
   "source": [
    "data[data.GPL_geo_accession == \"GPL21669\"].iloc[0].File_name"
   ]
  }
 ],
 "metadata": {
  "kernelspec": {
   "display_name": "MicroarrayProject",
   "language": "python",
   "name": "python3"
  },
  "language_info": {
   "codemirror_mode": {
    "name": "ipython",
    "version": 3
   },
   "file_extension": ".py",
   "mimetype": "text/x-python",
   "name": "python",
   "nbconvert_exporter": "python",
   "pygments_lexer": "ipython3",
   "version": "3.12.0"
  }
 },
 "nbformat": 4,
 "nbformat_minor": 2
}
